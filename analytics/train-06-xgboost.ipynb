{
 "cells": [
  {
   "cell_type": "code",
   "execution_count": 1,
   "id": "228f0b0d-dff2-4cb6-9348-14cd5ce0f9ac",
   "metadata": {},
   "outputs": [],
   "source": [
    "from datetime import datetime, timedelta\n",
    "from collections import defaultdict\n",
    "\n",
    "import pandas as pd\n",
    "import numpy as np"
   ]
  },
  {
   "cell_type": "code",
   "execution_count": 2,
   "id": "c874b7c8-282f-40ac-9e8c-2f1d1b3145fd",
   "metadata": {},
   "outputs": [],
   "source": [
    "import matplotlib.pyplot as plt\n",
    "import seaborn as sns"
   ]
  },
  {
   "cell_type": "code",
   "execution_count": 3,
   "id": "d863c601-1f27-4603-9155-e8532633e096",
   "metadata": {},
   "outputs": [],
   "source": [
    "from sklearn.feature_extraction import DictVectorizer\n",
    "from sklearn.metrics import roc_auc_score\n",
    "from sklearn.pipeline import Pipeline, make_pipeline"
   ]
  },
  {
   "cell_type": "code",
   "execution_count": 11,
   "id": "1f8d5563-0246-4e0e-a037-27e062593537",
   "metadata": {},
   "outputs": [],
   "source": [
    "import xgboost as xgb"
   ]
  },
  {
   "cell_type": "code",
   "execution_count": 5,
   "id": "69d21c5a-92dd-4067-a3df-1182c602d205",
   "metadata": {},
   "outputs": [
    {
     "name": "stderr",
     "output_type": "stream",
     "text": [
      "2024/11/17 12:53:17 INFO mlflow.tracking.fluent: Experiment with name 'xgboost_tree_tuning' does not exist. Creating a new experiment.\n"
     ]
    },
    {
     "data": {
      "text/plain": [
       "<Experiment: artifact_location='/workspaces/lld-lead-scoring/analytics/mlruns/4', creation_time=1731847997784, experiment_id='4', last_update_time=1731847997784, lifecycle_stage='active', name='xgboost_tree_tuning', tags={}>"
      ]
     },
     "execution_count": 5,
     "metadata": {},
     "output_type": "execute_result"
    }
   ],
   "source": [
    "import mlflow\n",
    "\n",
    "mlflow.set_tracking_uri(\"http://localhost:5000\")\n",
    "mlflow.set_experiment(\"xgboost_tree_tuning\")"
   ]
  },
  {
   "cell_type": "code",
   "execution_count": 6,
   "id": "225402d5-108d-43a8-a3a6-ed404668dd7e",
   "metadata": {},
   "outputs": [],
   "source": [
    "df_users = pd.read_csv('../data/random-users.csv')\n",
    "df_logs = pd.read_csv('../data/random-logs.csv')"
   ]
  },
  {
   "cell_type": "code",
   "execution_count": 7,
   "id": "39d03771-9e4b-4aea-a0f3-c4bb74521e8f",
   "metadata": {},
   "outputs": [],
   "source": [
    "def preprocess_required_features(df):\n",
    "    df = df.copy()\n",
    "    \n",
    "    def process_feature_string(feature_string):\n",
    "        features = [f.strip() for f in feature_string.split(',')]\n",
    "        return {f'required_feature_{feature}': 1 for feature in features}\n",
    "    \n",
    "    feature_dicts = df['required_features'].apply(process_feature_string)\n",
    "    df = df.drop('required_features', axis=1)\n",
    "    record_dicts = df.to_dict('records')\n",
    "    \n",
    "    for record, feature_dict in zip(record_dicts, feature_dicts):\n",
    "        record.update(feature_dict)\n",
    "    \n",
    "    return record_dicts"
   ]
  },
  {
   "cell_type": "code",
   "execution_count": 8,
   "id": "0ce182f6-437c-47df-8a6f-4e32c5d7a8e6",
   "metadata": {},
   "outputs": [],
   "source": [
    "def create_log_features(df_users, df_logs, cutoff_date):\n",
    "    df_logs_filtered = df_logs[df_logs['timestamp'] < cutoff_date].copy()\n",
    "    \n",
    "    engagement_metrics = df_logs_filtered.groupby('user_id').agg({\n",
    "        'timestamp': ['count', 'nunique'],  # Total actions and unique days\n",
    "        'duration_seconds': ['sum', 'mean', 'std']  # Time spent metrics\n",
    "    }).round(2)\n",
    "    \n",
    "    engagement_metrics.columns = [\n",
    "        'total_actions',\n",
    "        'active_days',\n",
    "        'total_duration',\n",
    "        'avg_duration',\n",
    "        'std_duration'\n",
    "    ]\n",
    "    \n",
    "    # Action category distribution\n",
    "    category_counts = df_logs_filtered.groupby(['user_id', 'action_category']).size().unstack(\n",
    "        fill_value=0\n",
    "    ).add_prefix('category_')\n",
    "    \n",
    "    # Action type distribution (top 10 most common)\n",
    "    top_actions = df_logs_filtered['action_type'].value_counts().nlargest(10).index\n",
    "    action_counts = df_logs_filtered[df_logs_filtered['action_type'].isin(top_actions)]\\\n",
    "        .groupby(['user_id', 'action_type']).size().unstack(fill_value=0).add_prefix('action_')\n",
    "    \n",
    "    # Time-based features\n",
    "    df_logs_filtered['hour'] = df_logs_filtered['timestamp'].dt.hour\n",
    "    time_metrics = df_logs_filtered.groupby('user_id').agg({\n",
    "        'hour': lambda x: len(x[x.between(9, 17)]) / len(x)  # Fraction of activity during business hours\n",
    "    }).round(2)\n",
    "    time_metrics.columns = ['business_hours_ratio']\n",
    "    \n",
    "    # Activity patterns\n",
    "    df_logs_filtered['days_since_signup'] = (\n",
    "        df_logs_filtered['timestamp'] - \n",
    "        df_logs_filtered['user_id'].map(df_users.set_index('user_id')['signup_date'])\n",
    "    ).dt.days\n",
    "    \n",
    "    recency_metrics = df_logs_filtered.groupby('user_id').agg({\n",
    "        'days_since_signup': ['min', 'max']\n",
    "    }).round(2)\n",
    "    recency_metrics.columns = ['days_to_first_action', 'days_to_last_action']\n",
    "    \n",
    "    # Advanced engagement metrics\n",
    "    df_logs_filtered['prev_timestamp'] = df_logs_filtered.groupby('user_id')['timestamp'].shift(1)\n",
    "    df_logs_filtered['time_between_actions'] = (\n",
    "        df_logs_filtered['timestamp'] - df_logs_filtered['prev_timestamp']\n",
    "    ).dt.total_seconds() / 3600  # Convert to hours\n",
    "    \n",
    "    engagement_patterns = df_logs_filtered.groupby('user_id').agg({\n",
    "        'time_between_actions': ['mean', 'std']\n",
    "    }).round(2)\n",
    "    engagement_patterns.columns = ['avg_hours_between_actions', 'std_hours_between_actions']\n",
    "    \n",
    "    # Feature importance indicators\n",
    "    feature_exploration = df_logs_filtered[\n",
    "        df_logs_filtered['action_type'] == 'view_features'\n",
    "    ].groupby('user_id').size().to_frame('feature_views')\n",
    "    \n",
    "    # Combine all features\n",
    "    log_features = pd.concat([\n",
    "        engagement_metrics,\n",
    "        category_counts,\n",
    "        action_counts,\n",
    "        time_metrics,\n",
    "        recency_metrics,\n",
    "        engagement_patterns,\n",
    "        feature_exploration\n",
    "    ], axis=1).reset_index()\n",
    "    \n",
    "    # Fill NaN values with 0 for new users or users with missing metrics\n",
    "    log_features = log_features.fillna(0)\n",
    "    \n",
    "    return log_features\n",
    "\n",
    "\n",
    "def prepare_lead_scoring_data(df_users, df_logs, train_end_date, val_end_date):\n",
    "    df_users = df_users.copy()\n",
    "    df_logs = df_logs.copy()\n",
    "    \n",
    "    df_users['signup_date'] = pd.to_datetime(df_users['signup_date'])\n",
    "    df_logs['timestamp'] = pd.to_datetime(df_logs['timestamp'])\n",
    "    \n",
    "    train_end_date = pd.to_datetime(train_end_date)\n",
    "    val_end_date = pd.to_datetime(val_end_date)\n",
    "    \n",
    "    train_mask = df_users['signup_date'] < train_end_date\n",
    "    val_mask = (df_users['signup_date'] >= train_end_date) & (df_users['signup_date'] < val_end_date)\n",
    "    test_mask = df_users['signup_date'] >= val_end_date\n",
    "    \n",
    "    df_train = df_users[train_mask].copy()\n",
    "    df_val = df_users[val_mask].copy()\n",
    "    df_test = df_users[test_mask].copy()\n",
    "    \n",
    "    train_features = create_log_features(df_users, df_logs, train_end_date)\n",
    "    val_features = create_log_features(df_users, df_logs, val_end_date)\n",
    "    test_features = create_log_features(df_users, df_logs, df_logs['timestamp'].max())\n",
    "\n",
    "    df_train = df_train.merge(train_features, on='user_id', how='left')\n",
    "    df_val = df_val.merge(val_features, on='user_id', how='left')\n",
    "    df_test = df_test.merge(test_features, on='user_id', how='left')\n",
    "\n",
    "    return df_train, df_val, df_test"
   ]
  },
  {
   "cell_type": "code",
   "execution_count": 9,
   "id": "6e21c5b0-a1ae-4a00-91b1-4bd3d29d469d",
   "metadata": {},
   "outputs": [],
   "source": [
    "df_train, df_val, df_test = prepare_lead_scoring_data(\n",
    "    df_users,\n",
    "    df_logs,\n",
    "    train_end_date='2024-03-01',\n",
    "    val_end_date='2024-03-15'\n",
    ")"
   ]
  },
  {
   "cell_type": "code",
   "execution_count": 10,
   "id": "be980606-f060-44ab-a955-465c3113fe70",
   "metadata": {},
   "outputs": [],
   "source": [
    "def prepare_features(df):\n",
    "    df = df.copy()\n",
    "    \n",
    "    date_columns = ['signup_date', 'conversion_date']\n",
    "    exclude_columns = ['user_id', 'converted'] + date_columns\n",
    "\n",
    "    df = df.drop(columns=exclude_columns)\n",
    "    df = df.fillna(0)\n",
    "    feature_dict = preprocess_required_features(df)\n",
    "\n",
    "    return feature_dict\n",
    "\n",
    "train_dicts = prepare_features(df_train)\n",
    "val_dicts = prepare_features(df_val)\n",
    "test_dicts = prepare_features(df_test)\n",
    "\n",
    "y_train = df_train['converted'].values\n",
    "y_val = df_val['converted'].values\n",
    "y_test = df_test['converted'].values"
   ]
  },
  {
   "cell_type": "markdown",
   "id": "06515df0-486d-47bd-ba51-abe854bc3068",
   "metadata": {},
   "source": [
    "## Training a single XGBoost model\n",
    "\n",
    "Using Scikit-Learn wrapper"
   ]
  },
  {
   "cell_type": "code",
   "execution_count": 103,
   "id": "50ec5fb7-3da8-4576-b893-ba1ceb0b407a",
   "metadata": {},
   "outputs": [
    {
     "data": {
      "text/plain": [
       "np.float64(0.6090384188318898)"
      ]
     },
     "execution_count": 103,
     "metadata": {},
     "output_type": "execute_result"
    }
   ],
   "source": [
    "pipeline = make_pipeline(\n",
    "    DictVectorizer(),\n",
    "    xgb.XGBClassifier(\n",
    "        n_estimators=34,\n",
    "        max_depth=3,\n",
    "        learning_rate=0.05,\n",
    "        subsample=0.8,\n",
    "        colsample_bytree=0.8,\n",
    "        random_state=1,\n",
    "        n_jobs=-1\n",
    "    )\n",
    ")\n",
    "\n",
    "pipeline.fit(train_dicts, y_train)\n",
    "\n",
    "y_pred = pipeline.predict_proba(val_dicts)[:, 1]\n",
    "val_auc = roc_auc_score(y_val, y_pred)\n",
    "val_auc"
   ]
  },
  {
   "cell_type": "markdown",
   "id": "4d750373-2445-44f7-bb9a-fd61619b8671",
   "metadata": {},
   "source": [
    "## Multi-Step training \n",
    "\n",
    "With scikit-learn wrapper and warm start"
   ]
  },
  {
   "cell_type": "code",
   "execution_count": 52,
   "id": "0486beac-f778-40da-aa75-997c00a6dd0f",
   "metadata": {},
   "outputs": [],
   "source": [
    "dv = DictVectorizer()\n",
    "X_train = dv.fit_transform(train_dicts)\n",
    "X_val = dv.transform(val_dicts)"
   ]
  },
  {
   "cell_type": "code",
   "execution_count": 70,
   "id": "7e993037-76ed-495b-85bc-8374b4d5154e",
   "metadata": {},
   "outputs": [],
   "source": [
    "model = xgb.XGBClassifier(\n",
    "    n_estimators=0,\n",
    "    max_depth=6,\n",
    "    learning_rate=0.1,\n",
    "    subsample=0.8,\n",
    "    colsample_bytree=0.8,\n",
    "    scale_pos_weight=1,\n",
    "    random_state=1,\n",
    "    n_jobs=-1\n",
    ")"
   ]
  },
  {
   "cell_type": "code",
   "execution_count": 62,
   "id": "de8e4dc1-79ed-464c-9ab7-ec1f66b2ae3b",
   "metadata": {},
   "outputs": [
    {
     "name": "stdout",
     "output_type": "stream",
     "text": [
      "Trees:   5 | Train AUC: 0.8780 | Val AUC: 0.5512\n",
      "Trees:  10 | Train AUC: 0.9515 | Val AUC: 0.5730\n",
      "Trees:  15 | Train AUC: 0.9909 | Val AUC: 0.5743\n",
      "Trees:  20 | Train AUC: 0.9996 | Val AUC: 0.5902\n",
      "Trees:  25 | Train AUC: 1.0000 | Val AUC: 0.6214\n",
      "Trees:  30 | Train AUC: 1.0000 | Val AUC: 0.6046\n",
      "Trees:  35 | Train AUC: 1.0000 | Val AUC: 0.6084\n",
      "Trees:  40 | Train AUC: 1.0000 | Val AUC: 0.6009\n",
      "Trees:  45 | Train AUC: 1.0000 | Val AUC: 0.5963\n",
      "Trees:  50 | Train AUC: 1.0000 | Val AUC: 0.6054\n",
      "Trees:  55 | Train AUC: 1.0000 | Val AUC: 0.5998\n",
      "Trees:  60 | Train AUC: 1.0000 | Val AUC: 0.6023\n",
      "Trees:  65 | Train AUC: 1.0000 | Val AUC: 0.5973\n",
      "Trees:  70 | Train AUC: 1.0000 | Val AUC: 0.5995\n",
      "Trees:  75 | Train AUC: 1.0000 | Val AUC: 0.5969\n",
      "Trees:  80 | Train AUC: 1.0000 | Val AUC: 0.5964\n",
      "Trees:  85 | Train AUC: 1.0000 | Val AUC: 0.5944\n",
      "Trees:  90 | Train AUC: 1.0000 | Val AUC: 0.5944\n",
      "Trees:  95 | Train AUC: 1.0000 | Val AUC: 0.5933\n",
      "Trees: 100 | Train AUC: 1.0000 | Val AUC: 0.5888\n"
     ]
    }
   ],
   "source": [
    "train_scores = []\n",
    "val_scores = []\n",
    "eval_steps = list(range(5, 101, 5))\n",
    "\n",
    "for n_trees in eval_steps:\n",
    "    model.set_params(n_estimators=n_trees)\n",
    "\n",
    "    if n_trees > 5:\n",
    "        # print(f'continuing training with {n_trees=}')\n",
    "        # continue training on top of the previous model\n",
    "        model.fit(X_train, y_train, xgb_model=model)\n",
    "    else:\n",
    "        # print(f'train from scratch with {n_trees=}')\n",
    "        # train the first iteration\n",
    "        model.fit(X_train, y_train)\n",
    "\n",
    "    train_pred = model.predict_proba(X_train)[:, 1]\n",
    "    val_pred = model.predict_proba(X_val)[:, 1]\n",
    "    \n",
    "    train_auc = roc_auc_score(y_train, train_pred)\n",
    "    val_auc = roc_auc_score(y_val, val_pred)\n",
    "    \n",
    "    train_scores.append(train_auc)\n",
    "    val_scores.append(val_auc)\n",
    "    \n",
    "    print(f\"Trees: {n_trees:3d} | Train AUC: {train_auc:.4f} | Val AUC: {val_auc:.4f}\")\n"
   ]
  },
  {
   "cell_type": "code",
   "execution_count": 35,
   "id": "dc584536-1ada-4fe1-8e7a-504c2769080b",
   "metadata": {},
   "outputs": [
    {
     "data": {
      "image/png": "[encoded data removed]",
      "text/plain": [
       "<Figure size 1000x600 with 1 Axes>"
      ]
     },
     "metadata": {},
     "output_type": "display_data"
    }
   ],
   "source": [
    "plt.figure(figsize=(10, 6))\n",
    "# plt.plot(eval_steps, train_scores, label='Train AUC', marker='o')\n",
    "plt.plot(eval_steps, val_scores, label='Validation AUC', marker='o')\n",
    "plt.xlabel('Number of Trees')\n",
    "plt.ylabel('AUC Score')\n",
    "plt.title('AUC Scores vs Number of Trees')\n",
    "plt.grid(True)\n",
    "plt.legend()\n",
    "plt.show()"
   ]
  },
  {
   "cell_type": "markdown",
   "id": "bcb4ae5e-ebe9-4a44-9831-5d54962ebb33",
   "metadata": {},
   "source": [
    "## Watchlist \n",
    "\n",
    "Using XGBoost API directly (with `DMatrix` and `xgboost.train`)"
   ]
  },
  {
   "cell_type": "code",
   "execution_count": 67,
   "id": "51784f8b-233d-40dd-9997-8a785ed78e9b",
   "metadata": {},
   "outputs": [],
   "source": [
    "dtrain = xgb.DMatrix(X_train, label=y_train)\n",
    "dval = xgb.DMatrix(X_val, label=y_val)"
   ]
  },
  {
   "cell_type": "code",
   "execution_count": 68,
   "id": "82066ca9-0c5d-4530-bcb5-984d39d6e181",
   "metadata": {},
   "outputs": [],
   "source": [
    "params = {\n",
    "    'max_depth': 6,\n",
    "    'learning_rate': 0.1,\n",
    "    'subsample': 0.8,\n",
    "    'colsample_bytree': 0.8,\n",
    "    'objective': 'binary:logistic',\n",
    "    'eval_metric': 'auc',\n",
    "    'seed': 1\n",
    "}"
   ]
  },
  {
   "cell_type": "code",
   "execution_count": 69,
   "id": "61dc57d6-490e-45ef-ad87-b1c2490b50ed",
   "metadata": {},
   "outputs": [
    {
     "name": "stdout",
     "output_type": "stream",
     "text": [
      "[0]\ttrain-auc:0.78441\teval-auc:0.51183\n",
      "[5]\ttrain-auc:0.89614\teval-auc:0.53406\n",
      "[10]\ttrain-auc:0.92652\teval-auc:0.55924\n",
      "[15]\ttrain-auc:0.95907\teval-auc:0.57689\n",
      "[20]\ttrain-auc:0.97575\teval-auc:0.56718\n",
      "[25]\ttrain-auc:0.98758\teval-auc:0.55441\n",
      "[30]\ttrain-auc:0.99353\teval-auc:0.54786\n",
      "[35]\ttrain-auc:0.99627\teval-auc:0.53870\n",
      "[40]\ttrain-auc:0.99818\teval-auc:0.54408\n",
      "[45]\ttrain-auc:0.99901\teval-auc:0.53831\n",
      "[50]\ttrain-auc:0.99950\teval-auc:0.54464\n",
      "[55]\ttrain-auc:0.99978\teval-auc:0.54819\n",
      "[60]\ttrain-auc:0.99977\teval-auc:0.54219\n",
      "[65]\ttrain-auc:0.99994\teval-auc:0.55102\n",
      "[70]\ttrain-auc:0.99995\teval-auc:0.54897\n",
      "[75]\ttrain-auc:0.99998\teval-auc:0.54564\n",
      "[80]\ttrain-auc:1.00000\teval-auc:0.54208\n",
      "[85]\ttrain-auc:1.00000\teval-auc:0.54003\n",
      "[90]\ttrain-auc:1.00000\teval-auc:0.53653\n",
      "[95]\ttrain-auc:1.00000\teval-auc:0.54075\n",
      "[99]\ttrain-auc:1.00000\teval-auc:0.53820\n"
     ]
    }
   ],
   "source": [
    "watchlist = [(dtrain, 'train'), (dval, 'eval')]\n",
    "\n",
    "model = xgb.train(\n",
    "    params=params,\n",
    "    dtrain=dtrain,\n",
    "    num_boost_round=100,  # we'll train up to 100 trees\n",
    "    evals=watchlist,\n",
    "    verbose_eval=5  # print evaluation every 5 rounds\n",
    ")"
   ]
  },
  {
   "cell_type": "markdown",
   "id": "172eb69f-8666-47b8-91d4-ace8ef3763da",
   "metadata": {},
   "source": [
    "## Watchlist\n",
    "\n",
    "Watchlist with the Scikit-Learn wrapper"
   ]
  },
  {
   "cell_type": "code",
   "execution_count": 91,
   "id": "763c6daa-9675-496c-afe8-3216738c7e9b",
   "metadata": {},
   "outputs": [],
   "source": [
    "model = xgb.XGBClassifier(\n",
    "    n_estimators=100,\n",
    "    max_depth=3,\n",
    "    learning_rate=0.05,\n",
    "    subsample=0.8,\n",
    "    colsample_bytree=0.8,\n",
    "    random_state=1,\n",
    "    eval_metric='auc',  # Move eval_metric here\n",
    "    n_jobs=-1\n",
    ")"
   ]
  },
  {
   "cell_type": "code",
   "execution_count": 92,
   "id": "59fdf1d1-d1ca-4e20-ba7d-209b45313920",
   "metadata": {},
   "outputs": [
    {
     "name": "stdout",
     "output_type": "stream",
     "text": [
      "[0]\tvalidation_0-auc:0.66066\tvalidation_1-auc:0.53642\n",
      "[1]\tvalidation_0-auc:0.68622\tvalidation_1-auc:0.55205\n",
      "[2]\tvalidation_0-auc:0.69489\tvalidation_1-auc:0.54031\n",
      "[3]\tvalidation_0-auc:0.70892\tvalidation_1-auc:0.54464\n",
      "[4]\tvalidation_0-auc:0.71370\tvalidation_1-auc:0.55421\n",
      "[5]\tvalidation_0-auc:0.71758\tvalidation_1-auc:0.56290\n",
      "[6]\tvalidation_0-auc:0.71750\tvalidation_1-auc:0.56307\n",
      "[7]\tvalidation_0-auc:0.72341\tvalidation_1-auc:0.59008\n",
      "[8]\tvalidation_0-auc:0.72274\tvalidation_1-auc:0.57495\n",
      "[9]\tvalidation_0-auc:0.72646\tvalidation_1-auc:0.57167\n",
      "[10]\tvalidation_0-auc:0.73240\tvalidation_1-auc:0.58178\n",
      "[11]\tvalidation_0-auc:0.73781\tvalidation_1-auc:0.58955\n",
      "[12]\tvalidation_0-auc:0.74559\tvalidation_1-auc:0.59419\n",
      "[13]\tvalidation_0-auc:0.74685\tvalidation_1-auc:0.59852\n",
      "[14]\tvalidation_0-auc:0.74614\tvalidation_1-auc:0.59610\n",
      "[15]\tvalidation_0-auc:0.74723\tvalidation_1-auc:0.59358\n",
      "[16]\tvalidation_0-auc:0.74703\tvalidation_1-auc:0.58714\n",
      "[17]\tvalidation_0-auc:0.74673\tvalidation_1-auc:0.58547\n",
      "[18]\tvalidation_0-auc:0.74960\tvalidation_1-auc:0.58297\n",
      "[19]\tvalidation_0-auc:0.75283\tvalidation_1-auc:0.58167\n",
      "[20]\tvalidation_0-auc:0.75672\tvalidation_1-auc:0.58716\n",
      "[21]\tvalidation_0-auc:0.76002\tvalidation_1-auc:0.59000\n",
      "[22]\tvalidation_0-auc:0.75892\tvalidation_1-auc:0.59141\n",
      "[23]\tvalidation_0-auc:0.76132\tvalidation_1-auc:0.59127\n",
      "[24]\tvalidation_0-auc:0.76431\tvalidation_1-auc:0.59488\n",
      "[25]\tvalidation_0-auc:0.76230\tvalidation_1-auc:0.59399\n",
      "[26]\tvalidation_0-auc:0.76444\tvalidation_1-auc:0.59377\n",
      "[27]\tvalidation_0-auc:0.76627\tvalidation_1-auc:0.59083\n",
      "[28]\tvalidation_0-auc:0.76885\tvalidation_1-auc:0.60121\n",
      "[29]\tvalidation_0-auc:0.77005\tvalidation_1-auc:0.60210\n",
      "[30]\tvalidation_0-auc:0.77181\tvalidation_1-auc:0.60432\n",
      "[31]\tvalidation_0-auc:0.77542\tvalidation_1-auc:0.60440\n",
      "[32]\tvalidation_0-auc:0.77930\tvalidation_1-auc:0.60496\n",
      "[33]\tvalidation_0-auc:0.78038\tvalidation_1-auc:0.60904\n",
      "[34]\tvalidation_0-auc:0.78467\tvalidation_1-auc:0.60859\n",
      "[35]\tvalidation_0-auc:0.78786\tvalidation_1-auc:0.60493\n",
      "[36]\tvalidation_0-auc:0.78944\tvalidation_1-auc:0.60437\n",
      "[37]\tvalidation_0-auc:0.79223\tvalidation_1-auc:0.60299\n",
      "[38]\tvalidation_0-auc:0.79249\tvalidation_1-auc:0.60110\n",
      "[39]\tvalidation_0-auc:0.79395\tvalidation_1-auc:0.59571\n",
      "[40]\tvalidation_0-auc:0.79807\tvalidation_1-auc:0.59433\n",
      "[41]\tvalidation_0-auc:0.80071\tvalidation_1-auc:0.59616\n",
      "[42]\tvalidation_0-auc:0.80228\tvalidation_1-auc:0.60376\n",
      "[43]\tvalidation_0-auc:0.80437\tvalidation_1-auc:0.60654\n",
      "[44]\tvalidation_0-auc:0.80615\tvalidation_1-auc:0.60265\n",
      "[45]\tvalidation_0-auc:0.80876\tvalidation_1-auc:0.59907\n",
      "[46]\tvalidation_0-auc:0.81240\tvalidation_1-auc:0.59680\n",
      "[47]\tvalidation_0-auc:0.81347\tvalidation_1-auc:0.59508\n",
      "[48]\tvalidation_0-auc:0.81596\tvalidation_1-auc:0.59186\n",
      "[49]\tvalidation_0-auc:0.81750\tvalidation_1-auc:0.58775\n",
      "[50]\tvalidation_0-auc:0.81804\tvalidation_1-auc:0.58880\n",
      "[51]\tvalidation_0-auc:0.81868\tvalidation_1-auc:0.59069\n",
      "[52]\tvalidation_0-auc:0.81971\tvalidation_1-auc:0.59147\n",
      "[53]\tvalidation_0-auc:0.82129\tvalidation_1-auc:0.58822\n",
      "[54]\tvalidation_0-auc:0.82333\tvalidation_1-auc:0.58666\n",
      "[55]\tvalidation_0-auc:0.82363\tvalidation_1-auc:0.58666\n",
      "[56]\tvalidation_0-auc:0.82558\tvalidation_1-auc:0.59116\n",
      "[57]\tvalidation_0-auc:0.82537\tvalidation_1-auc:0.59483\n",
      "[58]\tvalidation_0-auc:0.82628\tvalidation_1-auc:0.59460\n",
      "[59]\tvalidation_0-auc:0.82937\tvalidation_1-auc:0.59716\n",
      "[60]\tvalidation_0-auc:0.83016\tvalidation_1-auc:0.59755\n",
      "[61]\tvalidation_0-auc:0.83269\tvalidation_1-auc:0.59594\n",
      "[62]\tvalidation_0-auc:0.83436\tvalidation_1-auc:0.58889\n",
      "[63]\tvalidation_0-auc:0.83614\tvalidation_1-auc:0.58883\n",
      "[64]\tvalidation_0-auc:0.83651\tvalidation_1-auc:0.58927\n",
      "[65]\tvalidation_0-auc:0.83781\tvalidation_1-auc:0.59155\n",
      "[66]\tvalidation_0-auc:0.83907\tvalidation_1-auc:0.58628\n",
      "[67]\tvalidation_0-auc:0.84062\tvalidation_1-auc:0.58472\n",
      "[68]\tvalidation_0-auc:0.84130\tvalidation_1-auc:0.58389\n",
      "[69]\tvalidation_0-auc:0.84289\tvalidation_1-auc:0.58439\n",
      "[70]\tvalidation_0-auc:0.84577\tvalidation_1-auc:0.58133\n",
      "[71]\tvalidation_0-auc:0.84894\tvalidation_1-auc:0.57367\n",
      "[72]\tvalidation_0-auc:0.85051\tvalidation_1-auc:0.57245\n",
      "[73]\tvalidation_0-auc:0.85086\tvalidation_1-auc:0.57245\n",
      "[74]\tvalidation_0-auc:0.85208\tvalidation_1-auc:0.57612\n",
      "[75]\tvalidation_0-auc:0.85310\tvalidation_1-auc:0.57939\n",
      "[76]\tvalidation_0-auc:0.85471\tvalidation_1-auc:0.58011\n",
      "[77]\tvalidation_0-auc:0.85662\tvalidation_1-auc:0.57573\n",
      "[78]\tvalidation_0-auc:0.85852\tvalidation_1-auc:0.57867\n",
      "[79]\tvalidation_0-auc:0.86049\tvalidation_1-auc:0.57589\n",
      "[80]\tvalidation_0-auc:0.86231\tvalidation_1-auc:0.57484\n",
      "[81]\tvalidation_0-auc:0.86305\tvalidation_1-auc:0.57278\n",
      "[82]\tvalidation_0-auc:0.86430\tvalidation_1-auc:0.57106\n",
      "[83]\tvalidation_0-auc:0.86522\tvalidation_1-auc:0.57323\n",
      "[84]\tvalidation_0-auc:0.86683\tvalidation_1-auc:0.57273\n",
      "[85]\tvalidation_0-auc:0.86877\tvalidation_1-auc:0.57384\n",
      "[86]\tvalidation_0-auc:0.87019\tvalidation_1-auc:0.57217\n",
      "[87]\tvalidation_0-auc:0.87191\tvalidation_1-auc:0.57301\n",
      "[88]\tvalidation_0-auc:0.87384\tvalidation_1-auc:0.57589\n",
      "[89]\tvalidation_0-auc:0.87626\tvalidation_1-auc:0.57606\n",
      "[90]\tvalidation_0-auc:0.87747\tvalidation_1-auc:0.58050\n",
      "[91]\tvalidation_0-auc:0.87979\tvalidation_1-auc:0.57911\n",
      "[92]\tvalidation_0-auc:0.88039\tvalidation_1-auc:0.58011\n",
      "[93]\tvalidation_0-auc:0.88173\tvalidation_1-auc:0.57617\n",
      "[94]\tvalidation_0-auc:0.88172\tvalidation_1-auc:0.57573\n",
      "[95]\tvalidation_0-auc:0.88338\tvalidation_1-auc:0.57773\n",
      "[96]\tvalidation_0-auc:0.88447\tvalidation_1-auc:0.57950\n",
      "[97]\tvalidation_0-auc:0.88580\tvalidation_1-auc:0.57811\n",
      "[98]\tvalidation_0-auc:0.88720\tvalidation_1-auc:0.57784\n",
      "[99]\tvalidation_0-auc:0.88871\tvalidation_1-auc:0.57712\n"
     ]
    },
    {
     "data": {
      "text/html": [
       "<style>#sk-container-id-16 {\n",
       "  /* Definition of color scheme common for light and dark mode */\n",
       "  --sklearn-color-text: black;\n",
       "  --sklearn-color-line: gray;\n",
       "  /* Definition of color scheme for unfitted estimators */\n",
       "  --sklearn-color-unfitted-level-0: #fff5e6;\n",
       "  --sklearn-color-unfitted-level-1: #f6e4d2;\n",
       "  --sklearn-color-unfitted-level-2: #ffe0b3;\n",
       "  --sklearn-color-unfitted-level-3: chocolate;\n",
       "  /* Definition of color scheme for fitted estimators */\n",
       "  --sklearn-color-fitted-level-0: #f0f8ff;\n",
       "  --sklearn-color-fitted-level-1: #d4ebff;\n",
       "  --sklearn-color-fitted-level-2: #b3dbfd;\n",
       "  --sklearn-color-fitted-level-3: cornflowerblue;\n",
       "\n",
       "  /* Specific color for light theme */\n",
       "  --sklearn-color-text-on-default-background: var(--sg-text-color, var(--theme-code-foreground, var(--jp-content-font-color1, black)));\n",
       "  --sklearn-color-background: var(--sg-background-color, var(--theme-background, var(--jp-layout-color0, white)));\n",
       "  --sklearn-color-border-box: var(--sg-text-color, var(--theme-code-foreground, var(--jp-content-font-color1, black)));\n",
       "  --sklearn-color-icon: #696969;\n",
       "\n",
       "  @media (prefers-color-scheme: dark) {\n",
       "    /* Redefinition of color scheme for dark theme */\n",
       "    --sklearn-color-text-on-default-background: var(--sg-text-color, var(--theme-code-foreground, var(--jp-content-font-color1, white)));\n",
       "    --sklearn-color-background: var(--sg-background-color, var(--theme-background, var(--jp-layout-color0, #111)));\n",
       "    --sklearn-color-border-box: var(--sg-text-color, var(--theme-code-foreground, var(--jp-content-font-color1, white)));\n",
       "    --sklearn-color-icon: #878787;\n",
       "  }\n",
       "}\n",
       "\n",
       "#sk-container-id-16 {\n",
       "  color: var(--sklearn-color-text);\n",
       "}\n",
       "\n",
       "#sk-container-id-16 pre {\n",
       "  padding: 0;\n",
       "}\n",
       "\n",
       "#sk-container-id-16 input.sk-hidden--visually {\n",
       "  border: 0;\n",
       "  clip: rect(1px 1px 1px 1px);\n",
       "  clip: rect(1px, 1px, 1px, 1px);\n",
       "  height: 1px;\n",
       "  margin: -1px;\n",
       "  overflow: hidden;\n",
       "  padding: 0;\n",
       "  position: absolute;\n",
       "  width: 1px;\n",
       "}\n",
       "\n",
       "#sk-container-id-16 div.sk-dashed-wrapped {\n",
       "  border: 1px dashed var(--sklearn-color-line);\n",
       "  margin: 0 0.4em 0.5em 0.4em;\n",
       "  box-sizing: border-box;\n",
       "  padding-bottom: 0.4em;\n",
       "  background-color: var(--sklearn-color-background);\n",
       "}\n",
       "\n",
       "#sk-container-id-16 div.sk-container {\n",
       "  /* jupyter's `normalize.less` sets `[hidden] { display: none; }`\n",
       "     but bootstrap.min.css set `[hidden] { display: none !important; }`\n",
       "     so we also need the `!important` here to be able to override the\n",
       "     default hidden behavior on the sphinx rendered scikit-learn.org.\n",
       "     See: https://github.com/scikit-learn/scikit-learn/issues/21755 */\n",
       "  display: inline-block !important;\n",
       "  position: relative;\n",
       "}\n",
       "\n",
       "#sk-container-id-16 div.sk-text-repr-fallback {\n",
       "  display: none;\n",
       "}\n",
       "\n",
       "div.sk-parallel-item,\n",
       "div.sk-serial,\n",
       "div.sk-item {\n",
       "  /* draw centered vertical line to link estimators */\n",
       "  background-image: linear-gradient(var(--sklearn-color-text-on-default-background), var(--sklearn-color-text-on-default-background));\n",
       "  background-size: 2px 100%;\n",
       "  background-repeat: no-repeat;\n",
       "  background-position: center center;\n",
       "}\n",
       "\n",
       "/* Parallel-specific style estimator block */\n",
       "\n",
       "#sk-container-id-16 div.sk-parallel-item::after {\n",
       "  content: \"\";\n",
       "  width: 100%;\n",
       "  border-bottom: 2px solid var(--sklearn-color-text-on-default-background);\n",
       "  flex-grow: 1;\n",
       "}\n",
       "\n",
       "#sk-container-id-16 div.sk-parallel {\n",
       "  display: flex;\n",
       "  align-items: stretch;\n",
       "  justify-content: center;\n",
       "  background-color: var(--sklearn-color-background);\n",
       "  position: relative;\n",
       "}\n",
       "\n",
       "#sk-container-id-16 div.sk-parallel-item {\n",
       "  display: flex;\n",
       "  flex-direction: column;\n",
       "}\n",
       "\n",
       "#sk-container-id-16 div.sk-parallel-item:first-child::after {\n",
       "  align-self: flex-end;\n",
       "  width: 50%;\n",
       "}\n",
       "\n",
       "#sk-container-id-16 div.sk-parallel-item:last-child::after {\n",
       "  align-self: flex-start;\n",
       "  width: 50%;\n",
       "}\n",
       "\n",
       "#sk-container-id-16 div.sk-parallel-item:only-child::after {\n",
       "  width: 0;\n",
       "}\n",
       "\n",
       "/* Serial-specific style estimator block */\n",
       "\n",
       "#sk-container-id-16 div.sk-serial {\n",
       "  display: flex;\n",
       "  flex-direction: column;\n",
       "  align-items: center;\n",
       "  background-color: var(--sklearn-color-background);\n",
       "  padding-right: 1em;\n",
       "  padding-left: 1em;\n",
       "}\n",
       "\n",
       "\n",
       "/* Toggleable style: style used for estimator/Pipeline/ColumnTransformer box that is\n",
       "clickable and can be expanded/collapsed.\n",
       "- Pipeline and ColumnTransformer use this feature and define the default style\n",
       "- Estimators will overwrite some part of the style using the `sk-estimator` class\n",
       "*/\n",
       "\n",
       "/* Pipeline and ColumnTransformer style (default) */\n",
       "\n",
       "#sk-container-id-16 div.sk-toggleable {\n",
       "  /* Default theme specific background. It is overwritten whether we have a\n",
       "  specific estimator or a Pipeline/ColumnTransformer */\n",
       "  background-color: var(--sklearn-color-background);\n",
       "}\n",
       "\n",
       "/* Toggleable label */\n",
       "#sk-container-id-16 label.sk-toggleable__label {\n",
       "  cursor: pointer;\n",
       "  display: block;\n",
       "  width: 100%;\n",
       "  margin-bottom: 0;\n",
       "  padding: 0.5em;\n",
       "  box-sizing: border-box;\n",
       "  text-align: center;\n",
       "}\n",
       "\n",
       "#sk-container-id-16 label.sk-toggleable__label-arrow:before {\n",
       "  /* Arrow on the left of the label */\n",
       "  content: \"▸\";\n",
       "  float: left;\n",
       "  margin-right: 0.25em;\n",
       "  color: var(--sklearn-color-icon);\n",
       "}\n",
       "\n",
       "#sk-container-id-16 label.sk-toggleable__label-arrow:hover:before {\n",
       "  color: var(--sklearn-color-text);\n",
       "}\n",
       "\n",
       "/* Toggleable content - dropdown */\n",
       "\n",
       "#sk-container-id-16 div.sk-toggleable__content {\n",
       "  max-height: 0;\n",
       "  max-width: 0;\n",
       "  overflow: hidden;\n",
       "  text-align: left;\n",
       "  /* unfitted */\n",
       "  background-color: var(--sklearn-color-unfitted-level-0);\n",
       "}\n",
       "\n",
       "#sk-container-id-16 div.sk-toggleable__content.fitted {\n",
       "  /* fitted */\n",
       "  background-color: var(--sklearn-color-fitted-level-0);\n",
       "}\n",
       "\n",
       "#sk-container-id-16 div.sk-toggleable__content pre {\n",
       "  margin: 0.2em;\n",
       "  border-radius: 0.25em;\n",
       "  color: var(--sklearn-color-text);\n",
       "  /* unfitted */\n",
       "  background-color: var(--sklearn-color-unfitted-level-0);\n",
       "}\n",
       "\n",
       "#sk-container-id-16 div.sk-toggleable__content.fitted pre {\n",
       "  /* unfitted */\n",
       "  background-color: var(--sklearn-color-fitted-level-0);\n",
       "}\n",
       "\n",
       "#sk-container-id-16 input.sk-toggleable__control:checked~div.sk-toggleable__content {\n",
       "  /* Expand drop-down */\n",
       "  max-height: 200px;\n",
       "  max-width: 100%;\n",
       "  overflow: auto;\n",
       "}\n",
       "\n",
       "#sk-container-id-16 input.sk-toggleable__control:checked~label.sk-toggleable__label-arrow:before {\n",
       "  content: \"▾\";\n",
       "}\n",
       "\n",
       "/* Pipeline/ColumnTransformer-specific style */\n",
       "\n",
       "#sk-container-id-16 div.sk-label input.sk-toggleable__control:checked~label.sk-toggleable__label {\n",
       "  color: var(--sklearn-color-text);\n",
       "  background-color: var(--sklearn-color-unfitted-level-2);\n",
       "}\n",
       "\n",
       "#sk-container-id-16 div.sk-label.fitted input.sk-toggleable__control:checked~label.sk-toggleable__label {\n",
       "  background-color: var(--sklearn-color-fitted-level-2);\n",
       "}\n",
       "\n",
       "/* Estimator-specific style */\n",
       "\n",
       "/* Colorize estimator box */\n",
       "#sk-container-id-16 div.sk-estimator input.sk-toggleable__control:checked~label.sk-toggleable__label {\n",
       "  /* unfitted */\n",
       "  background-color: var(--sklearn-color-unfitted-level-2);\n",
       "}\n",
       "\n",
       "#sk-container-id-16 div.sk-estimator.fitted input.sk-toggleable__control:checked~label.sk-toggleable__label {\n",
       "  /* fitted */\n",
       "  background-color: var(--sklearn-color-fitted-level-2);\n",
       "}\n",
       "\n",
       "#sk-container-id-16 div.sk-label label.sk-toggleable__label,\n",
       "#sk-container-id-16 div.sk-label label {\n",
       "  /* The background is the default theme color */\n",
       "  color: var(--sklearn-color-text-on-default-background);\n",
       "}\n",
       "\n",
       "/* On hover, darken the color of the background */\n",
       "#sk-container-id-16 div.sk-label:hover label.sk-toggleable__label {\n",
       "  color: var(--sklearn-color-text);\n",
       "  background-color: var(--sklearn-color-unfitted-level-2);\n",
       "}\n",
       "\n",
       "/* Label box, darken color on hover, fitted */\n",
       "#sk-container-id-16 div.sk-label.fitted:hover label.sk-toggleable__label.fitted {\n",
       "  color: var(--sklearn-color-text);\n",
       "  background-color: var(--sklearn-color-fitted-level-2);\n",
       "}\n",
       "\n",
       "/* Estimator label */\n",
       "\n",
       "#sk-container-id-16 div.sk-label label {\n",
       "  font-family: monospace;\n",
       "  font-weight: bold;\n",
       "  display: inline-block;\n",
       "  line-height: 1.2em;\n",
       "}\n",
       "\n",
       "#sk-container-id-16 div.sk-label-container {\n",
       "  text-align: center;\n",
       "}\n",
       "\n",
       "/* Estimator-specific */\n",
       "#sk-container-id-16 div.sk-estimator {\n",
       "  font-family: monospace;\n",
       "  border: 1px dotted var(--sklearn-color-border-box);\n",
       "  border-radius: 0.25em;\n",
       "  box-sizing: border-box;\n",
       "  margin-bottom: 0.5em;\n",
       "  /* unfitted */\n",
       "  background-color: var(--sklearn-color-unfitted-level-0);\n",
       "}\n",
       "\n",
       "#sk-container-id-16 div.sk-estimator.fitted {\n",
       "  /* fitted */\n",
       "  background-color: var(--sklearn-color-fitted-level-0);\n",
       "}\n",
       "\n",
       "/* on hover */\n",
       "#sk-container-id-16 div.sk-estimator:hover {\n",
       "  /* unfitted */\n",
       "  background-color: var(--sklearn-color-unfitted-level-2);\n",
       "}\n",
       "\n",
       "#sk-container-id-16 div.sk-estimator.fitted:hover {\n",
       "  /* fitted */\n",
       "  background-color: var(--sklearn-color-fitted-level-2);\n",
       "}\n",
       "\n",
       "/* Specification for estimator info (e.g. \"i\" and \"?\") */\n",
       "\n",
       "/* Common style for \"i\" and \"?\" */\n",
       "\n",
       ".sk-estimator-doc-link,\n",
       "a:link.sk-estimator-doc-link,\n",
       "a:visited.sk-estimator-doc-link {\n",
       "  float: right;\n",
       "  font-size: smaller;\n",
       "  line-height: 1em;\n",
       "  font-family: monospace;\n",
       "  background-color: var(--sklearn-color-background);\n",
       "  border-radius: 1em;\n",
       "  height: 1em;\n",
       "  width: 1em;\n",
       "  text-decoration: none !important;\n",
       "  margin-left: 1ex;\n",
       "  /* unfitted */\n",
       "  border: var(--sklearn-color-unfitted-level-1) 1pt solid;\n",
       "  color: var(--sklearn-color-unfitted-level-1);\n",
       "}\n",
       "\n",
       ".sk-estimator-doc-link.fitted,\n",
       "a:link.sk-estimator-doc-link.fitted,\n",
       "a:visited.sk-estimator-doc-link.fitted {\n",
       "  /* fitted */\n",
       "  border: var(--sklearn-color-fitted-level-1) 1pt solid;\n",
       "  color: var(--sklearn-color-fitted-level-1);\n",
       "}\n",
       "\n",
       "/* On hover */\n",
       "div.sk-estimator:hover .sk-estimator-doc-link:hover,\n",
       ".sk-estimator-doc-link:hover,\n",
       "div.sk-label-container:hover .sk-estimator-doc-link:hover,\n",
       ".sk-estimator-doc-link:hover {\n",
       "  /* unfitted */\n",
       "  background-color: var(--sklearn-color-unfitted-level-3);\n",
       "  color: var(--sklearn-color-background);\n",
       "  text-decoration: none;\n",
       "}\n",
       "\n",
       "div.sk-estimator.fitted:hover .sk-estimator-doc-link.fitted:hover,\n",
       ".sk-estimator-doc-link.fitted:hover,\n",
       "div.sk-label-container:hover .sk-estimator-doc-link.fitted:hover,\n",
       ".sk-estimator-doc-link.fitted:hover {\n",
       "  /* fitted */\n",
       "  background-color: var(--sklearn-color-fitted-level-3);\n",
       "  color: var(--sklearn-color-background);\n",
       "  text-decoration: none;\n",
       "}\n",
       "\n",
       "/* Span, style for the box shown on hovering the info icon */\n",
       ".sk-estimator-doc-link span {\n",
       "  display: none;\n",
       "  z-index: 9999;\n",
       "  position: relative;\n",
       "  font-weight: normal;\n",
       "  right: .2ex;\n",
       "  padding: .5ex;\n",
       "  margin: .5ex;\n",
       "  width: min-content;\n",
       "  min-width: 20ex;\n",
       "  max-width: 50ex;\n",
       "  color: var(--sklearn-color-text);\n",
       "  box-shadow: 2pt 2pt 4pt #999;\n",
       "  /* unfitted */\n",
       "  background: var(--sklearn-color-unfitted-level-0);\n",
       "  border: .5pt solid var(--sklearn-color-unfitted-level-3);\n",
       "}\n",
       "\n",
       ".sk-estimator-doc-link.fitted span {\n",
       "  /* fitted */\n",
       "  background: var(--sklearn-color-fitted-level-0);\n",
       "  border: var(--sklearn-color-fitted-level-3);\n",
       "}\n",
       "\n",
       ".sk-estimator-doc-link:hover span {\n",
       "  display: block;\n",
       "}\n",
       "\n",
       "/* \"?\"-specific style due to the `<a>` HTML tag */\n",
       "\n",
       "#sk-container-id-16 a.estimator_doc_link {\n",
       "  float: right;\n",
       "  font-size: 1rem;\n",
       "  line-height: 1em;\n",
       "  font-family: monospace;\n",
       "  background-color: var(--sklearn-color-background);\n",
       "  border-radius: 1rem;\n",
       "  height: 1rem;\n",
       "  width: 1rem;\n",
       "  text-decoration: none;\n",
       "  /* unfitted */\n",
       "  color: var(--sklearn-color-unfitted-level-1);\n",
       "  border: var(--sklearn-color-unfitted-level-1) 1pt solid;\n",
       "}\n",
       "\n",
       "#sk-container-id-16 a.estimator_doc_link.fitted {\n",
       "  /* fitted */\n",
       "  border: var(--sklearn-color-fitted-level-1) 1pt solid;\n",
       "  color: var(--sklearn-color-fitted-level-1);\n",
       "}\n",
       "\n",
       "/* On hover */\n",
       "#sk-container-id-16 a.estimator_doc_link:hover {\n",
       "  /* unfitted */\n",
       "  background-color: var(--sklearn-color-unfitted-level-3);\n",
       "  color: var(--sklearn-color-background);\n",
       "  text-decoration: none;\n",
       "}\n",
       "\n",
       "#sk-container-id-16 a.estimator_doc_link.fitted:hover {\n",
       "  /* fitted */\n",
       "  background-color: var(--sklearn-color-fitted-level-3);\n",
       "}\n",
       "</style><div id=\"sk-container-id-16\" class=\"sk-top-container\"><div class=\"sk-text-repr-fallback\"><pre>XGBClassifier(base_score=None, booster=None, callbacks=None,\n",
       "              colsample_bylevel=None, colsample_bynode=None,\n",
       "              colsample_bytree=0.8, device=None, early_stopping_rounds=None,\n",
       "              enable_categorical=False, eval_metric=&#x27;auc&#x27;, feature_types=None,\n",
       "              gamma=None, grow_policy=None, importance_type=None,\n",
       "              interaction_constraints=None, learning_rate=0.05, max_bin=None,\n",
       "              max_cat_threshold=None, max_cat_to_onehot=None,\n",
       "              max_delta_step=None, max_depth=3, max_leaves=None,\n",
       "              min_child_weight=None, missing=nan, monotone_constraints=None,\n",
       "              multi_strategy=None, n_estimators=100, n_jobs=-1,\n",
       "              num_parallel_tree=None, random_state=1, ...)</pre><b>In a Jupyter environment, please rerun this cell to show the HTML representation or trust the notebook. <br />On GitHub, the HTML representation is unable to render, please try loading this page with nbviewer.org.</b></div><div class=\"sk-container\" hidden><div class=\"sk-item\"><div class=\"sk-estimator fitted sk-toggleable\"><input class=\"sk-toggleable__control sk-hidden--visually\" id=\"sk-estimator-id-38\" type=\"checkbox\" checked><label for=\"sk-estimator-id-38\" class=\"sk-toggleable__label fitted sk-toggleable__label-arrow fitted\">&nbsp;XGBClassifier<span class=\"sk-estimator-doc-link fitted\">i<span>Fitted</span></span></label><div class=\"sk-toggleable__content fitted\"><pre>XGBClassifier(base_score=None, booster=None, callbacks=None,\n",
       "              colsample_bylevel=None, colsample_bynode=None,\n",
       "              colsample_bytree=0.8, device=None, early_stopping_rounds=None,\n",
       "              enable_categorical=False, eval_metric=&#x27;auc&#x27;, feature_types=None,\n",
       "              gamma=None, grow_policy=None, importance_type=None,\n",
       "              interaction_constraints=None, learning_rate=0.05, max_bin=None,\n",
       "              max_cat_threshold=None, max_cat_to_onehot=None,\n",
       "              max_delta_step=None, max_depth=3, max_leaves=None,\n",
       "              min_child_weight=None, missing=nan, monotone_constraints=None,\n",
       "              multi_strategy=None, n_estimators=100, n_jobs=-1,\n",
       "              num_parallel_tree=None, random_state=1, ...)</pre></div> </div></div></div></div>"
      ],
      "text/plain": [
       "XGBClassifier(base_score=None, booster=None, callbacks=None,\n",
       "              colsample_bylevel=None, colsample_bynode=None,\n",
       "              colsample_bytree=0.8, device=None, early_stopping_rounds=None,\n",
       "              enable_categorical=False, eval_metric='auc', feature_types=None,\n",
       "              gamma=None, grow_policy=None, importance_type=None,\n",
       "              interaction_constraints=None, learning_rate=0.05, max_bin=None,\n",
       "              max_cat_threshold=None, max_cat_to_onehot=None,\n",
       "              max_delta_step=None, max_depth=3, max_leaves=None,\n",
       "              min_child_weight=None, missing=nan, monotone_constraints=None,\n",
       "              multi_strategy=None, n_estimators=100, n_jobs=-1,\n",
       "              num_parallel_tree=None, random_state=1, ...)"
      ]
     },
     "execution_count": 92,
     "metadata": {},
     "output_type": "execute_result"
    }
   ],
   "source": [
    "eval_set = [(X_train, y_train), (X_val, y_val)]\n",
    "\n",
    "model.fit(\n",
    "    X_train, \n",
    "    y_train,\n",
    "    eval_set=eval_set,\n",
    "    verbose=True,\n",
    ")"
   ]
  },
  {
   "cell_type": "code",
   "execution_count": 93,
   "id": "4ce5b3a9-eff4-4786-bbc6-f867b7ac7d79",
   "metadata": {},
   "outputs": [],
   "source": [
    "# Get evaluation results\n",
    "evals_result = model.evals_result()"
   ]
  },
  {
   "cell_type": "code",
   "execution_count": 104,
   "id": "7c896e23-43c2-45e5-af54-eaf6600fce99",
   "metadata": {},
   "outputs": [
    {
     "data": {
      "text/plain": [
       "(np.float64(0.6090384188318898), np.int64(34))"
      ]
     },
     "execution_count": 104,
     "metadata": {},
     "output_type": "execute_result"
    }
   ],
   "source": [
    "validation_auc = evals_result['validation_1']['auc']\n",
    "validation_auc = np.array(validation_auc)\n",
    "\n",
    "best_auc = validation_auc.max()\n",
    "best_num_trees = validation_auc.argmax() + 1\n",
    "best_auc, best_num_trees"
   ]
  },
  {
   "cell_type": "code",
   "execution_count": 96,
   "id": "a2e1196b-6732-459d-ba72-727538313466",
   "metadata": {},
   "outputs": [
    {
     "data": {
      "image/png": "[encoded data removed]",
      "text/plain": [
       "<Figure size 1000x600 with 1 Axes>"
      ]
     },
     "metadata": {},
     "output_type": "display_data"
    }
   ],
   "source": [
    "plt.figure(figsize=(10, 6))\n",
    "# plt.plot(evals_result['validation_0']['auc'], label='Train')\n",
    "plt.plot(validation_auc, label='Validation')\n",
    "plt.xlabel('Number of Trees')\n",
    "plt.ylabel('AUC')\n",
    "plt.title('AUC vs Number of Trees')\n",
    "plt.legend()\n",
    "plt.grid()\n",
    "plt.show()"
   ]
  },
  {
   "cell_type": "markdown",
   "id": "036c6962-55d7-41f8-bbf7-51d9bfa7dcbd",
   "metadata": {},
   "source": [
    "## Random sampling parameter tuning"
   ]
  },
  {
   "cell_type": "code",
   "execution_count": 109,
   "id": "b8b92bf0-0624-4b54-ad2e-5e4f1c63ac51",
   "metadata": {
    "scrolled": true
   },
   "outputs": [
    {
     "name": "stderr",
     "output_type": "stream",
     "text": [
      "2024/11/17 13:43:15 INFO mlflow.tracking._tracking_service.client: 🏃 View run rogue-donkey-946 at: http://localhost:5000/#/experiments/4/runs/f0f7ff7ccd684dccae314f80f5a01c58.\n",
      "2024/11/17 13:43:15 INFO mlflow.tracking._tracking_service.client: 🧪 View experiment at: http://localhost:5000/#/experiments/4.\n"
     ]
    },
    {
     "name": "stdout",
     "output_type": "stream",
     "text": [
      "\n",
      "Trial 1/30:\n",
      "Params: {'max_depth': np.int64(9), 'min_child_weight': np.int64(5), 'learning_rate': np.float64(0.01), 'subsample': np.float64(0.8), 'colsample_bytree': np.float64(1.0), 'n_estimators': np.int64(77), 'eval_metric': 'auc', 'random_state': 1, 'n_jobs': -1}\n",
      "Best num trees: 77\n",
      "Best validation AUC: 0.5740\n",
      "Best overall AUC so far: 0.5740\n"
     ]
    },
    {
     "name": "stderr",
     "output_type": "stream",
     "text": [
      "2024/11/17 13:43:16 INFO mlflow.tracking._tracking_service.client: 🏃 View run sassy-worm-525 at: http://localhost:5000/#/experiments/4/runs/4a0c1cb4968e46abbbd3e1ba4a478b41.\n",
      "2024/11/17 13:43:16 INFO mlflow.tracking._tracking_service.client: 🧪 View experiment at: http://localhost:5000/#/experiments/4.\n"
     ]
    },
    {
     "name": "stdout",
     "output_type": "stream",
     "text": [
      "\n",
      "Trial 2/30:\n",
      "Params: {'max_depth': np.int64(8), 'min_child_weight': np.int64(1), 'learning_rate': np.float64(0.3), 'subsample': np.float64(0.8), 'colsample_bytree': np.float64(0.7), 'n_estimators': np.int64(103), 'eval_metric': 'auc', 'random_state': 1, 'n_jobs': -1}\n",
      "Best num trees: 103\n",
      "Best validation AUC: 0.5934\n",
      "Best overall AUC so far: 0.5934\n"
     ]
    },
    {
     "name": "stderr",
     "output_type": "stream",
     "text": [
      "2024/11/17 13:43:16 INFO mlflow.tracking._tracking_service.client: 🏃 View run chill-midge-530 at: http://localhost:5000/#/experiments/4/runs/b52739810c604b9cbb628c5aceecec16.\n",
      "2024/11/17 13:43:16 INFO mlflow.tracking._tracking_service.client: 🧪 View experiment at: http://localhost:5000/#/experiments/4.\n"
     ]
    },
    {
     "name": "stdout",
     "output_type": "stream",
     "text": [
      "\n",
      "Trial 3/30:\n",
      "Params: {'max_depth': np.int64(8), 'min_child_weight': np.int64(5), 'learning_rate': np.float64(0.3), 'subsample': np.float64(0.9), 'colsample_bytree': np.float64(1.0), 'n_estimators': np.int64(86), 'eval_metric': 'auc', 'random_state': 1, 'n_jobs': -1}\n",
      "Best num trees: 86\n",
      "Best validation AUC: 0.5895\n",
      "Best overall AUC so far: 0.5934\n"
     ]
    },
    {
     "name": "stderr",
     "output_type": "stream",
     "text": [
      "2024/11/17 13:43:17 INFO mlflow.tracking._tracking_service.client: 🏃 View run fun-mare-358 at: http://localhost:5000/#/experiments/4/runs/ee02379fc8cf42e2a1a24c96345d7d31.\n",
      "2024/11/17 13:43:17 INFO mlflow.tracking._tracking_service.client: 🧪 View experiment at: http://localhost:5000/#/experiments/4.\n"
     ]
    },
    {
     "name": "stdout",
     "output_type": "stream",
     "text": [
      "\n",
      "Trial 4/30:\n",
      "Params: {'max_depth': np.int64(5), 'min_child_weight': np.int64(4), 'learning_rate': np.float64(0.3), 'subsample': np.float64(0.7), 'colsample_bytree': np.float64(0.9), 'n_estimators': np.int64(81), 'eval_metric': 'auc', 'random_state': 1, 'n_jobs': -1}\n",
      "Best num trees: 81\n",
      "Best validation AUC: 0.6020\n",
      "Best overall AUC so far: 0.6020\n"
     ]
    },
    {
     "name": "stderr",
     "output_type": "stream",
     "text": [
      "2024/11/17 13:43:17 INFO mlflow.tracking._tracking_service.client: 🏃 View run placid-yak-449 at: http://localhost:5000/#/experiments/4/runs/b14be366554c432e887e59760fe88921.\n",
      "2024/11/17 13:43:17 INFO mlflow.tracking._tracking_service.client: 🧪 View experiment at: http://localhost:5000/#/experiments/4.\n"
     ]
    },
    {
     "name": "stdout",
     "output_type": "stream",
     "text": [
      "\n",
      "Trial 5/30:\n",
      "Params: {'max_depth': np.int64(7), 'min_child_weight': np.int64(1), 'learning_rate': np.float64(0.3), 'subsample': np.float64(0.9), 'colsample_bytree': np.float64(0.8), 'n_estimators': np.int64(91), 'eval_metric': 'auc', 'random_state': 1, 'n_jobs': -1}\n",
      "Best num trees: 91\n",
      "Best validation AUC: 0.5071\n",
      "Best overall AUC so far: 0.6020\n"
     ]
    },
    {
     "name": "stderr",
     "output_type": "stream",
     "text": [
      "2024/11/17 13:43:17 INFO mlflow.tracking._tracking_service.client: 🏃 View run thoughtful-toad-411 at: http://localhost:5000/#/experiments/4/runs/041236f124b04899a2942a24f012152b.\n",
      "2024/11/17 13:43:17 INFO mlflow.tracking._tracking_service.client: 🧪 View experiment at: http://localhost:5000/#/experiments/4.\n"
     ]
    },
    {
     "name": "stdout",
     "output_type": "stream",
     "text": [
      "\n",
      "Trial 6/30:\n",
      "Params: {'max_depth': np.int64(5), 'min_child_weight': np.int64(4), 'learning_rate': np.float64(0.01), 'subsample': np.float64(0.9), 'colsample_bytree': np.float64(0.8), 'n_estimators': np.int64(11), 'eval_metric': 'auc', 'random_state': 1, 'n_jobs': -1}\n",
      "Best num trees: 11\n",
      "Best validation AUC: 0.5819\n",
      "Best overall AUC so far: 0.6020\n"
     ]
    },
    {
     "name": "stderr",
     "output_type": "stream",
     "text": [
      "2024/11/17 13:43:18 INFO mlflow.tracking._tracking_service.client: 🏃 View run bouncy-boar-954 at: http://localhost:5000/#/experiments/4/runs/1a6ef719d2e04210b50060cc6b273a33.\n",
      "2024/11/17 13:43:18 INFO mlflow.tracking._tracking_service.client: 🧪 View experiment at: http://localhost:5000/#/experiments/4.\n"
     ]
    },
    {
     "name": "stdout",
     "output_type": "stream",
     "text": [
      "\n",
      "Trial 7/30:\n",
      "Params: {'max_depth': np.int64(4), 'min_child_weight': np.int64(3), 'learning_rate': np.float64(0.3), 'subsample': np.float64(0.9), 'colsample_bytree': np.float64(0.8), 'n_estimators': np.int64(32), 'eval_metric': 'auc', 'random_state': 1, 'n_jobs': -1}\n",
      "Best num trees: 32\n",
      "Best validation AUC: 0.5782\n",
      "Best overall AUC so far: 0.6020\n"
     ]
    },
    {
     "name": "stderr",
     "output_type": "stream",
     "text": [
      "2024/11/17 13:43:18 INFO mlflow.tracking._tracking_service.client: 🏃 View run nosy-shark-690 at: http://localhost:5000/#/experiments/4/runs/ee9a189e87bc49e6b682f2cccbc6b778.\n",
      "2024/11/17 13:43:18 INFO mlflow.tracking._tracking_service.client: 🧪 View experiment at: http://localhost:5000/#/experiments/4.\n"
     ]
    },
    {
     "name": "stdout",
     "output_type": "stream",
     "text": [
      "\n",
      "Trial 8/30:\n",
      "Params: {'max_depth': np.int64(8), 'min_child_weight': np.int64(2), 'learning_rate': np.float64(0.1), 'subsample': np.float64(0.9), 'colsample_bytree': np.float64(0.9), 'n_estimators': np.int64(23), 'eval_metric': 'auc', 'random_state': 1, 'n_jobs': -1}\n",
      "Best num trees: 23\n",
      "Best validation AUC: 0.6321\n",
      "Best overall AUC so far: 0.6321\n"
     ]
    },
    {
     "name": "stderr",
     "output_type": "stream",
     "text": [
      "2024/11/17 13:43:19 INFO mlflow.tracking._tracking_service.client: 🏃 View run glamorous-steed-367 at: http://localhost:5000/#/experiments/4/runs/1522a822f739411ead5f4647bf3a59cd.\n",
      "2024/11/17 13:43:19 INFO mlflow.tracking._tracking_service.client: 🧪 View experiment at: http://localhost:5000/#/experiments/4.\n"
     ]
    },
    {
     "name": "stdout",
     "output_type": "stream",
     "text": [
      "\n",
      "Trial 9/30:\n",
      "Params: {'max_depth': np.int64(8), 'min_child_weight': np.int64(4), 'learning_rate': np.float64(0.01), 'subsample': np.float64(1.0), 'colsample_bytree': np.float64(1.0), 'n_estimators': np.int64(200), 'eval_metric': 'auc', 'random_state': 1, 'n_jobs': -1}\n",
      "Best num trees: 200\n",
      "Best validation AUC: 0.5626\n",
      "Best overall AUC so far: 0.6321\n"
     ]
    },
    {
     "name": "stderr",
     "output_type": "stream",
     "text": [
      "2024/11/17 13:43:19 INFO mlflow.tracking._tracking_service.client: 🏃 View run debonair-shrew-56 at: http://localhost:5000/#/experiments/4/runs/940d5ecbb2e34339bd83f440291b2a9a.\n",
      "2024/11/17 13:43:19 INFO mlflow.tracking._tracking_service.client: 🧪 View experiment at: http://localhost:5000/#/experiments/4.\n"
     ]
    },
    {
     "name": "stdout",
     "output_type": "stream",
     "text": [
      "\n",
      "Trial 10/30:\n",
      "Params: {'max_depth': np.int64(9), 'min_child_weight': np.int64(2), 'learning_rate': np.float64(0.1), 'subsample': np.float64(0.8), 'colsample_bytree': np.float64(0.9), 'n_estimators': np.int64(17), 'eval_metric': 'auc', 'random_state': 1, 'n_jobs': -1}\n",
      "Best num trees: 17\n",
      "Best validation AUC: 0.6069\n",
      "Best overall AUC so far: 0.6321\n"
     ]
    },
    {
     "name": "stderr",
     "output_type": "stream",
     "text": [
      "2024/11/17 13:43:20 INFO mlflow.tracking._tracking_service.client: 🏃 View run enchanting-deer-762 at: http://localhost:5000/#/experiments/4/runs/a72d81d23d614a629477515150335c9a.\n",
      "2024/11/17 13:43:20 INFO mlflow.tracking._tracking_service.client: 🧪 View experiment at: http://localhost:5000/#/experiments/4.\n"
     ]
    },
    {
     "name": "stdout",
     "output_type": "stream",
     "text": [
      "\n",
      "Trial 11/30:\n",
      "Params: {'max_depth': np.int64(5), 'min_child_weight': np.int64(3), 'learning_rate': np.float64(0.01), 'subsample': np.float64(0.8), 'colsample_bytree': np.float64(0.7), 'n_estimators': np.int64(81), 'eval_metric': 'auc', 'random_state': 1, 'n_jobs': -1}\n",
      "Best num trees: 81\n",
      "Best validation AUC: 0.5863\n",
      "Best overall AUC so far: 0.6321\n"
     ]
    },
    {
     "name": "stderr",
     "output_type": "stream",
     "text": [
      "2024/11/17 13:43:20 INFO mlflow.tracking._tracking_service.client: 🏃 View run welcoming-gull-677 at: http://localhost:5000/#/experiments/4/runs/a80a9c31b6f544129dfaad648cf96151.\n",
      "2024/11/17 13:43:20 INFO mlflow.tracking._tracking_service.client: 🧪 View experiment at: http://localhost:5000/#/experiments/4.\n"
     ]
    },
    {
     "name": "stdout",
     "output_type": "stream",
     "text": [
      "\n",
      "Trial 12/30:\n",
      "Params: {'max_depth': np.int64(5), 'min_child_weight': np.int64(5), 'learning_rate': np.float64(0.01), 'subsample': np.float64(0.7), 'colsample_bytree': np.float64(0.9), 'n_estimators': np.int64(17), 'eval_metric': 'auc', 'random_state': 1, 'n_jobs': -1}\n",
      "Best num trees: 17\n",
      "Best validation AUC: 0.6155\n",
      "Best overall AUC so far: 0.6321\n"
     ]
    },
    {
     "name": "stderr",
     "output_type": "stream",
     "text": [
      "2024/11/17 13:43:21 INFO mlflow.tracking._tracking_service.client: 🏃 View run unruly-skunk-708 at: http://localhost:5000/#/experiments/4/runs/f3eab7567be546b8b30cf2124d5391c0.\n",
      "2024/11/17 13:43:21 INFO mlflow.tracking._tracking_service.client: 🧪 View experiment at: http://localhost:5000/#/experiments/4.\n"
     ]
    },
    {
     "name": "stdout",
     "output_type": "stream",
     "text": [
      "\n",
      "Trial 13/30:\n",
      "Params: {'max_depth': np.int64(6), 'min_child_weight': np.int64(4), 'learning_rate': np.float64(0.1), 'subsample': np.float64(0.8), 'colsample_bytree': np.float64(0.9), 'n_estimators': np.int64(21), 'eval_metric': 'auc', 'random_state': 1, 'n_jobs': -1}\n",
      "Best num trees: 21\n",
      "Best validation AUC: 0.5767\n",
      "Best overall AUC so far: 0.6321\n"
     ]
    },
    {
     "name": "stderr",
     "output_type": "stream",
     "text": [
      "2024/11/17 13:43:21 INFO mlflow.tracking._tracking_service.client: 🏃 View run painted-zebra-432 at: http://localhost:5000/#/experiments/4/runs/22dbd1a650ab413eae7d2431089a5018.\n",
      "2024/11/17 13:43:21 INFO mlflow.tracking._tracking_service.client: 🧪 View experiment at: http://localhost:5000/#/experiments/4.\n"
     ]
    },
    {
     "name": "stdout",
     "output_type": "stream",
     "text": [
      "\n",
      "Trial 14/30:\n",
      "Params: {'max_depth': np.int64(3), 'min_child_weight': np.int64(5), 'learning_rate': np.float64(0.01), 'subsample': np.float64(1.0), 'colsample_bytree': np.float64(0.9), 'n_estimators': np.int64(19), 'eval_metric': 'auc', 'random_state': 1, 'n_jobs': -1}\n",
      "Best num trees: 19\n",
      "Best validation AUC: 0.5913\n",
      "Best overall AUC so far: 0.6321\n"
     ]
    },
    {
     "name": "stderr",
     "output_type": "stream",
     "text": [
      "2024/11/17 13:43:21 INFO mlflow.tracking._tracking_service.client: 🏃 View run nervous-stork-897 at: http://localhost:5000/#/experiments/4/runs/b640397109e743289ed1ad4ac055e3c9.\n",
      "2024/11/17 13:43:21 INFO mlflow.tracking._tracking_service.client: 🧪 View experiment at: http://localhost:5000/#/experiments/4.\n"
     ]
    },
    {
     "name": "stdout",
     "output_type": "stream",
     "text": [
      "\n",
      "Trial 15/30:\n",
      "Params: {'max_depth': np.int64(4), 'min_child_weight': np.int64(3), 'learning_rate': np.float64(0.3), 'subsample': np.float64(0.8), 'colsample_bytree': np.float64(1.0), 'n_estimators': np.int64(22), 'eval_metric': 'auc', 'random_state': 1, 'n_jobs': -1}\n",
      "Best num trees: 22\n",
      "Best validation AUC: 0.5673\n",
      "Best overall AUC so far: 0.6321\n"
     ]
    },
    {
     "name": "stderr",
     "output_type": "stream",
     "text": [
      "2024/11/17 13:43:22 INFO mlflow.tracking._tracking_service.client: 🏃 View run charming-hawk-220 at: http://localhost:5000/#/experiments/4/runs/b84ef2d3160f4216b334bfa020a3465f.\n",
      "2024/11/17 13:43:22 INFO mlflow.tracking._tracking_service.client: 🧪 View experiment at: http://localhost:5000/#/experiments/4.\n"
     ]
    },
    {
     "name": "stdout",
     "output_type": "stream",
     "text": [
      "\n",
      "Trial 16/30:\n",
      "Params: {'max_depth': np.int64(3), 'min_child_weight': np.int64(2), 'learning_rate': np.float64(0.3), 'subsample': np.float64(0.8), 'colsample_bytree': np.float64(0.7), 'n_estimators': np.int64(14), 'eval_metric': 'auc', 'random_state': 1, 'n_jobs': -1}\n",
      "Best num trees: 14\n",
      "Best validation AUC: 0.5940\n",
      "Best overall AUC so far: 0.6321\n"
     ]
    },
    {
     "name": "stderr",
     "output_type": "stream",
     "text": [
      "2024/11/17 13:43:22 INFO mlflow.tracking._tracking_service.client: 🏃 View run dapper-ram-735 at: http://localhost:5000/#/experiments/4/runs/2ddf996cbf264c6ca7429b5d815cfe7c.\n",
      "2024/11/17 13:43:22 INFO mlflow.tracking._tracking_service.client: 🧪 View experiment at: http://localhost:5000/#/experiments/4.\n"
     ]
    },
    {
     "name": "stdout",
     "output_type": "stream",
     "text": [
      "\n",
      "Trial 17/30:\n",
      "Params: {'max_depth': np.int64(7), 'min_child_weight': np.int64(5), 'learning_rate': np.float64(0.3), 'subsample': np.float64(0.7), 'colsample_bytree': np.float64(0.7), 'n_estimators': np.int64(25), 'eval_metric': 'auc', 'random_state': 1, 'n_jobs': -1}\n",
      "Best num trees: 25\n",
      "Best validation AUC: 0.6184\n",
      "Best overall AUC so far: 0.6321\n"
     ]
    },
    {
     "name": "stderr",
     "output_type": "stream",
     "text": [
      "2024/11/17 13:43:22 INFO mlflow.tracking._tracking_service.client: 🏃 View run unruly-yak-148 at: http://localhost:5000/#/experiments/4/runs/f8d6766cc52049aa9d77349f10610a8f.\n",
      "2024/11/17 13:43:22 INFO mlflow.tracking._tracking_service.client: 🧪 View experiment at: http://localhost:5000/#/experiments/4.\n"
     ]
    },
    {
     "name": "stdout",
     "output_type": "stream",
     "text": [
      "\n",
      "Trial 18/30:\n",
      "Params: {'max_depth': np.int64(4), 'min_child_weight': np.int64(2), 'learning_rate': np.float64(0.01), 'subsample': np.float64(0.9), 'colsample_bytree': np.float64(0.7), 'n_estimators': np.int64(13), 'eval_metric': 'auc', 'random_state': 1, 'n_jobs': -1}\n",
      "Best num trees: 13\n",
      "Best validation AUC: 0.5894\n",
      "Best overall AUC so far: 0.6321\n"
     ]
    },
    {
     "name": "stderr",
     "output_type": "stream",
     "text": [
      "2024/11/17 13:43:23 INFO mlflow.tracking._tracking_service.client: 🏃 View run bemused-donkey-411 at: http://localhost:5000/#/experiments/4/runs/091acccbab944855ab988218fa436acc.\n",
      "2024/11/17 13:43:23 INFO mlflow.tracking._tracking_service.client: 🧪 View experiment at: http://localhost:5000/#/experiments/4.\n"
     ]
    },
    {
     "name": "stdout",
     "output_type": "stream",
     "text": [
      "\n",
      "Trial 19/30:\n",
      "Params: {'max_depth': np.int64(8), 'min_child_weight': np.int64(4), 'learning_rate': np.float64(0.05), 'subsample': np.float64(1.0), 'colsample_bytree': np.float64(1.0), 'n_estimators': np.int64(171), 'eval_metric': 'auc', 'random_state': 1, 'n_jobs': -1}\n",
      "Best num trees: 171\n",
      "Best validation AUC: 0.5906\n",
      "Best overall AUC so far: 0.6321\n"
     ]
    },
    {
     "name": "stderr",
     "output_type": "stream",
     "text": [
      "2024/11/17 13:43:23 INFO mlflow.tracking._tracking_service.client: 🏃 View run ambitious-mole-727 at: http://localhost:5000/#/experiments/4/runs/03208e27e3ed442b8a27b68eb9fcceae.\n",
      "2024/11/17 13:43:23 INFO mlflow.tracking._tracking_service.client: 🧪 View experiment at: http://localhost:5000/#/experiments/4.\n"
     ]
    },
    {
     "name": "stdout",
     "output_type": "stream",
     "text": [
      "\n",
      "Trial 20/30:\n",
      "Params: {'max_depth': np.int64(4), 'min_child_weight': np.int64(3), 'learning_rate': np.float64(0.3), 'subsample': np.float64(0.9), 'colsample_bytree': np.float64(1.0), 'n_estimators': np.int64(60), 'eval_metric': 'auc', 'random_state': 1, 'n_jobs': -1}\n",
      "Best num trees: 60\n",
      "Best validation AUC: 0.5735\n",
      "Best overall AUC so far: 0.6321\n"
     ]
    },
    {
     "name": "stderr",
     "output_type": "stream",
     "text": [
      "2024/11/17 13:43:24 INFO mlflow.tracking._tracking_service.client: 🏃 View run intelligent-cow-145 at: http://localhost:5000/#/experiments/4/runs/eef9912bcb7648cfa25419166be4080f.\n",
      "2024/11/17 13:43:24 INFO mlflow.tracking._tracking_service.client: 🧪 View experiment at: http://localhost:5000/#/experiments/4.\n"
     ]
    },
    {
     "name": "stdout",
     "output_type": "stream",
     "text": [
      "\n",
      "Trial 21/30:\n",
      "Params: {'max_depth': np.int64(3), 'min_child_weight': np.int64(1), 'learning_rate': np.float64(0.3), 'subsample': np.float64(1.0), 'colsample_bytree': np.float64(0.8), 'n_estimators': np.int64(4), 'eval_metric': 'auc', 'random_state': 1, 'n_jobs': -1}\n",
      "Best num trees: 4\n",
      "Best validation AUC: 0.6044\n",
      "Best overall AUC so far: 0.6321\n"
     ]
    },
    {
     "name": "stderr",
     "output_type": "stream",
     "text": [
      "2024/11/17 13:43:24 INFO mlflow.tracking._tracking_service.client: 🏃 View run abrasive-eel-472 at: http://localhost:5000/#/experiments/4/runs/fedad94f2b58455d83f781f620470562.\n",
      "2024/11/17 13:43:24 INFO mlflow.tracking._tracking_service.client: 🧪 View experiment at: http://localhost:5000/#/experiments/4.\n"
     ]
    },
    {
     "name": "stdout",
     "output_type": "stream",
     "text": [
      "\n",
      "Trial 22/30:\n",
      "Params: {'max_depth': np.int64(6), 'min_child_weight': np.int64(4), 'learning_rate': np.float64(0.1), 'subsample': np.float64(0.7), 'colsample_bytree': np.float64(0.8), 'n_estimators': np.int64(123), 'eval_metric': 'auc', 'random_state': 1, 'n_jobs': -1}\n",
      "Best num trees: 123\n",
      "Best validation AUC: 0.5692\n",
      "Best overall AUC so far: 0.6321\n"
     ]
    },
    {
     "name": "stderr",
     "output_type": "stream",
     "text": [
      "2024/11/17 13:43:25 INFO mlflow.tracking._tracking_service.client: 🏃 View run loud-dog-968 at: http://localhost:5000/#/experiments/4/runs/52d80ca49b714c7d90bf4d9225b9c245.\n",
      "2024/11/17 13:43:25 INFO mlflow.tracking._tracking_service.client: 🧪 View experiment at: http://localhost:5000/#/experiments/4.\n"
     ]
    },
    {
     "name": "stdout",
     "output_type": "stream",
     "text": [
      "\n",
      "Trial 23/30:\n",
      "Params: {'max_depth': np.int64(6), 'min_child_weight': np.int64(1), 'learning_rate': np.float64(0.05), 'subsample': np.float64(1.0), 'colsample_bytree': np.float64(1.0), 'n_estimators': np.int64(146), 'eval_metric': 'auc', 'random_state': 1, 'n_jobs': -1}\n",
      "Best num trees: 146\n",
      "Best validation AUC: 0.5522\n",
      "Best overall AUC so far: 0.6321\n"
     ]
    },
    {
     "name": "stderr",
     "output_type": "stream",
     "text": [
      "2024/11/17 13:43:25 INFO mlflow.tracking._tracking_service.client: 🏃 View run beautiful-kite-722 at: http://localhost:5000/#/experiments/4/runs/e3066d3ffe0d4578ba699a91c624c308.\n",
      "2024/11/17 13:43:25 INFO mlflow.tracking._tracking_service.client: 🧪 View experiment at: http://localhost:5000/#/experiments/4.\n"
     ]
    },
    {
     "name": "stdout",
     "output_type": "stream",
     "text": [
      "\n",
      "Trial 24/30:\n",
      "Params: {'max_depth': np.int64(9), 'min_child_weight': np.int64(4), 'learning_rate': np.float64(0.01), 'subsample': np.float64(0.8), 'colsample_bytree': np.float64(0.9), 'n_estimators': np.int64(92), 'eval_metric': 'auc', 'random_state': 1, 'n_jobs': -1}\n",
      "Best num trees: 92\n",
      "Best validation AUC: 0.5863\n",
      "Best overall AUC so far: 0.6321\n"
     ]
    },
    {
     "name": "stderr",
     "output_type": "stream",
     "text": [
      "2024/11/17 13:43:26 INFO mlflow.tracking._tracking_service.client: 🏃 View run bouncy-shrike-71 at: http://localhost:5000/#/experiments/4/runs/d6a4093778e64779b1a25b2923654847.\n",
      "2024/11/17 13:43:26 INFO mlflow.tracking._tracking_service.client: 🧪 View experiment at: http://localhost:5000/#/experiments/4.\n"
     ]
    },
    {
     "name": "stdout",
     "output_type": "stream",
     "text": [
      "\n",
      "Trial 25/30:\n",
      "Params: {'max_depth': np.int64(7), 'min_child_weight': np.int64(5), 'learning_rate': np.float64(0.3), 'subsample': np.float64(0.7), 'colsample_bytree': np.float64(0.9), 'n_estimators': np.int64(6), 'eval_metric': 'auc', 'random_state': 1, 'n_jobs': -1}\n",
      "Best num trees: 6\n",
      "Best validation AUC: 0.5924\n",
      "Best overall AUC so far: 0.6321\n"
     ]
    },
    {
     "name": "stderr",
     "output_type": "stream",
     "text": [
      "2024/11/17 13:43:26 INFO mlflow.tracking._tracking_service.client: 🏃 View run burly-gnat-578 at: http://localhost:5000/#/experiments/4/runs/d1743fb310ce4cdc8d569b81dfb11999.\n",
      "2024/11/17 13:43:26 INFO mlflow.tracking._tracking_service.client: 🧪 View experiment at: http://localhost:5000/#/experiments/4.\n"
     ]
    },
    {
     "name": "stdout",
     "output_type": "stream",
     "text": [
      "\n",
      "Trial 26/30:\n",
      "Params: {'max_depth': np.int64(5), 'min_child_weight': np.int64(1), 'learning_rate': np.float64(0.1), 'subsample': np.float64(1.0), 'colsample_bytree': np.float64(1.0), 'n_estimators': np.int64(69), 'eval_metric': 'auc', 'random_state': 1, 'n_jobs': -1}\n",
      "Best num trees: 69\n",
      "Best validation AUC: 0.5527\n",
      "Best overall AUC so far: 0.6321\n"
     ]
    },
    {
     "name": "stderr",
     "output_type": "stream",
     "text": [
      "2024/11/17 13:43:26 INFO mlflow.tracking._tracking_service.client: 🏃 View run trusting-whale-180 at: http://localhost:5000/#/experiments/4/runs/671e663c4c394255a0afe20f0d42d364.\n",
      "2024/11/17 13:43:26 INFO mlflow.tracking._tracking_service.client: 🧪 View experiment at: http://localhost:5000/#/experiments/4.\n"
     ]
    },
    {
     "name": "stdout",
     "output_type": "stream",
     "text": [
      "\n",
      "Trial 27/30:\n",
      "Params: {'max_depth': np.int64(3), 'min_child_weight': np.int64(3), 'learning_rate': np.float64(0.01), 'subsample': np.float64(0.8), 'colsample_bytree': np.float64(0.7), 'n_estimators': np.int64(82), 'eval_metric': 'auc', 'random_state': 1, 'n_jobs': -1}\n",
      "Best num trees: 82\n",
      "Best validation AUC: 0.5888\n",
      "Best overall AUC so far: 0.6321\n"
     ]
    },
    {
     "name": "stderr",
     "output_type": "stream",
     "text": [
      "2024/11/17 13:43:27 INFO mlflow.tracking._tracking_service.client: 🏃 View run delightful-auk-179 at: http://localhost:5000/#/experiments/4/runs/f71b3aa1b1964a43888e69e1029fb15e.\n",
      "2024/11/17 13:43:27 INFO mlflow.tracking._tracking_service.client: 🧪 View experiment at: http://localhost:5000/#/experiments/4.\n"
     ]
    },
    {
     "name": "stdout",
     "output_type": "stream",
     "text": [
      "\n",
      "Trial 28/30:\n",
      "Params: {'max_depth': np.int64(5), 'min_child_weight': np.int64(4), 'learning_rate': np.float64(0.01), 'subsample': np.float64(0.7), 'colsample_bytree': np.float64(0.8), 'n_estimators': np.int64(85), 'eval_metric': 'auc', 'random_state': 1, 'n_jobs': -1}\n",
      "Best num trees: 85\n",
      "Best validation AUC: 0.6110\n",
      "Best overall AUC so far: 0.6321\n"
     ]
    },
    {
     "name": "stderr",
     "output_type": "stream",
     "text": [
      "2024/11/17 13:43:27 INFO mlflow.tracking._tracking_service.client: 🏃 View run respected-hound-828 at: http://localhost:5000/#/experiments/4/runs/7069bc73a9894dd5ba34c4a4c723c855.\n",
      "2024/11/17 13:43:27 INFO mlflow.tracking._tracking_service.client: 🧪 View experiment at: http://localhost:5000/#/experiments/4.\n"
     ]
    },
    {
     "name": "stdout",
     "output_type": "stream",
     "text": [
      "\n",
      "Trial 29/30:\n",
      "Params: {'max_depth': np.int64(4), 'min_child_weight': np.int64(3), 'learning_rate': np.float64(0.3), 'subsample': np.float64(0.8), 'colsample_bytree': np.float64(0.9), 'n_estimators': np.int64(19), 'eval_metric': 'auc', 'random_state': 1, 'n_jobs': -1}\n",
      "Best num trees: 19\n",
      "Best validation AUC: 0.6012\n",
      "Best overall AUC so far: 0.6321\n"
     ]
    },
    {
     "name": "stderr",
     "output_type": "stream",
     "text": [
      "2024/11/17 13:43:28 INFO mlflow.tracking._tracking_service.client: 🏃 View run serious-ray-303 at: http://localhost:5000/#/experiments/4/runs/9d05ce11c2774ee9a4276c6acd53c37d.\n",
      "2024/11/17 13:43:28 INFO mlflow.tracking._tracking_service.client: 🧪 View experiment at: http://localhost:5000/#/experiments/4.\n"
     ]
    },
    {
     "name": "stdout",
     "output_type": "stream",
     "text": [
      "\n",
      "Trial 30/30:\n",
      "Params: {'max_depth': np.int64(7), 'min_child_weight': np.int64(3), 'learning_rate': np.float64(0.05), 'subsample': np.float64(0.7), 'colsample_bytree': np.float64(0.9), 'n_estimators': np.int64(3), 'eval_metric': 'auc', 'random_state': 1, 'n_jobs': -1}\n",
      "Best num trees: 3\n",
      "Best validation AUC: 0.5862\n",
      "Best overall AUC so far: 0.6321\n",
      "\n",
      "Best overall results:\n",
      "AUC: 0.6321\n",
      "Number of trees: 23\n",
      "Parameters:\n",
      "  max_depth: 8\n",
      "  min_child_weight: 2\n",
      "  learning_rate: 0.1\n",
      "  subsample: 0.9\n",
      "  colsample_bytree: 0.9\n",
      "  n_estimators: 23\n",
      "  eval_metric: auc\n",
      "  random_state: 1\n",
      "  n_jobs: -1\n"
     ]
    }
   ],
   "source": [
    "param_ranges = {\n",
    "    'max_depth': range(3, 10),\n",
    "    'min_child_weight': range(1, 6),\n",
    "    'learning_rate': [0.01, 0.05, 0.1, 0.3],\n",
    "    'subsample': [0.7, 0.8, 0.9, 1.0],\n",
    "    'colsample_bytree': [0.7, 0.8, 0.9, 1.0],\n",
    "}\n",
    "\n",
    "n_trials = 30\n",
    "best_overall_auc = 0\n",
    "best_overall_params = None\n",
    "best_overall_trees = None\n",
    "\n",
    "for trial in range(n_trials):\n",
    "    with mlflow.start_run():\n",
    "        # Sample random parameters\n",
    "        params = {\n",
    "            'max_depth': np.random.choice(param_ranges['max_depth']),\n",
    "            'min_child_weight': np.random.choice(param_ranges['min_child_weight']),\n",
    "            'learning_rate': np.random.choice(param_ranges['learning_rate']),\n",
    "            'subsample': np.random.choice(param_ranges['subsample']),\n",
    "            'colsample_bytree': np.random.choice(param_ranges['colsample_bytree']),\n",
    "            'n_estimators': 200,\n",
    "            'eval_metric': 'auc',\n",
    "            'random_state': 1,\n",
    "            'n_jobs': -1\n",
    "        }\n",
    "        \n",
    "        # Create and train model\n",
    "        model = xgb.XGBClassifier(**params)\n",
    "        \n",
    "        # Train with evaluation set\n",
    "        model.fit(\n",
    "            X_train, \n",
    "            y_train,\n",
    "            eval_set=[(X_train, y_train), (X_val, y_val)],\n",
    "            verbose=False\n",
    "        )\n",
    "\n",
    "        validation_auc = model.evals_result()['validation_1']['auc']\n",
    "        validation_auc = np.array(validation_auc)\n",
    "        best_auc = validation_auc.max()\n",
    "        best_num_trees = validation_auc.argmax() + 1\n",
    "\n",
    "        params_to_log = params.copy()\n",
    "        params_to_log['n_estimators'] = best_num_trees\n",
    "        mlflow.log_params(params_to_log)\n",
    "\n",
    "        train_auc = model.evals_result()['validation_0']['auc'][best_num_trees - 1]\n",
    "        \n",
    "        mlflow.log_metrics({\n",
    "            'best_val_auc': best_auc,\n",
    "            'train_auc': train_auc\n",
    "        })\n",
    "\n",
    "\n",
    "        params['n_estimators'] = best_num_trees\n",
    "\n",
    "        # Update best overall model if necessary\n",
    "        if best_auc > best_overall_auc:\n",
    "            best_overall_auc = best_auc\n",
    "            best_overall_params = params.copy()\n",
    "            best_overall_trees = best_num_trees\n",
    "            \n",
    "        print(f\"\\nTrial {trial + 1}/{n_trials}:\")\n",
    "        print(f\"Params: {params}\")\n",
    "        print(f\"Best num trees: {best_num_trees}\")\n",
    "        print(f\"Best validation AUC: {best_auc:.4f}\")\n",
    "        print(f\"Best overall AUC so far: {best_overall_auc:.4f}\")\n",
    "\n",
    "print(\"\\nBest overall results:\")\n",
    "print(f\"AUC: {best_overall_auc:.4f}\")\n",
    "print(f\"Number of trees: {best_overall_trees}\")\n",
    "print(\"Parameters:\")\n",
    "for param, value in best_overall_params.items():\n",
    "    print(f\"  {param}: {value}\")"
   ]
  },
  {
   "cell_type": "code",
   "execution_count": 110,
   "id": "7bc291f2-173b-482a-964b-83f125947611",
   "metadata": {},
   "outputs": [
    {
     "data": {
      "text/plain": [
       "{'max_depth': np.int64(8),\n",
       " 'min_child_weight': np.int64(2),\n",
       " 'learning_rate': np.float64(0.1),\n",
       " 'subsample': np.float64(0.9),\n",
       " 'colsample_bytree': np.float64(0.9),\n",
       " 'n_estimators': np.int64(23),\n",
       " 'eval_metric': 'auc',\n",
       " 'random_state': 1,\n",
       " 'n_jobs': -1}"
      ]
     },
     "execution_count": 110,
     "metadata": {},
     "output_type": "execute_result"
    }
   ],
   "source": [
    "best_overall_params"
   ]
  },
  {
   "cell_type": "code",
   "execution_count": 111,
   "id": "561281b7-3490-44b2-83aa-06c5df4fa39c",
   "metadata": {},
   "outputs": [
    {
     "name": "stderr",
     "output_type": "stream",
     "text": [
      "2024/11/17 13:44:13 WARNING mlflow.models.model: Model logged without a signature and input example. Please set `input_example` parameter when logging the model to auto infer the model signature.\n",
      "2024/11/17 13:44:13 INFO mlflow.tracking._tracking_service.client: 🏃 View run calm-eel-826 at: http://localhost:5000/#/experiments/4/runs/4596f2e066af4ac893c5e06b0469a6e4.\n",
      "2024/11/17 13:44:13 INFO mlflow.tracking._tracking_service.client: 🧪 View experiment at: http://localhost:5000/#/experiments/4.\n"
     ]
    }
   ],
   "source": [
    "with mlflow.start_run():\n",
    "    # Create pipeline with best parameters\n",
    "    best_pipeline = Pipeline([\n",
    "        ('preprocessor', dv),\n",
    "        ('model', xgb.XGBClassifier(**best_overall_params))\n",
    "    ])\n",
    "    \n",
    "    # Fit the pipeline\n",
    "    best_pipeline.fit(train_dicts, y_train)\n",
    "    \n",
    "    # Log parameters and metrics\n",
    "    mlflow.log_params(best_overall_params)\n",
    "    mlflow.log_metrics({\n",
    "        'best_val_auc': best_overall_auc,\n",
    "        'best_num_trees': best_overall_trees\n",
    "    })\n",
    "    \n",
    "    # Save the model\n",
    "    mlflow.sklearn.log_model(best_pipeline, \"model\")"
   ]
  },
  {
   "cell_type": "code",
   "execution_count": null,
   "id": "6122426e-ab16-409f-a836-1b455a251f85",
   "metadata": {},
   "outputs": [],
   "source": []
  }
 ],
 "metadata": {
  "kernelspec": {
   "display_name": "Python 3 (ipykernel)",
   "language": "python",
   "name": "python3"
  },
  "language_info": {
   "codemirror_mode": {
    "name": "ipython",
    "version": 3
   },
   "file_extension": ".py",
   "mimetype": "text/x-python",
   "name": "python",
   "nbconvert_exporter": "python",
   "pygments_lexer": "ipython3",
   "version": "3.12.1"
  }
 },
 "nbformat": 4,
 "nbformat_minor": 5
}
