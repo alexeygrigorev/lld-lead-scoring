{
 "cells": [
  {
   "cell_type": "code",
   "execution_count": 1,
   "id": "228f0b0d-dff2-4cb6-9348-14cd5ce0f9ac",
   "metadata": {},
   "outputs": [],
   "source": [
    "from datetime import datetime, timedelta\n",
    "from collections import defaultdict\n",
    "\n",
    "import pandas as pd\n",
    "import numpy as np"
   ]
  },
  {
   "cell_type": "code",
   "execution_count": 2,
   "id": "c874b7c8-282f-40ac-9e8c-2f1d1b3145fd",
   "metadata": {},
   "outputs": [],
   "source": [
    "import matplotlib.pyplot as plt\n",
    "import seaborn as sns"
   ]
  },
  {
   "cell_type": "code",
   "execution_count": 3,
   "id": "d863c601-1f27-4603-9155-e8532633e096",
   "metadata": {},
   "outputs": [],
   "source": [
    "from sklearn.feature_extraction import DictVectorizer\n",
    "from sklearn.metrics import roc_auc_score\n",
    "from sklearn.pipeline import Pipeline, make_pipeline"
   ]
  },
  {
   "cell_type": "code",
   "execution_count": 10,
   "id": "2a21e51d-a39a-480b-92c7-f4a4ed4f6e67",
   "metadata": {},
   "outputs": [],
   "source": [
    "from sklearn.tree import DecisionTreeClassifier\n",
    "from sklearn.model_selection import GridSearchCV\n"
   ]
  },
  {
   "cell_type": "code",
   "execution_count": 4,
   "id": "69d21c5a-92dd-4067-a3df-1182c602d205",
   "metadata": {},
   "outputs": [
    {
     "name": "stderr",
     "output_type": "stream",
     "text": [
      "2024/11/15 12:25:24 INFO mlflow.tracking.fluent: Experiment with name 'decision_tree_tuning' does not exist. Creating a new experiment.\n"
     ]
    },
    {
     "data": {
      "text/plain": [
       "<Experiment: artifact_location='/workspaces/lld-lead-scoring/analytics/mlruns/2', creation_time=1731673524680, experiment_id='2', last_update_time=1731673524680, lifecycle_stage='active', name='decision_tree_tuning', tags={}>"
      ]
     },
     "execution_count": 4,
     "metadata": {},
     "output_type": "execute_result"
    }
   ],
   "source": [
    "import mlflow\n",
    "\n",
    "mlflow.set_tracking_uri(\"http://localhost:5000\")\n",
    "mlflow.set_experiment(\"decision_tree_tuning\")"
   ]
  },
  {
   "cell_type": "code",
   "execution_count": 5,
   "id": "225402d5-108d-43a8-a3a6-ed404668dd7e",
   "metadata": {},
   "outputs": [],
   "source": [
    "df_users = pd.read_csv('../data/random-users.csv')\n",
    "df_logs = pd.read_csv('../data/random-logs.csv')"
   ]
  },
  {
   "cell_type": "code",
   "execution_count": 6,
   "id": "39d03771-9e4b-4aea-a0f3-c4bb74521e8f",
   "metadata": {},
   "outputs": [],
   "source": [
    "def preprocess_required_features(df):\n",
    "    df = df.copy()\n",
    "    \n",
    "    def process_feature_string(feature_string):\n",
    "        features = [f.strip() for f in feature_string.split(',')]\n",
    "        return {f'required_feature_{feature}': 1 for feature in features}\n",
    "    \n",
    "    feature_dicts = df['required_features'].apply(process_feature_string)\n",
    "    df = df.drop('required_features', axis=1)\n",
    "    record_dicts = df.to_dict('records')\n",
    "    \n",
    "    for record, feature_dict in zip(record_dicts, feature_dicts):\n",
    "        record.update(feature_dict)\n",
    "    \n",
    "    return record_dicts"
   ]
  },
  {
   "cell_type": "code",
   "execution_count": 7,
   "id": "0ce182f6-437c-47df-8a6f-4e32c5d7a8e6",
   "metadata": {},
   "outputs": [],
   "source": [
    "def create_log_features(df_users, df_logs, cutoff_date):\n",
    "    df_logs_filtered = df_logs[df_logs['timestamp'] < cutoff_date].copy()\n",
    "    \n",
    "    engagement_metrics = df_logs_filtered.groupby('user_id').agg({\n",
    "        'timestamp': ['count', 'nunique'],  # Total actions and unique days\n",
    "        'duration_seconds': ['sum', 'mean', 'std']  # Time spent metrics\n",
    "    }).round(2)\n",
    "    \n",
    "    engagement_metrics.columns = [\n",
    "        'total_actions',\n",
    "        'active_days',\n",
    "        'total_duration',\n",
    "        'avg_duration',\n",
    "        'std_duration'\n",
    "    ]\n",
    "    \n",
    "    # Action category distribution\n",
    "    category_counts = df_logs_filtered.groupby(['user_id', 'action_category']).size().unstack(\n",
    "        fill_value=0\n",
    "    ).add_prefix('category_')\n",
    "    \n",
    "    # Action type distribution (top 10 most common)\n",
    "    top_actions = df_logs_filtered['action_type'].value_counts().nlargest(10).index\n",
    "    action_counts = df_logs_filtered[df_logs_filtered['action_type'].isin(top_actions)]\\\n",
    "        .groupby(['user_id', 'action_type']).size().unstack(fill_value=0).add_prefix('action_')\n",
    "    \n",
    "    # Time-based features\n",
    "    df_logs_filtered['hour'] = df_logs_filtered['timestamp'].dt.hour\n",
    "    time_metrics = df_logs_filtered.groupby('user_id').agg({\n",
    "        'hour': lambda x: len(x[x.between(9, 17)]) / len(x)  # Fraction of activity during business hours\n",
    "    }).round(2)\n",
    "    time_metrics.columns = ['business_hours_ratio']\n",
    "    \n",
    "    # Activity patterns\n",
    "    df_logs_filtered['days_since_signup'] = (\n",
    "        df_logs_filtered['timestamp'] - \n",
    "        df_logs_filtered['user_id'].map(df_users.set_index('user_id')['signup_date'])\n",
    "    ).dt.days\n",
    "    \n",
    "    recency_metrics = df_logs_filtered.groupby('user_id').agg({\n",
    "        'days_since_signup': ['min', 'max']\n",
    "    }).round(2)\n",
    "    recency_metrics.columns = ['days_to_first_action', 'days_to_last_action']\n",
    "    \n",
    "    # Advanced engagement metrics\n",
    "    df_logs_filtered['prev_timestamp'] = df_logs_filtered.groupby('user_id')['timestamp'].shift(1)\n",
    "    df_logs_filtered['time_between_actions'] = (\n",
    "        df_logs_filtered['timestamp'] - df_logs_filtered['prev_timestamp']\n",
    "    ).dt.total_seconds() / 3600  # Convert to hours\n",
    "    \n",
    "    engagement_patterns = df_logs_filtered.groupby('user_id').agg({\n",
    "        'time_between_actions': ['mean', 'std']\n",
    "    }).round(2)\n",
    "    engagement_patterns.columns = ['avg_hours_between_actions', 'std_hours_between_actions']\n",
    "    \n",
    "    # Feature importance indicators\n",
    "    feature_exploration = df_logs_filtered[\n",
    "        df_logs_filtered['action_type'] == 'view_features'\n",
    "    ].groupby('user_id').size().to_frame('feature_views')\n",
    "    \n",
    "    # Combine all features\n",
    "    log_features = pd.concat([\n",
    "        engagement_metrics,\n",
    "        category_counts,\n",
    "        action_counts,\n",
    "        time_metrics,\n",
    "        recency_metrics,\n",
    "        engagement_patterns,\n",
    "        feature_exploration\n",
    "    ], axis=1).reset_index()\n",
    "    \n",
    "    # Fill NaN values with 0 for new users or users with missing metrics\n",
    "    log_features = log_features.fillna(0)\n",
    "    \n",
    "    return log_features\n",
    "\n",
    "\n",
    "def prepare_lead_scoring_data(df_users, df_logs, train_end_date, val_end_date):\n",
    "    df_users = df_users.copy()\n",
    "    df_logs = df_logs.copy()\n",
    "    \n",
    "    df_users['signup_date'] = pd.to_datetime(df_users['signup_date'])\n",
    "    df_logs['timestamp'] = pd.to_datetime(df_logs['timestamp'])\n",
    "    \n",
    "    train_end_date = pd.to_datetime(train_end_date)\n",
    "    val_end_date = pd.to_datetime(val_end_date)\n",
    "    \n",
    "    train_mask = df_users['signup_date'] < train_end_date\n",
    "    val_mask = (df_users['signup_date'] >= train_end_date) & (df_users['signup_date'] < val_end_date)\n",
    "    test_mask = df_users['signup_date'] >= val_end_date\n",
    "    \n",
    "    df_train = df_users[train_mask].copy()\n",
    "    df_val = df_users[val_mask].copy()\n",
    "    df_test = df_users[test_mask].copy()\n",
    "    \n",
    "    train_features = create_log_features(df_users, df_logs, train_end_date)\n",
    "    val_features = create_log_features(df_users, df_logs, val_end_date)\n",
    "    test_features = create_log_features(df_users, df_logs, df_logs['timestamp'].max())\n",
    "\n",
    "    df_train = df_train.merge(train_features, on='user_id', how='left')\n",
    "    df_val = df_val.merge(val_features, on='user_id', how='left')\n",
    "    df_test = df_test.merge(test_features, on='user_id', how='left')\n",
    "\n",
    "    return df_train, df_val, df_test"
   ]
  },
  {
   "cell_type": "code",
   "execution_count": 8,
   "id": "6e21c5b0-a1ae-4a00-91b1-4bd3d29d469d",
   "metadata": {},
   "outputs": [],
   "source": [
    "df_train, df_val, df_test = prepare_lead_scoring_data(\n",
    "    df_users,\n",
    "    df_logs,\n",
    "    train_end_date='2024-03-01',\n",
    "    val_end_date='2024-03-15'\n",
    ")"
   ]
  },
  {
   "cell_type": "code",
   "execution_count": 9,
   "id": "be980606-f060-44ab-a955-465c3113fe70",
   "metadata": {},
   "outputs": [],
   "source": [
    "def prepare_features(df):\n",
    "    df = df.copy()\n",
    "    \n",
    "    date_columns = ['signup_date', 'conversion_date']\n",
    "    exclude_columns = ['user_id', 'converted'] + date_columns\n",
    "\n",
    "    df = df.drop(columns=exclude_columns)\n",
    "    df = df.fillna(0)\n",
    "    feature_dict = preprocess_required_features(df)\n",
    "\n",
    "    return feature_dict\n",
    "\n",
    "train_dicts = prepare_features(df_train)\n",
    "val_dicts = prepare_features(df_val)\n",
    "test_dicts = prepare_features(df_test)\n",
    "\n",
    "y_train = df_train['converted'].values\n",
    "y_val = df_val['converted'].values\n",
    "y_test = df_test['converted'].values"
   ]
  },
  {
   "cell_type": "code",
   "execution_count": 30,
   "id": "448436ef-6e52-4abb-86e1-ee9447459c71",
   "metadata": {},
   "outputs": [
    {
     "data": {
      "text/plain": [
       "np.float64(0.5609871196979791)"
      ]
     },
     "execution_count": 30,
     "metadata": {},
     "output_type": "execute_result"
    }
   ],
   "source": [
    "pipeline = make_pipeline(\n",
    "    DictVectorizer(),\n",
    "    DecisionTreeClassifier(\n",
    "        max_depth=5,              # Prevent overfitting\n",
    "        min_samples_leaf=50,      # Ensure stable leaf predictions\n",
    "        class_weight='balanced',  # Handle class imbalance\n",
    "        random_state=1\n",
    "    )\n",
    ")\n",
    "\n",
    "pipeline.fit(train_dicts, y_train)\n",
    "y_pred = pipeline.predict_proba(val_dicts)[:, 1]\n",
    "val_auc = roc_auc_score(y_val, y_pred)\n",
    "val_auc"
   ]
  },
  {
   "cell_type": "code",
   "execution_count": 19,
   "id": "2a1c2782-12da-4667-b03e-aa71b2a52f6f",
   "metadata": {
    "scrolled": true
   },
   "outputs": [
    {
     "name": "stdout",
     "output_type": "stream",
     "text": [
      "Top 20 most important features:\n",
      "avg_duration: 0.4039\n",
      "avg_hours_between_actions: 0.2159\n",
      "category_platform_exploration: 0.0951\n",
      "action_invite_users: 0.0748\n",
      "organization_type=Professional Training Provider: 0.0550\n",
      "business_hours_ratio: 0.0523\n",
      "primary_use_case=Skills Development: 0.0454\n",
      "decision_timeframe=3-6 months: 0.0374\n",
      "days_to_last_action: 0.0202\n",
      "action_configure_dashboard: 0.0000\n",
      "action_create_assignment: 0.0000\n",
      "action_create_course: 0.0000\n",
      "action_grade_submission: 0.0000\n",
      "action_organize_content: 0.0000\n",
      "action_publish_course: 0.0000\n",
      "action_record_session: 0.0000\n",
      "action_setup_integration: 0.0000\n",
      "action_view_features: 0.0000\n",
      "active_days: 0.0000\n",
      "category_analytics: 0.0000\n"
     ]
    }
   ],
   "source": [
    "\n",
    "\n",
    "feature_names = pipeline[0].get_feature_names_out()\n",
    "importances = pipeline[1].feature_importances_\n",
    "\n",
    "print(\"Top 20 most important features:\")\n",
    "feature_importance = list(zip(feature_names, importances))\n",
    "feature_importance.sort(key=lambda x: x[1], reverse=True)\n",
    "for feature, importance in feature_importance[:20]:\n",
    "    print(f\"{feature}: {importance:.4f}\")"
   ]
  },
  {
   "cell_type": "code",
   "execution_count": 22,
   "id": "2749c445-d486-43eb-a5d2-e1b991445ddc",
   "metadata": {},
   "outputs": [],
   "source": [
    "from sklearn.tree import plot_tree, export_text"
   ]
  },
  {
   "cell_type": "code",
   "execution_count": 24,
   "id": "937a30ac-09d8-4532-8222-064bd1ef4c58",
   "metadata": {},
   "outputs": [],
   "source": [
    "tree = pipeline[1]"
   ]
  },
  {
   "cell_type": "code",
   "execution_count": 25,
   "id": "fcb7944b-3ed6-4534-ac87-7a4ca573ada5",
   "metadata": {},
   "outputs": [
    {
     "data": {
      "text/plain": [
       "Text(0.5, 1.0, 'Decision Tree Visualization')"
      ]
     },
     "execution_count": 25,
     "metadata": {},
     "output_type": "execute_result"
    },
    {
     "data": {
      "image/png": "[encoded data removed]",
      "text/plain": [
       "<Figure size 2000x1000 with 1 Axes>"
      ]
     },
     "metadata": {},
     "output_type": "display_data"
    }
   ],
   "source": [
    "plt.figure(figsize=(20,10))\n",
    "plot_tree(\n",
    "    tree, \n",
    "    feature_names=feature_names,\n",
    "    class_names=['Not Converted', 'Converted'],\n",
    "    filled=True,\n",
    "    rounded=True,\n",
    "    fontsize=10,\n",
    "    max_depth=3  # Limit depth for visibility\n",
    ")\n",
    "plt.title(\"Decision Tree Visualization\")"
   ]
  },
  {
   "cell_type": "code",
   "execution_count": 27,
   "id": "098a2ca2-a8e6-401a-b873-6ab3e2cb0b0c",
   "metadata": {},
   "outputs": [],
   "source": [
    "text = export_text(\n",
    "    tree, \n",
    "    feature_names=feature_names, \n",
    "    show_weights=True,\n",
    "    spacing=3\n",
    ")"
   ]
  },
  {
   "cell_type": "code",
   "execution_count": 28,
   "id": "52c86a63-9fa0-4703-93bd-cbc367ee1787",
   "metadata": {},
   "outputs": [
    {
     "name": "stdout",
     "output_type": "stream",
     "text": [
      "|--- avg_duration <= 196.04\n",
      "|   |--- avg_hours_between_actions <= 9.50\n",
      "|   |   |--- weights: [28.37, 26.74] class: False\n",
      "|   |--- avg_hours_between_actions >  9.50\n",
      "|   |   |--- decision_timeframe=3-6 months <= 0.50\n",
      "|   |   |   |--- days_to_last_action <= 18.50\n",
      "|   |   |   |   |--- weights: [48.99, 11.14] class: False\n",
      "|   |   |   |--- days_to_last_action >  18.50\n",
      "|   |   |   |   |--- weights: [48.99, 0.00] class: False\n",
      "|   |   |--- decision_timeframe=3-6 months >  0.50\n",
      "|   |   |   |--- weights: [31.59, 15.60] class: False\n",
      "|--- avg_duration >  196.04\n",
      "|   |--- avg_hours_between_actions <= 10.89\n",
      "|   |   |--- avg_duration <= 287.55\n",
      "|   |   |   |--- organization_type=Professional Training Provider <= 0.50\n",
      "|   |   |   |   |--- business_hours_ratio <= 0.47\n",
      "|   |   |   |   |   |--- weights: [202.42, 271.84] class: True\n",
      "|   |   |   |   |--- business_hours_ratio >  0.47\n",
      "|   |   |   |   |   |--- weights: [16.76, 55.70] class: True\n",
      "|   |   |   |--- organization_type=Professional Training Provider >  0.50\n",
      "|   |   |   |   |--- weights: [38.68, 24.51] class: False\n",
      "|   |   |--- avg_duration >  287.55\n",
      "|   |   |   |--- weights: [19.34, 69.07] class: True\n",
      "|   |--- avg_hours_between_actions >  10.89\n",
      "|   |   |--- action_invite_users <= 0.50\n",
      "|   |   |   |--- category_platform_exploration <= 30.50\n",
      "|   |   |   |   |--- primary_use_case=Skills Development <= 0.50\n",
      "|   |   |   |   |   |--- weights: [112.82, 106.95] class: False\n",
      "|   |   |   |   |--- primary_use_case=Skills Development >  0.50\n",
      "|   |   |   |   |   |--- weights: [33.52, 11.14] class: False\n",
      "|   |   |   |--- category_platform_exploration >  30.50\n",
      "|   |   |   |   |--- weights: [38.68, 4.46] class: False\n",
      "|   |   |--- action_invite_users >  0.50\n",
      "|   |   |   |--- weights: [43.84, 66.85] class: True\n",
      "\n"
     ]
    }
   ],
   "source": [
    "print(text)"
   ]
  },
  {
   "cell_type": "code",
   "execution_count": 34,
   "id": "c3af3f3c-be2d-468f-b7d9-239a22443edd",
   "metadata": {
    "scrolled": true
   },
   "outputs": [
    {
     "name": "stdout",
     "output_type": "stream",
     "text": [
      "Trial #0\n"
     ]
    },
    {
     "name": "stderr",
     "output_type": "stream",
     "text": [
      "2024/11/15 13:03:32 WARNING mlflow.models.model: Model logged without a signature and input example. Please set `input_example` parameter when logging the model to auto infer the model signature.\n",
      "2024/11/15 13:03:32 INFO mlflow.tracking._tracking_service.client: 🏃 View run defiant-dolphin-488 at: http://localhost:5000/#/experiments/2/runs/402ad2eb87aa44bb8cb74fe97b953b71.\n",
      "2024/11/15 13:03:32 INFO mlflow.tracking._tracking_service.client: 🧪 View experiment at: http://localhost:5000/#/experiments/2.\n"
     ]
    },
    {
     "name": "stdout",
     "output_type": "stream",
     "text": [
      "Trial 1/30:\n",
      "Params: {'max_depth': np.int64(3), 'min_samples_leaf': np.int64(25), 'min_samples_split': np.int64(62), 'class_weight': 'balanced', 'random_state': 1}\n",
      "Train AUC: 0.6616, Val AUC: 0.5748\n",
      "Best Val AUC so far: 0.5748\n",
      "\n",
      "Trial #1\n"
     ]
    },
    {
     "name": "stderr",
     "output_type": "stream",
     "text": [
      "2024/11/15 13:03:34 WARNING mlflow.models.model: Model logged without a signature and input example. Please set `input_example` parameter when logging the model to auto infer the model signature.\n",
      "2024/11/15 13:03:34 INFO mlflow.tracking._tracking_service.client: 🏃 View run wistful-pig-209 at: http://localhost:5000/#/experiments/2/runs/7e2af5e836714c39a6a746e44d96fbc0.\n",
      "2024/11/15 13:03:34 INFO mlflow.tracking._tracking_service.client: 🧪 View experiment at: http://localhost:5000/#/experiments/2.\n"
     ]
    },
    {
     "name": "stdout",
     "output_type": "stream",
     "text": [
      "Trial 2/30:\n",
      "Params: {'max_depth': np.int64(3), 'min_samples_leaf': np.int64(17), 'min_samples_split': np.int64(74), 'class_weight': 'balanced', 'random_state': 1}\n",
      "Train AUC: 0.6616, Val AUC: 0.5748\n",
      "Best Val AUC so far: 0.5748\n",
      "\n",
      "Trial #2\n"
     ]
    },
    {
     "name": "stderr",
     "output_type": "stream",
     "text": [
      "2024/11/15 13:03:36 WARNING mlflow.models.model: Model logged without a signature and input example. Please set `input_example` parameter when logging the model to auto infer the model signature.\n",
      "2024/11/15 13:03:36 INFO mlflow.tracking._tracking_service.client: 🏃 View run useful-sheep-121 at: http://localhost:5000/#/experiments/2/runs/344a47f651264679a7f542c2f0fe9785.\n",
      "2024/11/15 13:03:36 INFO mlflow.tracking._tracking_service.client: 🧪 View experiment at: http://localhost:5000/#/experiments/2.\n"
     ]
    },
    {
     "name": "stdout",
     "output_type": "stream",
     "text": [
      "Trial 3/30:\n",
      "Params: {'max_depth': np.int64(9), 'min_samples_leaf': np.int64(71), 'min_samples_split': np.int64(20), 'class_weight': 'balanced', 'random_state': 1}\n",
      "Train AUC: 0.7145, Val AUC: 0.5336\n",
      "Best Val AUC so far: 0.5748\n",
      "\n",
      "Trial #3\n"
     ]
    },
    {
     "name": "stderr",
     "output_type": "stream",
     "text": [
      "2024/11/15 13:03:38 WARNING mlflow.models.model: Model logged without a signature and input example. Please set `input_example` parameter when logging the model to auto infer the model signature.\n",
      "2024/11/15 13:03:38 INFO mlflow.tracking._tracking_service.client: 🏃 View run loud-donkey-187 at: http://localhost:5000/#/experiments/2/runs/b00edce577454ab58809866480d53064.\n",
      "2024/11/15 13:03:38 INFO mlflow.tracking._tracking_service.client: 🧪 View experiment at: http://localhost:5000/#/experiments/2.\n"
     ]
    },
    {
     "name": "stdout",
     "output_type": "stream",
     "text": [
      "Trial 4/30:\n",
      "Params: {'max_depth': np.int64(6), 'min_samples_leaf': np.int64(88), 'min_samples_split': np.int64(13), 'class_weight': 'balanced', 'random_state': 1}\n",
      "Train AUC: 0.7035, Val AUC: 0.5685\n",
      "Best Val AUC so far: 0.5748\n",
      "\n",
      "Trial #4\n"
     ]
    },
    {
     "name": "stderr",
     "output_type": "stream",
     "text": [
      "2024/11/15 13:03:40 WARNING mlflow.models.model: Model logged without a signature and input example. Please set `input_example` parameter when logging the model to auto infer the model signature.\n",
      "2024/11/15 13:03:40 INFO mlflow.tracking._tracking_service.client: 🏃 View run overjoyed-sloth-833 at: http://localhost:5000/#/experiments/2/runs/c701393fa9f540a68dd37ebfba6264d4.\n",
      "2024/11/15 13:03:40 INFO mlflow.tracking._tracking_service.client: 🧪 View experiment at: http://localhost:5000/#/experiments/2.\n"
     ]
    },
    {
     "name": "stdout",
     "output_type": "stream",
     "text": [
      "Trial 5/30:\n",
      "Params: {'max_depth': np.int64(4), 'min_samples_leaf': np.int64(24), 'min_samples_split': np.int64(70), 'class_weight': 'balanced', 'random_state': 1}\n",
      "Train AUC: 0.6879, Val AUC: 0.5756\n",
      "Best Val AUC so far: 0.5756\n",
      "\n",
      "Trial #5\n"
     ]
    },
    {
     "name": "stderr",
     "output_type": "stream",
     "text": [
      "2024/11/15 13:03:41 WARNING mlflow.models.model: Model logged without a signature and input example. Please set `input_example` parameter when logging the model to auto infer the model signature.\n",
      "2024/11/15 13:03:41 INFO mlflow.tracking._tracking_service.client: 🏃 View run polite-pug-189 at: http://localhost:5000/#/experiments/2/runs/40c9c785f3d34c0c988bd2bbad0a067b.\n",
      "2024/11/15 13:03:41 INFO mlflow.tracking._tracking_service.client: 🧪 View experiment at: http://localhost:5000/#/experiments/2.\n"
     ]
    },
    {
     "name": "stdout",
     "output_type": "stream",
     "text": [
      "Trial 6/30:\n",
      "Params: {'max_depth': np.int64(7), 'min_samples_leaf': np.int64(47), 'min_samples_split': np.int64(37), 'class_weight': 'balanced', 'random_state': 1}\n",
      "Train AUC: 0.7275, Val AUC: 0.5484\n",
      "Best Val AUC so far: 0.5756\n",
      "\n",
      "Trial #6\n"
     ]
    },
    {
     "name": "stderr",
     "output_type": "stream",
     "text": [
      "2024/11/15 13:03:43 WARNING mlflow.models.model: Model logged without a signature and input example. Please set `input_example` parameter when logging the model to auto infer the model signature.\n",
      "2024/11/15 13:03:43 INFO mlflow.tracking._tracking_service.client: 🏃 View run unruly-boar-530 at: http://localhost:5000/#/experiments/2/runs/3b6d07bb5a1d4411a3949001b74ca15e.\n",
      "2024/11/15 13:03:43 INFO mlflow.tracking._tracking_service.client: 🧪 View experiment at: http://localhost:5000/#/experiments/2.\n"
     ]
    },
    {
     "name": "stdout",
     "output_type": "stream",
     "text": [
      "Trial 7/30:\n",
      "Params: {'max_depth': np.int64(7), 'min_samples_leaf': np.int64(18), 'min_samples_split': np.int64(19), 'class_weight': 'balanced', 'random_state': 1}\n",
      "Train AUC: 0.7605, Val AUC: 0.5695\n",
      "Best Val AUC so far: 0.5756\n",
      "\n",
      "Trial #7\n"
     ]
    },
    {
     "name": "stderr",
     "output_type": "stream",
     "text": [
      "2024/11/15 13:03:45 WARNING mlflow.models.model: Model logged without a signature and input example. Please set `input_example` parameter when logging the model to auto infer the model signature.\n",
      "2024/11/15 13:03:45 INFO mlflow.tracking._tracking_service.client: 🏃 View run crawling-calf-603 at: http://localhost:5000/#/experiments/2/runs/7e0041810fd646bea16fffb0987869e1.\n",
      "2024/11/15 13:03:45 INFO mlflow.tracking._tracking_service.client: 🧪 View experiment at: http://localhost:5000/#/experiments/2.\n"
     ]
    },
    {
     "name": "stdout",
     "output_type": "stream",
     "text": [
      "Trial 8/30:\n",
      "Params: {'max_depth': np.int64(6), 'min_samples_leaf': np.int64(28), 'min_samples_split': np.int64(17), 'class_weight': 'balanced', 'random_state': 1}\n",
      "Train AUC: 0.7289, Val AUC: 0.5727\n",
      "Best Val AUC so far: 0.5756\n",
      "\n",
      "Trial #8\n"
     ]
    },
    {
     "name": "stderr",
     "output_type": "stream",
     "text": [
      "2024/11/15 13:03:47 WARNING mlflow.models.model: Model logged without a signature and input example. Please set `input_example` parameter when logging the model to auto infer the model signature.\n",
      "2024/11/15 13:03:47 INFO mlflow.tracking._tracking_service.client: 🏃 View run merciful-skunk-7 at: http://localhost:5000/#/experiments/2/runs/317da7fa53094e54bea5736dadae5cce.\n",
      "2024/11/15 13:03:47 INFO mlflow.tracking._tracking_service.client: 🧪 View experiment at: http://localhost:5000/#/experiments/2.\n"
     ]
    },
    {
     "name": "stdout",
     "output_type": "stream",
     "text": [
      "Trial 9/30:\n",
      "Params: {'max_depth': np.int64(3), 'min_samples_leaf': np.int64(37), 'min_samples_split': np.int64(43), 'class_weight': 'balanced', 'random_state': 1}\n",
      "Train AUC: 0.6616, Val AUC: 0.5748\n",
      "Best Val AUC so far: 0.5756\n",
      "\n",
      "Trial #9\n"
     ]
    },
    {
     "name": "stderr",
     "output_type": "stream",
     "text": [
      "2024/11/15 13:03:49 WARNING mlflow.models.model: Model logged without a signature and input example. Please set `input_example` parameter when logging the model to auto infer the model signature.\n",
      "2024/11/15 13:03:49 INFO mlflow.tracking._tracking_service.client: 🏃 View run peaceful-squid-800 at: http://localhost:5000/#/experiments/2/runs/1f7d396847cc4ed19e397757bd211a61.\n",
      "2024/11/15 13:03:49 INFO mlflow.tracking._tracking_service.client: 🧪 View experiment at: http://localhost:5000/#/experiments/2.\n"
     ]
    },
    {
     "name": "stdout",
     "output_type": "stream",
     "text": [
      "Trial 10/30:\n",
      "Params: {'max_depth': np.int64(5), 'min_samples_leaf': np.int64(43), 'min_samples_split': np.int64(65), 'class_weight': 'balanced', 'random_state': 1}\n",
      "Train AUC: 0.6990, Val AUC: 0.5648\n",
      "Best Val AUC so far: 0.5756\n",
      "\n",
      "Trial #10\n"
     ]
    },
    {
     "name": "stderr",
     "output_type": "stream",
     "text": [
      "2024/11/15 13:03:50 WARNING mlflow.models.model: Model logged without a signature and input example. Please set `input_example` parameter when logging the model to auto infer the model signature.\n",
      "2024/11/15 13:03:50 INFO mlflow.tracking._tracking_service.client: 🏃 View run auspicious-koi-128 at: http://localhost:5000/#/experiments/2/runs/5794902de44d4cb0b214b7938e9008a0.\n",
      "2024/11/15 13:03:50 INFO mlflow.tracking._tracking_service.client: 🧪 View experiment at: http://localhost:5000/#/experiments/2.\n"
     ]
    },
    {
     "name": "stdout",
     "output_type": "stream",
     "text": [
      "Trial 11/30:\n",
      "Params: {'max_depth': np.int64(9), 'min_samples_leaf': np.int64(96), 'min_samples_split': np.int64(53), 'class_weight': 'balanced', 'random_state': 1}\n",
      "Train AUC: 0.7037, Val AUC: 0.5701\n",
      "Best Val AUC so far: 0.5756\n",
      "\n",
      "Trial #11\n"
     ]
    },
    {
     "name": "stderr",
     "output_type": "stream",
     "text": [
      "2024/11/15 13:03:52 WARNING mlflow.models.model: Model logged without a signature and input example. Please set `input_example` parameter when logging the model to auto infer the model signature.\n",
      "2024/11/15 13:03:52 INFO mlflow.tracking._tracking_service.client: 🏃 View run puzzled-flea-292 at: http://localhost:5000/#/experiments/2/runs/39fbaaf7a9fe46959c2cf1d86b702a5c.\n",
      "2024/11/15 13:03:52 INFO mlflow.tracking._tracking_service.client: 🧪 View experiment at: http://localhost:5000/#/experiments/2.\n"
     ]
    },
    {
     "name": "stdout",
     "output_type": "stream",
     "text": [
      "Trial 12/30:\n",
      "Params: {'max_depth': np.int64(3), 'min_samples_leaf': np.int64(98), 'min_samples_split': np.int64(93), 'class_weight': 'balanced', 'random_state': 1}\n",
      "Train AUC: 0.6565, Val AUC: 0.5245\n",
      "Best Val AUC so far: 0.5756\n",
      "\n",
      "Trial #12\n"
     ]
    },
    {
     "name": "stderr",
     "output_type": "stream",
     "text": [
      "2024/11/15 13:03:54 WARNING mlflow.models.model: Model logged without a signature and input example. Please set `input_example` parameter when logging the model to auto infer the model signature.\n",
      "2024/11/15 13:03:54 INFO mlflow.tracking._tracking_service.client: 🏃 View run wise-mole-655 at: http://localhost:5000/#/experiments/2/runs/9064273a325b4a3e800eb3b8936efe94.\n",
      "2024/11/15 13:03:54 INFO mlflow.tracking._tracking_service.client: 🧪 View experiment at: http://localhost:5000/#/experiments/2.\n"
     ]
    },
    {
     "name": "stdout",
     "output_type": "stream",
     "text": [
      "Trial 13/30:\n",
      "Params: {'max_depth': np.int64(3), 'min_samples_leaf': np.int64(46), 'min_samples_split': np.int64(63), 'class_weight': 'balanced', 'random_state': 1}\n",
      "Train AUC: 0.6607, Val AUC: 0.5794\n",
      "Best Val AUC so far: 0.5794\n",
      "\n",
      "Trial #13\n"
     ]
    },
    {
     "name": "stderr",
     "output_type": "stream",
     "text": [
      "2024/11/15 13:03:56 WARNING mlflow.models.model: Model logged without a signature and input example. Please set `input_example` parameter when logging the model to auto infer the model signature.\n",
      "2024/11/15 13:03:56 INFO mlflow.tracking._tracking_service.client: 🏃 View run shivering-ray-566 at: http://localhost:5000/#/experiments/2/runs/77b65ddfbb4f4c37b982831a3dfe3cb9.\n",
      "2024/11/15 13:03:56 INFO mlflow.tracking._tracking_service.client: 🧪 View experiment at: http://localhost:5000/#/experiments/2.\n"
     ]
    },
    {
     "name": "stdout",
     "output_type": "stream",
     "text": [
      "Trial 14/30:\n",
      "Params: {'max_depth': np.int64(4), 'min_samples_leaf': np.int64(84), 'min_samples_split': np.int64(91), 'class_weight': 'balanced', 'random_state': 1}\n",
      "Train AUC: 0.6776, Val AUC: 0.5394\n",
      "Best Val AUC so far: 0.5794\n",
      "\n",
      "Trial #14\n"
     ]
    },
    {
     "name": "stderr",
     "output_type": "stream",
     "text": [
      "2024/11/15 13:03:58 WARNING mlflow.models.model: Model logged without a signature and input example. Please set `input_example` parameter when logging the model to auto infer the model signature.\n",
      "2024/11/15 13:03:58 INFO mlflow.tracking._tracking_service.client: 🏃 View run righteous-foal-550 at: http://localhost:5000/#/experiments/2/runs/421650ccc8d64e95935e6267bba2781c.\n",
      "2024/11/15 13:03:58 INFO mlflow.tracking._tracking_service.client: 🧪 View experiment at: http://localhost:5000/#/experiments/2.\n"
     ]
    },
    {
     "name": "stdout",
     "output_type": "stream",
     "text": [
      "Trial 15/30:\n",
      "Params: {'max_depth': np.int64(5), 'min_samples_leaf': np.int64(62), 'min_samples_split': np.int64(94), 'class_weight': 'balanced', 'random_state': 1}\n",
      "Train AUC: 0.6909, Val AUC: 0.5612\n",
      "Best Val AUC so far: 0.5794\n",
      "\n",
      "Trial #15\n"
     ]
    },
    {
     "name": "stderr",
     "output_type": "stream",
     "text": [
      "2024/11/15 13:04:00 WARNING mlflow.models.model: Model logged without a signature and input example. Please set `input_example` parameter when logging the model to auto infer the model signature.\n",
      "2024/11/15 13:04:00 INFO mlflow.tracking._tracking_service.client: 🏃 View run adventurous-goat-399 at: http://localhost:5000/#/experiments/2/runs/c7770fbdbfc54fa9875dbc36f89428fe.\n",
      "2024/11/15 13:04:00 INFO mlflow.tracking._tracking_service.client: 🧪 View experiment at: http://localhost:5000/#/experiments/2.\n"
     ]
    },
    {
     "name": "stdout",
     "output_type": "stream",
     "text": [
      "Trial 16/30:\n",
      "Params: {'max_depth': np.int64(3), 'min_samples_leaf': np.int64(92), 'min_samples_split': np.int64(89), 'class_weight': 'balanced', 'random_state': 1}\n",
      "Train AUC: 0.6565, Val AUC: 0.5245\n",
      "Best Val AUC so far: 0.5794\n",
      "\n",
      "Trial #16\n"
     ]
    },
    {
     "name": "stderr",
     "output_type": "stream",
     "text": [
      "2024/11/15 13:04:01 WARNING mlflow.models.model: Model logged without a signature and input example. Please set `input_example` parameter when logging the model to auto infer the model signature.\n",
      "2024/11/15 13:04:01 INFO mlflow.tracking._tracking_service.client: 🏃 View run invincible-goat-15 at: http://localhost:5000/#/experiments/2/runs/4c6776060db24c879cc1b92f68543b73.\n",
      "2024/11/15 13:04:01 INFO mlflow.tracking._tracking_service.client: 🧪 View experiment at: http://localhost:5000/#/experiments/2.\n"
     ]
    },
    {
     "name": "stdout",
     "output_type": "stream",
     "text": [
      "Trial 17/30:\n",
      "Params: {'max_depth': np.int64(4), 'min_samples_leaf': np.int64(83), 'min_samples_split': np.int64(53), 'class_weight': 'balanced', 'random_state': 1}\n",
      "Train AUC: 0.6776, Val AUC: 0.5394\n",
      "Best Val AUC so far: 0.5794\n",
      "\n",
      "Trial #17\n"
     ]
    },
    {
     "name": "stderr",
     "output_type": "stream",
     "text": [
      "2024/11/15 13:04:03 WARNING mlflow.models.model: Model logged without a signature and input example. Please set `input_example` parameter when logging the model to auto infer the model signature.\n",
      "2024/11/15 13:04:03 INFO mlflow.tracking._tracking_service.client: 🏃 View run fortunate-panda-477 at: http://localhost:5000/#/experiments/2/runs/b45a51a43ab748bda12ee89fa6a0691c.\n",
      "2024/11/15 13:04:03 INFO mlflow.tracking._tracking_service.client: 🧪 View experiment at: http://localhost:5000/#/experiments/2.\n"
     ]
    },
    {
     "name": "stdout",
     "output_type": "stream",
     "text": [
      "Trial 18/30:\n",
      "Params: {'max_depth': np.int64(5), 'min_samples_leaf': np.int64(31), 'min_samples_split': np.int64(69), 'class_weight': 'balanced', 'random_state': 1}\n",
      "Train AUC: 0.7030, Val AUC: 0.5686\n",
      "Best Val AUC so far: 0.5794\n",
      "\n",
      "Trial #18\n"
     ]
    },
    {
     "name": "stderr",
     "output_type": "stream",
     "text": [
      "2024/11/15 13:04:06 WARNING mlflow.models.model: Model logged without a signature and input example. Please set `input_example` parameter when logging the model to auto infer the model signature.\n",
      "2024/11/15 13:04:06 INFO mlflow.tracking._tracking_service.client: 🏃 View run amusing-vole-472 at: http://localhost:5000/#/experiments/2/runs/6e63b8cb4b94476e96818d40d85afdad.\n",
      "2024/11/15 13:04:06 INFO mlflow.tracking._tracking_service.client: 🧪 View experiment at: http://localhost:5000/#/experiments/2.\n"
     ]
    },
    {
     "name": "stdout",
     "output_type": "stream",
     "text": [
      "Trial 19/30:\n",
      "Params: {'max_depth': np.int64(4), 'min_samples_leaf': np.int64(32), 'min_samples_split': np.int64(52), 'class_weight': 'balanced', 'random_state': 1}\n",
      "Train AUC: 0.6873, Val AUC: 0.5756\n",
      "Best Val AUC so far: 0.5794\n",
      "\n",
      "Trial #19\n"
     ]
    },
    {
     "name": "stderr",
     "output_type": "stream",
     "text": [
      "2024/11/15 13:04:08 WARNING mlflow.models.model: Model logged without a signature and input example. Please set `input_example` parameter when logging the model to auto infer the model signature.\n",
      "2024/11/15 13:04:08 INFO mlflow.tracking._tracking_service.client: 🏃 View run glamorous-shrike-337 at: http://localhost:5000/#/experiments/2/runs/f22e5c440a2d436d8aad08900a023fd4.\n",
      "2024/11/15 13:04:08 INFO mlflow.tracking._tracking_service.client: 🧪 View experiment at: http://localhost:5000/#/experiments/2.\n"
     ]
    },
    {
     "name": "stdout",
     "output_type": "stream",
     "text": [
      "Trial 20/30:\n",
      "Params: {'max_depth': np.int64(5), 'min_samples_leaf': np.int64(80), 'min_samples_split': np.int64(60), 'class_weight': 'balanced', 'random_state': 1}\n",
      "Train AUC: 0.7059, Val AUC: 0.5857\n",
      "Best Val AUC so far: 0.5857\n",
      "\n",
      "Trial #20\n"
     ]
    },
    {
     "name": "stderr",
     "output_type": "stream",
     "text": [
      "2024/11/15 13:04:09 WARNING mlflow.models.model: Model logged without a signature and input example. Please set `input_example` parameter when logging the model to auto infer the model signature.\n",
      "2024/11/15 13:04:09 INFO mlflow.tracking._tracking_service.client: 🏃 View run nimble-zebra-926 at: http://localhost:5000/#/experiments/2/runs/a18e1829ab1648b4b68b8b7176c32360.\n",
      "2024/11/15 13:04:09 INFO mlflow.tracking._tracking_service.client: 🧪 View experiment at: http://localhost:5000/#/experiments/2.\n"
     ]
    },
    {
     "name": "stdout",
     "output_type": "stream",
     "text": [
      "Trial 21/30:\n",
      "Params: {'max_depth': np.int64(7), 'min_samples_leaf': np.int64(27), 'min_samples_split': np.int64(75), 'class_weight': 'balanced', 'random_state': 1}\n",
      "Train AUC: 0.7281, Val AUC: 0.5839\n",
      "Best Val AUC so far: 0.5857\n",
      "\n",
      "Trial #21\n"
     ]
    },
    {
     "name": "stderr",
     "output_type": "stream",
     "text": [
      "2024/11/15 13:04:11 WARNING mlflow.models.model: Model logged without a signature and input example. Please set `input_example` parameter when logging the model to auto infer the model signature.\n",
      "2024/11/15 13:04:11 INFO mlflow.tracking._tracking_service.client: 🏃 View run bedecked-roo-956 at: http://localhost:5000/#/experiments/2/runs/d2ec9ca3fd4e42ce8759d96d7cb1be63.\n",
      "2024/11/15 13:04:11 INFO mlflow.tracking._tracking_service.client: 🧪 View experiment at: http://localhost:5000/#/experiments/2.\n"
     ]
    },
    {
     "name": "stdout",
     "output_type": "stream",
     "text": [
      "Trial 22/30:\n",
      "Params: {'max_depth': np.int64(8), 'min_samples_leaf': np.int64(74), 'min_samples_split': np.int64(42), 'class_weight': 'balanced', 'random_state': 1}\n",
      "Train AUC: 0.7141, Val AUC: 0.5320\n",
      "Best Val AUC so far: 0.5857\n",
      "\n",
      "Trial #22\n"
     ]
    },
    {
     "name": "stderr",
     "output_type": "stream",
     "text": [
      "2024/11/15 13:04:13 WARNING mlflow.models.model: Model logged without a signature and input example. Please set `input_example` parameter when logging the model to auto infer the model signature.\n",
      "2024/11/15 13:04:13 INFO mlflow.tracking._tracking_service.client: 🏃 View run casual-sow-141 at: http://localhost:5000/#/experiments/2/runs/17b6c7c03d7a48e884175caeac250618.\n",
      "2024/11/15 13:04:13 INFO mlflow.tracking._tracking_service.client: 🧪 View experiment at: http://localhost:5000/#/experiments/2.\n"
     ]
    },
    {
     "name": "stdout",
     "output_type": "stream",
     "text": [
      "Trial 23/30:\n",
      "Params: {'max_depth': np.int64(8), 'min_samples_leaf': np.int64(61), 'min_samples_split': np.int64(50), 'class_weight': 'balanced', 'random_state': 1}\n",
      "Train AUC: 0.7179, Val AUC: 0.5444\n",
      "Best Val AUC so far: 0.5857\n",
      "\n",
      "Trial #23\n"
     ]
    },
    {
     "name": "stderr",
     "output_type": "stream",
     "text": [
      "2024/11/15 13:04:15 WARNING mlflow.models.model: Model logged without a signature and input example. Please set `input_example` parameter when logging the model to auto infer the model signature.\n",
      "2024/11/15 13:04:15 INFO mlflow.tracking._tracking_service.client: 🏃 View run receptive-eel-340 at: http://localhost:5000/#/experiments/2/runs/189078a9100e4efeb04820e6042e3daa.\n",
      "2024/11/15 13:04:15 INFO mlflow.tracking._tracking_service.client: 🧪 View experiment at: http://localhost:5000/#/experiments/2.\n"
     ]
    },
    {
     "name": "stdout",
     "output_type": "stream",
     "text": [
      "Trial 24/30:\n",
      "Params: {'max_depth': np.int64(4), 'min_samples_leaf': np.int64(42), 'min_samples_split': np.int64(44), 'class_weight': 'balanced', 'random_state': 1}\n",
      "Train AUC: 0.6852, Val AUC: 0.5809\n",
      "Best Val AUC so far: 0.5857\n",
      "\n",
      "Trial #24\n"
     ]
    },
    {
     "name": "stderr",
     "output_type": "stream",
     "text": [
      "2024/11/15 13:04:17 WARNING mlflow.models.model: Model logged without a signature and input example. Please set `input_example` parameter when logging the model to auto infer the model signature.\n",
      "2024/11/15 13:04:17 INFO mlflow.tracking._tracking_service.client: 🏃 View run hilarious-sheep-861 at: http://localhost:5000/#/experiments/2/runs/e2efd56aa0134e4696386dc2d5499aaf.\n",
      "2024/11/15 13:04:17 INFO mlflow.tracking._tracking_service.client: 🧪 View experiment at: http://localhost:5000/#/experiments/2.\n"
     ]
    },
    {
     "name": "stdout",
     "output_type": "stream",
     "text": [
      "Trial 25/30:\n",
      "Params: {'max_depth': np.int64(4), 'min_samples_leaf': np.int64(19), 'min_samples_split': np.int64(58), 'class_weight': 'balanced', 'random_state': 1}\n",
      "Train AUC: 0.6888, Val AUC: 0.5758\n",
      "Best Val AUC so far: 0.5857\n",
      "\n",
      "Trial #25\n"
     ]
    },
    {
     "name": "stderr",
     "output_type": "stream",
     "text": [
      "2024/11/15 13:04:18 WARNING mlflow.models.model: Model logged without a signature and input example. Please set `input_example` parameter when logging the model to auto infer the model signature.\n",
      "2024/11/15 13:04:18 INFO mlflow.tracking._tracking_service.client: 🏃 View run placid-flea-813 at: http://localhost:5000/#/experiments/2/runs/50e9f88475fe4ff69ed9220f4965d43c.\n",
      "2024/11/15 13:04:18 INFO mlflow.tracking._tracking_service.client: 🧪 View experiment at: http://localhost:5000/#/experiments/2.\n"
     ]
    },
    {
     "name": "stdout",
     "output_type": "stream",
     "text": [
      "Trial 26/30:\n",
      "Params: {'max_depth': np.int64(4), 'min_samples_leaf': np.int64(65), 'min_samples_split': np.int64(75), 'class_weight': 'balanced', 'random_state': 1}\n",
      "Train AUC: 0.6812, Val AUC: 0.5149\n",
      "Best Val AUC so far: 0.5857\n",
      "\n",
      "Trial #26\n"
     ]
    },
    {
     "name": "stderr",
     "output_type": "stream",
     "text": [
      "2024/11/15 13:04:20 WARNING mlflow.models.model: Model logged without a signature and input example. Please set `input_example` parameter when logging the model to auto infer the model signature.\n",
      "2024/11/15 13:04:20 INFO mlflow.tracking._tracking_service.client: 🏃 View run wistful-shrike-498 at: http://localhost:5000/#/experiments/2/runs/f694d190b67b4dfa8c5d2d4000d4020e.\n",
      "2024/11/15 13:04:20 INFO mlflow.tracking._tracking_service.client: 🧪 View experiment at: http://localhost:5000/#/experiments/2.\n"
     ]
    },
    {
     "name": "stdout",
     "output_type": "stream",
     "text": [
      "Trial 27/30:\n",
      "Params: {'max_depth': np.int64(6), 'min_samples_leaf': np.int64(92), 'min_samples_split': np.int64(62), 'class_weight': 'balanced', 'random_state': 1}\n",
      "Train AUC: 0.7035, Val AUC: 0.5685\n",
      "Best Val AUC so far: 0.5857\n",
      "\n",
      "Trial #27\n"
     ]
    },
    {
     "name": "stderr",
     "output_type": "stream",
     "text": [
      "2024/11/15 13:04:22 WARNING mlflow.models.model: Model logged without a signature and input example. Please set `input_example` parameter when logging the model to auto infer the model signature.\n",
      "2024/11/15 13:04:22 INFO mlflow.tracking._tracking_service.client: 🏃 View run omniscient-carp-894 at: http://localhost:5000/#/experiments/2/runs/c7fff2f9d19a49d3af773beb054c8bf1.\n",
      "2024/11/15 13:04:22 INFO mlflow.tracking._tracking_service.client: 🧪 View experiment at: http://localhost:5000/#/experiments/2.\n"
     ]
    },
    {
     "name": "stdout",
     "output_type": "stream",
     "text": [
      "Trial 28/30:\n",
      "Params: {'max_depth': np.int64(9), 'min_samples_leaf': np.int64(40), 'min_samples_split': np.int64(64), 'class_weight': 'balanced', 'random_state': 1}\n",
      "Train AUC: 0.7463, Val AUC: 0.5387\n",
      "Best Val AUC so far: 0.5857\n",
      "\n",
      "Trial #28\n"
     ]
    },
    {
     "name": "stderr",
     "output_type": "stream",
     "text": [
      "2024/11/15 13:04:24 WARNING mlflow.models.model: Model logged without a signature and input example. Please set `input_example` parameter when logging the model to auto infer the model signature.\n",
      "2024/11/15 13:04:24 INFO mlflow.tracking._tracking_service.client: 🏃 View run gaudy-lamb-864 at: http://localhost:5000/#/experiments/2/runs/7cec517377cc489e9fa12c03cc164985.\n",
      "2024/11/15 13:04:24 INFO mlflow.tracking._tracking_service.client: 🧪 View experiment at: http://localhost:5000/#/experiments/2.\n"
     ]
    },
    {
     "name": "stdout",
     "output_type": "stream",
     "text": [
      "Trial 29/30:\n",
      "Params: {'max_depth': np.int64(3), 'min_samples_leaf': np.int64(65), 'min_samples_split': np.int64(11), 'class_weight': 'balanced', 'random_state': 1}\n",
      "Train AUC: 0.6607, Val AUC: 0.5280\n",
      "Best Val AUC so far: 0.5857\n",
      "\n",
      "Trial #29\n"
     ]
    },
    {
     "name": "stderr",
     "output_type": "stream",
     "text": [
      "2024/11/15 13:04:26 WARNING mlflow.models.model: Model logged without a signature and input example. Please set `input_example` parameter when logging the model to auto infer the model signature.\n",
      "2024/11/15 13:04:26 INFO mlflow.tracking._tracking_service.client: 🏃 View run mercurial-mouse-458 at: http://localhost:5000/#/experiments/2/runs/88eaae458b5e47f9aac7bc0fc3ddc29d.\n",
      "2024/11/15 13:04:26 INFO mlflow.tracking._tracking_service.client: 🧪 View experiment at: http://localhost:5000/#/experiments/2.\n"
     ]
    },
    {
     "name": "stdout",
     "output_type": "stream",
     "text": [
      "Trial 30/30:\n",
      "Params: {'max_depth': np.int64(7), 'min_samples_leaf': np.int64(73), 'min_samples_split': np.int64(86), 'class_weight': 'balanced', 'random_state': 1}\n",
      "Train AUC: 0.7142, Val AUC: 0.5336\n",
      "Best Val AUC so far: 0.5857\n",
      "\n",
      "Best parameters: {'max_depth': np.int64(5), 'min_samples_leaf': np.int64(80), 'min_samples_split': np.int64(60), 'class_weight': 'balanced', 'random_state': 1}\n",
      "Best validation AUC: 0.5857483899622474\n"
     ]
    }
   ],
   "source": [
    "n_trials = 30\n",
    "param_ranges = {\n",
    "    'max_depth': range(3, 10),\n",
    "    'min_samples_leaf': range(10, 100),\n",
    "    'min_samples_split': range(10, 100)\n",
    "}\n",
    "\n",
    "# Track best model\n",
    "best_auc = 0\n",
    "best_params = None\n",
    "best_model = None\n",
    "\n",
    "# Simple random search\n",
    "for trial in range(n_trials):\n",
    "    print(f\"Trial #{trial}\")\n",
    "    with mlflow.start_run():\n",
    "        params = {\n",
    "            'max_depth': np.random.choice(param_ranges['max_depth']),\n",
    "            'min_samples_leaf': np.random.choice(param_ranges['min_samples_leaf']),\n",
    "            'min_samples_split': np.random.choice(param_ranges['min_samples_split']),\n",
    "            'class_weight': 'balanced',\n",
    "            'random_state': 1\n",
    "        }\n",
    "        \n",
    "        pipeline = make_pipeline(\n",
    "            DictVectorizer(),\n",
    "            DecisionTreeClassifier(**params)\n",
    "        )\n",
    "        pipeline.fit(train_dicts, y_train)\n",
    "        \n",
    "        train_pred = pipeline.predict_proba(train_dicts)[:, 1]\n",
    "        val_pred = pipeline.predict_proba(val_dicts)[:, 1]\n",
    "        \n",
    "        train_auc = roc_auc_score(y_train, train_pred)\n",
    "        val_auc = roc_auc_score(y_val, val_pred)\n",
    "\n",
    "        mlflow.log_params(params)\n",
    "        mlflow.log_metrics({\n",
    "            'train_auc': train_auc,\n",
    "            'val_auc': val_auc\n",
    "        })\n",
    "\n",
    "        mlflow.sklearn.log_model(pipeline, \"model\")\n",
    "    \n",
    "        if val_auc > best_auc:\n",
    "            best_auc = val_auc\n",
    "            best_params = params.copy()\n",
    "            best_model = pipeline\n",
    "            \n",
    "        print(f\"Trial {trial + 1}/{n_trials}:\")\n",
    "        print(f\"Params: {params}\")\n",
    "        print(f\"Train AUC: {train_auc:.4f}, Val AUC: {val_auc:.4f}\")\n",
    "        print(f\"Best Val AUC so far: {best_auc:.4f}\")\n",
    "        print()\n",
    "\n",
    "print(\"Best parameters:\", best_params)\n",
    "print(\"Best validation AUC:\", best_auc)"
   ]
  },
  {
   "cell_type": "code",
   "execution_count": 32,
   "id": "12ba50d5-d6fd-413d-9b3e-7285a8570454",
   "metadata": {},
   "outputs": [
    {
     "data": {
      "text/html": [
       "<style>#sk-container-id-2 {\n",
       "  /* Definition of color scheme common for light and dark mode */\n",
       "  --sklearn-color-text: black;\n",
       "  --sklearn-color-line: gray;\n",
       "  /* Definition of color scheme for unfitted estimators */\n",
       "  --sklearn-color-unfitted-level-0: #fff5e6;\n",
       "  --sklearn-color-unfitted-level-1: #f6e4d2;\n",
       "  --sklearn-color-unfitted-level-2: #ffe0b3;\n",
       "  --sklearn-color-unfitted-level-3: chocolate;\n",
       "  /* Definition of color scheme for fitted estimators */\n",
       "  --sklearn-color-fitted-level-0: #f0f8ff;\n",
       "  --sklearn-color-fitted-level-1: #d4ebff;\n",
       "  --sklearn-color-fitted-level-2: #b3dbfd;\n",
       "  --sklearn-color-fitted-level-3: cornflowerblue;\n",
       "\n",
       "  /* Specific color for light theme */\n",
       "  --sklearn-color-text-on-default-background: var(--sg-text-color, var(--theme-code-foreground, var(--jp-content-font-color1, black)));\n",
       "  --sklearn-color-background: var(--sg-background-color, var(--theme-background, var(--jp-layout-color0, white)));\n",
       "  --sklearn-color-border-box: var(--sg-text-color, var(--theme-code-foreground, var(--jp-content-font-color1, black)));\n",
       "  --sklearn-color-icon: #696969;\n",
       "\n",
       "  @media (prefers-color-scheme: dark) {\n",
       "    /* Redefinition of color scheme for dark theme */\n",
       "    --sklearn-color-text-on-default-background: var(--sg-text-color, var(--theme-code-foreground, var(--jp-content-font-color1, white)));\n",
       "    --sklearn-color-background: var(--sg-background-color, var(--theme-background, var(--jp-layout-color0, #111)));\n",
       "    --sklearn-color-border-box: var(--sg-text-color, var(--theme-code-foreground, var(--jp-content-font-color1, white)));\n",
       "    --sklearn-color-icon: #878787;\n",
       "  }\n",
       "}\n",
       "\n",
       "#sk-container-id-2 {\n",
       "  color: var(--sklearn-color-text);\n",
       "}\n",
       "\n",
       "#sk-container-id-2 pre {\n",
       "  padding: 0;\n",
       "}\n",
       "\n",
       "#sk-container-id-2 input.sk-hidden--visually {\n",
       "  border: 0;\n",
       "  clip: rect(1px 1px 1px 1px);\n",
       "  clip: rect(1px, 1px, 1px, 1px);\n",
       "  height: 1px;\n",
       "  margin: -1px;\n",
       "  overflow: hidden;\n",
       "  padding: 0;\n",
       "  position: absolute;\n",
       "  width: 1px;\n",
       "}\n",
       "\n",
       "#sk-container-id-2 div.sk-dashed-wrapped {\n",
       "  border: 1px dashed var(--sklearn-color-line);\n",
       "  margin: 0 0.4em 0.5em 0.4em;\n",
       "  box-sizing: border-box;\n",
       "  padding-bottom: 0.4em;\n",
       "  background-color: var(--sklearn-color-background);\n",
       "}\n",
       "\n",
       "#sk-container-id-2 div.sk-container {\n",
       "  /* jupyter's `normalize.less` sets `[hidden] { display: none; }`\n",
       "     but bootstrap.min.css set `[hidden] { display: none !important; }`\n",
       "     so we also need the `!important` here to be able to override the\n",
       "     default hidden behavior on the sphinx rendered scikit-learn.org.\n",
       "     See: https://github.com/scikit-learn/scikit-learn/issues/21755 */\n",
       "  display: inline-block !important;\n",
       "  position: relative;\n",
       "}\n",
       "\n",
       "#sk-container-id-2 div.sk-text-repr-fallback {\n",
       "  display: none;\n",
       "}\n",
       "\n",
       "div.sk-parallel-item,\n",
       "div.sk-serial,\n",
       "div.sk-item {\n",
       "  /* draw centered vertical line to link estimators */\n",
       "  background-image: linear-gradient(var(--sklearn-color-text-on-default-background), var(--sklearn-color-text-on-default-background));\n",
       "  background-size: 2px 100%;\n",
       "  background-repeat: no-repeat;\n",
       "  background-position: center center;\n",
       "}\n",
       "\n",
       "/* Parallel-specific style estimator block */\n",
       "\n",
       "#sk-container-id-2 div.sk-parallel-item::after {\n",
       "  content: \"\";\n",
       "  width: 100%;\n",
       "  border-bottom: 2px solid var(--sklearn-color-text-on-default-background);\n",
       "  flex-grow: 1;\n",
       "}\n",
       "\n",
       "#sk-container-id-2 div.sk-parallel {\n",
       "  display: flex;\n",
       "  align-items: stretch;\n",
       "  justify-content: center;\n",
       "  background-color: var(--sklearn-color-background);\n",
       "  position: relative;\n",
       "}\n",
       "\n",
       "#sk-container-id-2 div.sk-parallel-item {\n",
       "  display: flex;\n",
       "  flex-direction: column;\n",
       "}\n",
       "\n",
       "#sk-container-id-2 div.sk-parallel-item:first-child::after {\n",
       "  align-self: flex-end;\n",
       "  width: 50%;\n",
       "}\n",
       "\n",
       "#sk-container-id-2 div.sk-parallel-item:last-child::after {\n",
       "  align-self: flex-start;\n",
       "  width: 50%;\n",
       "}\n",
       "\n",
       "#sk-container-id-2 div.sk-parallel-item:only-child::after {\n",
       "  width: 0;\n",
       "}\n",
       "\n",
       "/* Serial-specific style estimator block */\n",
       "\n",
       "#sk-container-id-2 div.sk-serial {\n",
       "  display: flex;\n",
       "  flex-direction: column;\n",
       "  align-items: center;\n",
       "  background-color: var(--sklearn-color-background);\n",
       "  padding-right: 1em;\n",
       "  padding-left: 1em;\n",
       "}\n",
       "\n",
       "\n",
       "/* Toggleable style: style used for estimator/Pipeline/ColumnTransformer box that is\n",
       "clickable and can be expanded/collapsed.\n",
       "- Pipeline and ColumnTransformer use this feature and define the default style\n",
       "- Estimators will overwrite some part of the style using the `sk-estimator` class\n",
       "*/\n",
       "\n",
       "/* Pipeline and ColumnTransformer style (default) */\n",
       "\n",
       "#sk-container-id-2 div.sk-toggleable {\n",
       "  /* Default theme specific background. It is overwritten whether we have a\n",
       "  specific estimator or a Pipeline/ColumnTransformer */\n",
       "  background-color: var(--sklearn-color-background);\n",
       "}\n",
       "\n",
       "/* Toggleable label */\n",
       "#sk-container-id-2 label.sk-toggleable__label {\n",
       "  cursor: pointer;\n",
       "  display: block;\n",
       "  width: 100%;\n",
       "  margin-bottom: 0;\n",
       "  padding: 0.5em;\n",
       "  box-sizing: border-box;\n",
       "  text-align: center;\n",
       "}\n",
       "\n",
       "#sk-container-id-2 label.sk-toggleable__label-arrow:before {\n",
       "  /* Arrow on the left of the label */\n",
       "  content: \"▸\";\n",
       "  float: left;\n",
       "  margin-right: 0.25em;\n",
       "  color: var(--sklearn-color-icon);\n",
       "}\n",
       "\n",
       "#sk-container-id-2 label.sk-toggleable__label-arrow:hover:before {\n",
       "  color: var(--sklearn-color-text);\n",
       "}\n",
       "\n",
       "/* Toggleable content - dropdown */\n",
       "\n",
       "#sk-container-id-2 div.sk-toggleable__content {\n",
       "  max-height: 0;\n",
       "  max-width: 0;\n",
       "  overflow: hidden;\n",
       "  text-align: left;\n",
       "  /* unfitted */\n",
       "  background-color: var(--sklearn-color-unfitted-level-0);\n",
       "}\n",
       "\n",
       "#sk-container-id-2 div.sk-toggleable__content.fitted {\n",
       "  /* fitted */\n",
       "  background-color: var(--sklearn-color-fitted-level-0);\n",
       "}\n",
       "\n",
       "#sk-container-id-2 div.sk-toggleable__content pre {\n",
       "  margin: 0.2em;\n",
       "  border-radius: 0.25em;\n",
       "  color: var(--sklearn-color-text);\n",
       "  /* unfitted */\n",
       "  background-color: var(--sklearn-color-unfitted-level-0);\n",
       "}\n",
       "\n",
       "#sk-container-id-2 div.sk-toggleable__content.fitted pre {\n",
       "  /* unfitted */\n",
       "  background-color: var(--sklearn-color-fitted-level-0);\n",
       "}\n",
       "\n",
       "#sk-container-id-2 input.sk-toggleable__control:checked~div.sk-toggleable__content {\n",
       "  /* Expand drop-down */\n",
       "  max-height: 200px;\n",
       "  max-width: 100%;\n",
       "  overflow: auto;\n",
       "}\n",
       "\n",
       "#sk-container-id-2 input.sk-toggleable__control:checked~label.sk-toggleable__label-arrow:before {\n",
       "  content: \"▾\";\n",
       "}\n",
       "\n",
       "/* Pipeline/ColumnTransformer-specific style */\n",
       "\n",
       "#sk-container-id-2 div.sk-label input.sk-toggleable__control:checked~label.sk-toggleable__label {\n",
       "  color: var(--sklearn-color-text);\n",
       "  background-color: var(--sklearn-color-unfitted-level-2);\n",
       "}\n",
       "\n",
       "#sk-container-id-2 div.sk-label.fitted input.sk-toggleable__control:checked~label.sk-toggleable__label {\n",
       "  background-color: var(--sklearn-color-fitted-level-2);\n",
       "}\n",
       "\n",
       "/* Estimator-specific style */\n",
       "\n",
       "/* Colorize estimator box */\n",
       "#sk-container-id-2 div.sk-estimator input.sk-toggleable__control:checked~label.sk-toggleable__label {\n",
       "  /* unfitted */\n",
       "  background-color: var(--sklearn-color-unfitted-level-2);\n",
       "}\n",
       "\n",
       "#sk-container-id-2 div.sk-estimator.fitted input.sk-toggleable__control:checked~label.sk-toggleable__label {\n",
       "  /* fitted */\n",
       "  background-color: var(--sklearn-color-fitted-level-2);\n",
       "}\n",
       "\n",
       "#sk-container-id-2 div.sk-label label.sk-toggleable__label,\n",
       "#sk-container-id-2 div.sk-label label {\n",
       "  /* The background is the default theme color */\n",
       "  color: var(--sklearn-color-text-on-default-background);\n",
       "}\n",
       "\n",
       "/* On hover, darken the color of the background */\n",
       "#sk-container-id-2 div.sk-label:hover label.sk-toggleable__label {\n",
       "  color: var(--sklearn-color-text);\n",
       "  background-color: var(--sklearn-color-unfitted-level-2);\n",
       "}\n",
       "\n",
       "/* Label box, darken color on hover, fitted */\n",
       "#sk-container-id-2 div.sk-label.fitted:hover label.sk-toggleable__label.fitted {\n",
       "  color: var(--sklearn-color-text);\n",
       "  background-color: var(--sklearn-color-fitted-level-2);\n",
       "}\n",
       "\n",
       "/* Estimator label */\n",
       "\n",
       "#sk-container-id-2 div.sk-label label {\n",
       "  font-family: monospace;\n",
       "  font-weight: bold;\n",
       "  display: inline-block;\n",
       "  line-height: 1.2em;\n",
       "}\n",
       "\n",
       "#sk-container-id-2 div.sk-label-container {\n",
       "  text-align: center;\n",
       "}\n",
       "\n",
       "/* Estimator-specific */\n",
       "#sk-container-id-2 div.sk-estimator {\n",
       "  font-family: monospace;\n",
       "  border: 1px dotted var(--sklearn-color-border-box);\n",
       "  border-radius: 0.25em;\n",
       "  box-sizing: border-box;\n",
       "  margin-bottom: 0.5em;\n",
       "  /* unfitted */\n",
       "  background-color: var(--sklearn-color-unfitted-level-0);\n",
       "}\n",
       "\n",
       "#sk-container-id-2 div.sk-estimator.fitted {\n",
       "  /* fitted */\n",
       "  background-color: var(--sklearn-color-fitted-level-0);\n",
       "}\n",
       "\n",
       "/* on hover */\n",
       "#sk-container-id-2 div.sk-estimator:hover {\n",
       "  /* unfitted */\n",
       "  background-color: var(--sklearn-color-unfitted-level-2);\n",
       "}\n",
       "\n",
       "#sk-container-id-2 div.sk-estimator.fitted:hover {\n",
       "  /* fitted */\n",
       "  background-color: var(--sklearn-color-fitted-level-2);\n",
       "}\n",
       "\n",
       "/* Specification for estimator info (e.g. \"i\" and \"?\") */\n",
       "\n",
       "/* Common style for \"i\" and \"?\" */\n",
       "\n",
       ".sk-estimator-doc-link,\n",
       "a:link.sk-estimator-doc-link,\n",
       "a:visited.sk-estimator-doc-link {\n",
       "  float: right;\n",
       "  font-size: smaller;\n",
       "  line-height: 1em;\n",
       "  font-family: monospace;\n",
       "  background-color: var(--sklearn-color-background);\n",
       "  border-radius: 1em;\n",
       "  height: 1em;\n",
       "  width: 1em;\n",
       "  text-decoration: none !important;\n",
       "  margin-left: 1ex;\n",
       "  /* unfitted */\n",
       "  border: var(--sklearn-color-unfitted-level-1) 1pt solid;\n",
       "  color: var(--sklearn-color-unfitted-level-1);\n",
       "}\n",
       "\n",
       ".sk-estimator-doc-link.fitted,\n",
       "a:link.sk-estimator-doc-link.fitted,\n",
       "a:visited.sk-estimator-doc-link.fitted {\n",
       "  /* fitted */\n",
       "  border: var(--sklearn-color-fitted-level-1) 1pt solid;\n",
       "  color: var(--sklearn-color-fitted-level-1);\n",
       "}\n",
       "\n",
       "/* On hover */\n",
       "div.sk-estimator:hover .sk-estimator-doc-link:hover,\n",
       ".sk-estimator-doc-link:hover,\n",
       "div.sk-label-container:hover .sk-estimator-doc-link:hover,\n",
       ".sk-estimator-doc-link:hover {\n",
       "  /* unfitted */\n",
       "  background-color: var(--sklearn-color-unfitted-level-3);\n",
       "  color: var(--sklearn-color-background);\n",
       "  text-decoration: none;\n",
       "}\n",
       "\n",
       "div.sk-estimator.fitted:hover .sk-estimator-doc-link.fitted:hover,\n",
       ".sk-estimator-doc-link.fitted:hover,\n",
       "div.sk-label-container:hover .sk-estimator-doc-link.fitted:hover,\n",
       ".sk-estimator-doc-link.fitted:hover {\n",
       "  /* fitted */\n",
       "  background-color: var(--sklearn-color-fitted-level-3);\n",
       "  color: var(--sklearn-color-background);\n",
       "  text-decoration: none;\n",
       "}\n",
       "\n",
       "/* Span, style for the box shown on hovering the info icon */\n",
       ".sk-estimator-doc-link span {\n",
       "  display: none;\n",
       "  z-index: 9999;\n",
       "  position: relative;\n",
       "  font-weight: normal;\n",
       "  right: .2ex;\n",
       "  padding: .5ex;\n",
       "  margin: .5ex;\n",
       "  width: min-content;\n",
       "  min-width: 20ex;\n",
       "  max-width: 50ex;\n",
       "  color: var(--sklearn-color-text);\n",
       "  box-shadow: 2pt 2pt 4pt #999;\n",
       "  /* unfitted */\n",
       "  background: var(--sklearn-color-unfitted-level-0);\n",
       "  border: .5pt solid var(--sklearn-color-unfitted-level-3);\n",
       "}\n",
       "\n",
       ".sk-estimator-doc-link.fitted span {\n",
       "  /* fitted */\n",
       "  background: var(--sklearn-color-fitted-level-0);\n",
       "  border: var(--sklearn-color-fitted-level-3);\n",
       "}\n",
       "\n",
       ".sk-estimator-doc-link:hover span {\n",
       "  display: block;\n",
       "}\n",
       "\n",
       "/* \"?\"-specific style due to the `<a>` HTML tag */\n",
       "\n",
       "#sk-container-id-2 a.estimator_doc_link {\n",
       "  float: right;\n",
       "  font-size: 1rem;\n",
       "  line-height: 1em;\n",
       "  font-family: monospace;\n",
       "  background-color: var(--sklearn-color-background);\n",
       "  border-radius: 1rem;\n",
       "  height: 1rem;\n",
       "  width: 1rem;\n",
       "  text-decoration: none;\n",
       "  /* unfitted */\n",
       "  color: var(--sklearn-color-unfitted-level-1);\n",
       "  border: var(--sklearn-color-unfitted-level-1) 1pt solid;\n",
       "}\n",
       "\n",
       "#sk-container-id-2 a.estimator_doc_link.fitted {\n",
       "  /* fitted */\n",
       "  border: var(--sklearn-color-fitted-level-1) 1pt solid;\n",
       "  color: var(--sklearn-color-fitted-level-1);\n",
       "}\n",
       "\n",
       "/* On hover */\n",
       "#sk-container-id-2 a.estimator_doc_link:hover {\n",
       "  /* unfitted */\n",
       "  background-color: var(--sklearn-color-unfitted-level-3);\n",
       "  color: var(--sklearn-color-background);\n",
       "  text-decoration: none;\n",
       "}\n",
       "\n",
       "#sk-container-id-2 a.estimator_doc_link.fitted:hover {\n",
       "  /* fitted */\n",
       "  background-color: var(--sklearn-color-fitted-level-3);\n",
       "}\n",
       "</style><div id=\"sk-container-id-2\" class=\"sk-top-container\"><div class=\"sk-text-repr-fallback\"><pre>Pipeline(steps=[(&#x27;dictvectorizer&#x27;, DictVectorizer()),\n",
       "                (&#x27;decisiontreeclassifier&#x27;,\n",
       "                 DecisionTreeClassifier(class_weight=&#x27;balanced&#x27;,\n",
       "                                        max_depth=np.int64(9),\n",
       "                                        min_samples_leaf=np.int64(78),\n",
       "                                        min_samples_split=np.int64(13),\n",
       "                                        random_state=1))])</pre><b>In a Jupyter environment, please rerun this cell to show the HTML representation or trust the notebook. <br />On GitHub, the HTML representation is unable to render, please try loading this page with nbviewer.org.</b></div><div class=\"sk-container\" hidden><div class=\"sk-item sk-dashed-wrapped\"><div class=\"sk-label-container\"><div class=\"sk-label fitted sk-toggleable\"><input class=\"sk-toggleable__control sk-hidden--visually\" id=\"sk-estimator-id-4\" type=\"checkbox\" ><label for=\"sk-estimator-id-4\" class=\"sk-toggleable__label fitted sk-toggleable__label-arrow fitted\">&nbsp;&nbsp;Pipeline<a class=\"sk-estimator-doc-link fitted\" rel=\"noreferrer\" target=\"_blank\" href=\"https://scikit-learn.org/1.5/modules/generated/sklearn.pipeline.Pipeline.html\">?<span>Documentation for Pipeline</span></a><span class=\"sk-estimator-doc-link fitted\">i<span>Fitted</span></span></label><div class=\"sk-toggleable__content fitted\"><pre>Pipeline(steps=[(&#x27;dictvectorizer&#x27;, DictVectorizer()),\n",
       "                (&#x27;decisiontreeclassifier&#x27;,\n",
       "                 DecisionTreeClassifier(class_weight=&#x27;balanced&#x27;,\n",
       "                                        max_depth=np.int64(9),\n",
       "                                        min_samples_leaf=np.int64(78),\n",
       "                                        min_samples_split=np.int64(13),\n",
       "                                        random_state=1))])</pre></div> </div></div><div class=\"sk-serial\"><div class=\"sk-item\"><div class=\"sk-estimator fitted sk-toggleable\"><input class=\"sk-toggleable__control sk-hidden--visually\" id=\"sk-estimator-id-5\" type=\"checkbox\" ><label for=\"sk-estimator-id-5\" class=\"sk-toggleable__label fitted sk-toggleable__label-arrow fitted\">&nbsp;DictVectorizer<a class=\"sk-estimator-doc-link fitted\" rel=\"noreferrer\" target=\"_blank\" href=\"https://scikit-learn.org/1.5/modules/generated/sklearn.feature_extraction.DictVectorizer.html\">?<span>Documentation for DictVectorizer</span></a></label><div class=\"sk-toggleable__content fitted\"><pre>DictVectorizer()</pre></div> </div></div><div class=\"sk-item\"><div class=\"sk-estimator fitted sk-toggleable\"><input class=\"sk-toggleable__control sk-hidden--visually\" id=\"sk-estimator-id-6\" type=\"checkbox\" ><label for=\"sk-estimator-id-6\" class=\"sk-toggleable__label fitted sk-toggleable__label-arrow fitted\">&nbsp;DecisionTreeClassifier<a class=\"sk-estimator-doc-link fitted\" rel=\"noreferrer\" target=\"_blank\" href=\"https://scikit-learn.org/1.5/modules/generated/sklearn.tree.DecisionTreeClassifier.html\">?<span>Documentation for DecisionTreeClassifier</span></a></label><div class=\"sk-toggleable__content fitted\"><pre>DecisionTreeClassifier(class_weight=&#x27;balanced&#x27;, max_depth=np.int64(9),\n",
       "                       min_samples_leaf=np.int64(78),\n",
       "                       min_samples_split=np.int64(13), random_state=1)</pre></div> </div></div></div></div></div></div>"
      ],
      "text/plain": [
       "Pipeline(steps=[('dictvectorizer', DictVectorizer()),\n",
       "                ('decisiontreeclassifier',\n",
       "                 DecisionTreeClassifier(class_weight='balanced',\n",
       "                                        max_depth=np.int64(9),\n",
       "                                        min_samples_leaf=np.int64(78),\n",
       "                                        min_samples_split=np.int64(13),\n",
       "                                        random_state=1))])"
      ]
     },
     "execution_count": 32,
     "metadata": {},
     "output_type": "execute_result"
    }
   ],
   "source": [
    "best_model"
   ]
  },
  {
   "cell_type": "code",
   "execution_count": 35,
   "id": "3eac54ba-c329-4842-bc92-0012a757371a",
   "metadata": {},
   "outputs": [],
   "source": [
    "from sklearn.ensemble import RandomForestClassifier"
   ]
  },
  {
   "cell_type": "code",
   "execution_count": 36,
   "id": "a318c438-2b44-4627-9ecd-bbe712999b6b",
   "metadata": {},
   "outputs": [],
   "source": [
    "pipeline = make_pipeline(\n",
    "    DictVectorizer(),\n",
    "    RandomForestClassifier(\n",
    "        n_estimators=100,        # Good balance between performance and training time\n",
    "        max_depth=10,           # Deep enough to learn patterns, not too deep to overfit\n",
    "        min_samples_leaf=20,    # Ensure stable predictions\n",
    "        min_samples_split=20,   # Control tree splits\n",
    "        class_weight='balanced', # Handle class imbalance\n",
    "        n_jobs=-1,              # Use all CPU cores\n",
    "        random_state=1\n",
    "    )\n",
    ")"
   ]
  },
  {
   "cell_type": "code",
   "execution_count": 37,
   "id": "e001c110-85ff-4dff-991a-0b725ba32008",
   "metadata": {},
   "outputs": [
    {
     "data": {
      "text/html": [
       "<style>#sk-container-id-3 {\n",
       "  /* Definition of color scheme common for light and dark mode */\n",
       "  --sklearn-color-text: black;\n",
       "  --sklearn-color-line: gray;\n",
       "  /* Definition of color scheme for unfitted estimators */\n",
       "  --sklearn-color-unfitted-level-0: #fff5e6;\n",
       "  --sklearn-color-unfitted-level-1: #f6e4d2;\n",
       "  --sklearn-color-unfitted-level-2: #ffe0b3;\n",
       "  --sklearn-color-unfitted-level-3: chocolate;\n",
       "  /* Definition of color scheme for fitted estimators */\n",
       "  --sklearn-color-fitted-level-0: #f0f8ff;\n",
       "  --sklearn-color-fitted-level-1: #d4ebff;\n",
       "  --sklearn-color-fitted-level-2: #b3dbfd;\n",
       "  --sklearn-color-fitted-level-3: cornflowerblue;\n",
       "\n",
       "  /* Specific color for light theme */\n",
       "  --sklearn-color-text-on-default-background: var(--sg-text-color, var(--theme-code-foreground, var(--jp-content-font-color1, black)));\n",
       "  --sklearn-color-background: var(--sg-background-color, var(--theme-background, var(--jp-layout-color0, white)));\n",
       "  --sklearn-color-border-box: var(--sg-text-color, var(--theme-code-foreground, var(--jp-content-font-color1, black)));\n",
       "  --sklearn-color-icon: #696969;\n",
       "\n",
       "  @media (prefers-color-scheme: dark) {\n",
       "    /* Redefinition of color scheme for dark theme */\n",
       "    --sklearn-color-text-on-default-background: var(--sg-text-color, var(--theme-code-foreground, var(--jp-content-font-color1, white)));\n",
       "    --sklearn-color-background: var(--sg-background-color, var(--theme-background, var(--jp-layout-color0, #111)));\n",
       "    --sklearn-color-border-box: var(--sg-text-color, var(--theme-code-foreground, var(--jp-content-font-color1, white)));\n",
       "    --sklearn-color-icon: #878787;\n",
       "  }\n",
       "}\n",
       "\n",
       "#sk-container-id-3 {\n",
       "  color: var(--sklearn-color-text);\n",
       "}\n",
       "\n",
       "#sk-container-id-3 pre {\n",
       "  padding: 0;\n",
       "}\n",
       "\n",
       "#sk-container-id-3 input.sk-hidden--visually {\n",
       "  border: 0;\n",
       "  clip: rect(1px 1px 1px 1px);\n",
       "  clip: rect(1px, 1px, 1px, 1px);\n",
       "  height: 1px;\n",
       "  margin: -1px;\n",
       "  overflow: hidden;\n",
       "  padding: 0;\n",
       "  position: absolute;\n",
       "  width: 1px;\n",
       "}\n",
       "\n",
       "#sk-container-id-3 div.sk-dashed-wrapped {\n",
       "  border: 1px dashed var(--sklearn-color-line);\n",
       "  margin: 0 0.4em 0.5em 0.4em;\n",
       "  box-sizing: border-box;\n",
       "  padding-bottom: 0.4em;\n",
       "  background-color: var(--sklearn-color-background);\n",
       "}\n",
       "\n",
       "#sk-container-id-3 div.sk-container {\n",
       "  /* jupyter's `normalize.less` sets `[hidden] { display: none; }`\n",
       "     but bootstrap.min.css set `[hidden] { display: none !important; }`\n",
       "     so we also need the `!important` here to be able to override the\n",
       "     default hidden behavior on the sphinx rendered scikit-learn.org.\n",
       "     See: https://github.com/scikit-learn/scikit-learn/issues/21755 */\n",
       "  display: inline-block !important;\n",
       "  position: relative;\n",
       "}\n",
       "\n",
       "#sk-container-id-3 div.sk-text-repr-fallback {\n",
       "  display: none;\n",
       "}\n",
       "\n",
       "div.sk-parallel-item,\n",
       "div.sk-serial,\n",
       "div.sk-item {\n",
       "  /* draw centered vertical line to link estimators */\n",
       "  background-image: linear-gradient(var(--sklearn-color-text-on-default-background), var(--sklearn-color-text-on-default-background));\n",
       "  background-size: 2px 100%;\n",
       "  background-repeat: no-repeat;\n",
       "  background-position: center center;\n",
       "}\n",
       "\n",
       "/* Parallel-specific style estimator block */\n",
       "\n",
       "#sk-container-id-3 div.sk-parallel-item::after {\n",
       "  content: \"\";\n",
       "  width: 100%;\n",
       "  border-bottom: 2px solid var(--sklearn-color-text-on-default-background);\n",
       "  flex-grow: 1;\n",
       "}\n",
       "\n",
       "#sk-container-id-3 div.sk-parallel {\n",
       "  display: flex;\n",
       "  align-items: stretch;\n",
       "  justify-content: center;\n",
       "  background-color: var(--sklearn-color-background);\n",
       "  position: relative;\n",
       "}\n",
       "\n",
       "#sk-container-id-3 div.sk-parallel-item {\n",
       "  display: flex;\n",
       "  flex-direction: column;\n",
       "}\n",
       "\n",
       "#sk-container-id-3 div.sk-parallel-item:first-child::after {\n",
       "  align-self: flex-end;\n",
       "  width: 50%;\n",
       "}\n",
       "\n",
       "#sk-container-id-3 div.sk-parallel-item:last-child::after {\n",
       "  align-self: flex-start;\n",
       "  width: 50%;\n",
       "}\n",
       "\n",
       "#sk-container-id-3 div.sk-parallel-item:only-child::after {\n",
       "  width: 0;\n",
       "}\n",
       "\n",
       "/* Serial-specific style estimator block */\n",
       "\n",
       "#sk-container-id-3 div.sk-serial {\n",
       "  display: flex;\n",
       "  flex-direction: column;\n",
       "  align-items: center;\n",
       "  background-color: var(--sklearn-color-background);\n",
       "  padding-right: 1em;\n",
       "  padding-left: 1em;\n",
       "}\n",
       "\n",
       "\n",
       "/* Toggleable style: style used for estimator/Pipeline/ColumnTransformer box that is\n",
       "clickable and can be expanded/collapsed.\n",
       "- Pipeline and ColumnTransformer use this feature and define the default style\n",
       "- Estimators will overwrite some part of the style using the `sk-estimator` class\n",
       "*/\n",
       "\n",
       "/* Pipeline and ColumnTransformer style (default) */\n",
       "\n",
       "#sk-container-id-3 div.sk-toggleable {\n",
       "  /* Default theme specific background. It is overwritten whether we have a\n",
       "  specific estimator or a Pipeline/ColumnTransformer */\n",
       "  background-color: var(--sklearn-color-background);\n",
       "}\n",
       "\n",
       "/* Toggleable label */\n",
       "#sk-container-id-3 label.sk-toggleable__label {\n",
       "  cursor: pointer;\n",
       "  display: block;\n",
       "  width: 100%;\n",
       "  margin-bottom: 0;\n",
       "  padding: 0.5em;\n",
       "  box-sizing: border-box;\n",
       "  text-align: center;\n",
       "}\n",
       "\n",
       "#sk-container-id-3 label.sk-toggleable__label-arrow:before {\n",
       "  /* Arrow on the left of the label */\n",
       "  content: \"▸\";\n",
       "  float: left;\n",
       "  margin-right: 0.25em;\n",
       "  color: var(--sklearn-color-icon);\n",
       "}\n",
       "\n",
       "#sk-container-id-3 label.sk-toggleable__label-arrow:hover:before {\n",
       "  color: var(--sklearn-color-text);\n",
       "}\n",
       "\n",
       "/* Toggleable content - dropdown */\n",
       "\n",
       "#sk-container-id-3 div.sk-toggleable__content {\n",
       "  max-height: 0;\n",
       "  max-width: 0;\n",
       "  overflow: hidden;\n",
       "  text-align: left;\n",
       "  /* unfitted */\n",
       "  background-color: var(--sklearn-color-unfitted-level-0);\n",
       "}\n",
       "\n",
       "#sk-container-id-3 div.sk-toggleable__content.fitted {\n",
       "  /* fitted */\n",
       "  background-color: var(--sklearn-color-fitted-level-0);\n",
       "}\n",
       "\n",
       "#sk-container-id-3 div.sk-toggleable__content pre {\n",
       "  margin: 0.2em;\n",
       "  border-radius: 0.25em;\n",
       "  color: var(--sklearn-color-text);\n",
       "  /* unfitted */\n",
       "  background-color: var(--sklearn-color-unfitted-level-0);\n",
       "}\n",
       "\n",
       "#sk-container-id-3 div.sk-toggleable__content.fitted pre {\n",
       "  /* unfitted */\n",
       "  background-color: var(--sklearn-color-fitted-level-0);\n",
       "}\n",
       "\n",
       "#sk-container-id-3 input.sk-toggleable__control:checked~div.sk-toggleable__content {\n",
       "  /* Expand drop-down */\n",
       "  max-height: 200px;\n",
       "  max-width: 100%;\n",
       "  overflow: auto;\n",
       "}\n",
       "\n",
       "#sk-container-id-3 input.sk-toggleable__control:checked~label.sk-toggleable__label-arrow:before {\n",
       "  content: \"▾\";\n",
       "}\n",
       "\n",
       "/* Pipeline/ColumnTransformer-specific style */\n",
       "\n",
       "#sk-container-id-3 div.sk-label input.sk-toggleable__control:checked~label.sk-toggleable__label {\n",
       "  color: var(--sklearn-color-text);\n",
       "  background-color: var(--sklearn-color-unfitted-level-2);\n",
       "}\n",
       "\n",
       "#sk-container-id-3 div.sk-label.fitted input.sk-toggleable__control:checked~label.sk-toggleable__label {\n",
       "  background-color: var(--sklearn-color-fitted-level-2);\n",
       "}\n",
       "\n",
       "/* Estimator-specific style */\n",
       "\n",
       "/* Colorize estimator box */\n",
       "#sk-container-id-3 div.sk-estimator input.sk-toggleable__control:checked~label.sk-toggleable__label {\n",
       "  /* unfitted */\n",
       "  background-color: var(--sklearn-color-unfitted-level-2);\n",
       "}\n",
       "\n",
       "#sk-container-id-3 div.sk-estimator.fitted input.sk-toggleable__control:checked~label.sk-toggleable__label {\n",
       "  /* fitted */\n",
       "  background-color: var(--sklearn-color-fitted-level-2);\n",
       "}\n",
       "\n",
       "#sk-container-id-3 div.sk-label label.sk-toggleable__label,\n",
       "#sk-container-id-3 div.sk-label label {\n",
       "  /* The background is the default theme color */\n",
       "  color: var(--sklearn-color-text-on-default-background);\n",
       "}\n",
       "\n",
       "/* On hover, darken the color of the background */\n",
       "#sk-container-id-3 div.sk-label:hover label.sk-toggleable__label {\n",
       "  color: var(--sklearn-color-text);\n",
       "  background-color: var(--sklearn-color-unfitted-level-2);\n",
       "}\n",
       "\n",
       "/* Label box, darken color on hover, fitted */\n",
       "#sk-container-id-3 div.sk-label.fitted:hover label.sk-toggleable__label.fitted {\n",
       "  color: var(--sklearn-color-text);\n",
       "  background-color: var(--sklearn-color-fitted-level-2);\n",
       "}\n",
       "\n",
       "/* Estimator label */\n",
       "\n",
       "#sk-container-id-3 div.sk-label label {\n",
       "  font-family: monospace;\n",
       "  font-weight: bold;\n",
       "  display: inline-block;\n",
       "  line-height: 1.2em;\n",
       "}\n",
       "\n",
       "#sk-container-id-3 div.sk-label-container {\n",
       "  text-align: center;\n",
       "}\n",
       "\n",
       "/* Estimator-specific */\n",
       "#sk-container-id-3 div.sk-estimator {\n",
       "  font-family: monospace;\n",
       "  border: 1px dotted var(--sklearn-color-border-box);\n",
       "  border-radius: 0.25em;\n",
       "  box-sizing: border-box;\n",
       "  margin-bottom: 0.5em;\n",
       "  /* unfitted */\n",
       "  background-color: var(--sklearn-color-unfitted-level-0);\n",
       "}\n",
       "\n",
       "#sk-container-id-3 div.sk-estimator.fitted {\n",
       "  /* fitted */\n",
       "  background-color: var(--sklearn-color-fitted-level-0);\n",
       "}\n",
       "\n",
       "/* on hover */\n",
       "#sk-container-id-3 div.sk-estimator:hover {\n",
       "  /* unfitted */\n",
       "  background-color: var(--sklearn-color-unfitted-level-2);\n",
       "}\n",
       "\n",
       "#sk-container-id-3 div.sk-estimator.fitted:hover {\n",
       "  /* fitted */\n",
       "  background-color: var(--sklearn-color-fitted-level-2);\n",
       "}\n",
       "\n",
       "/* Specification for estimator info (e.g. \"i\" and \"?\") */\n",
       "\n",
       "/* Common style for \"i\" and \"?\" */\n",
       "\n",
       ".sk-estimator-doc-link,\n",
       "a:link.sk-estimator-doc-link,\n",
       "a:visited.sk-estimator-doc-link {\n",
       "  float: right;\n",
       "  font-size: smaller;\n",
       "  line-height: 1em;\n",
       "  font-family: monospace;\n",
       "  background-color: var(--sklearn-color-background);\n",
       "  border-radius: 1em;\n",
       "  height: 1em;\n",
       "  width: 1em;\n",
       "  text-decoration: none !important;\n",
       "  margin-left: 1ex;\n",
       "  /* unfitted */\n",
       "  border: var(--sklearn-color-unfitted-level-1) 1pt solid;\n",
       "  color: var(--sklearn-color-unfitted-level-1);\n",
       "}\n",
       "\n",
       ".sk-estimator-doc-link.fitted,\n",
       "a:link.sk-estimator-doc-link.fitted,\n",
       "a:visited.sk-estimator-doc-link.fitted {\n",
       "  /* fitted */\n",
       "  border: var(--sklearn-color-fitted-level-1) 1pt solid;\n",
       "  color: var(--sklearn-color-fitted-level-1);\n",
       "}\n",
       "\n",
       "/* On hover */\n",
       "div.sk-estimator:hover .sk-estimator-doc-link:hover,\n",
       ".sk-estimator-doc-link:hover,\n",
       "div.sk-label-container:hover .sk-estimator-doc-link:hover,\n",
       ".sk-estimator-doc-link:hover {\n",
       "  /* unfitted */\n",
       "  background-color: var(--sklearn-color-unfitted-level-3);\n",
       "  color: var(--sklearn-color-background);\n",
       "  text-decoration: none;\n",
       "}\n",
       "\n",
       "div.sk-estimator.fitted:hover .sk-estimator-doc-link.fitted:hover,\n",
       ".sk-estimator-doc-link.fitted:hover,\n",
       "div.sk-label-container:hover .sk-estimator-doc-link.fitted:hover,\n",
       ".sk-estimator-doc-link.fitted:hover {\n",
       "  /* fitted */\n",
       "  background-color: var(--sklearn-color-fitted-level-3);\n",
       "  color: var(--sklearn-color-background);\n",
       "  text-decoration: none;\n",
       "}\n",
       "\n",
       "/* Span, style for the box shown on hovering the info icon */\n",
       ".sk-estimator-doc-link span {\n",
       "  display: none;\n",
       "  z-index: 9999;\n",
       "  position: relative;\n",
       "  font-weight: normal;\n",
       "  right: .2ex;\n",
       "  padding: .5ex;\n",
       "  margin: .5ex;\n",
       "  width: min-content;\n",
       "  min-width: 20ex;\n",
       "  max-width: 50ex;\n",
       "  color: var(--sklearn-color-text);\n",
       "  box-shadow: 2pt 2pt 4pt #999;\n",
       "  /* unfitted */\n",
       "  background: var(--sklearn-color-unfitted-level-0);\n",
       "  border: .5pt solid var(--sklearn-color-unfitted-level-3);\n",
       "}\n",
       "\n",
       ".sk-estimator-doc-link.fitted span {\n",
       "  /* fitted */\n",
       "  background: var(--sklearn-color-fitted-level-0);\n",
       "  border: var(--sklearn-color-fitted-level-3);\n",
       "}\n",
       "\n",
       ".sk-estimator-doc-link:hover span {\n",
       "  display: block;\n",
       "}\n",
       "\n",
       "/* \"?\"-specific style due to the `<a>` HTML tag */\n",
       "\n",
       "#sk-container-id-3 a.estimator_doc_link {\n",
       "  float: right;\n",
       "  font-size: 1rem;\n",
       "  line-height: 1em;\n",
       "  font-family: monospace;\n",
       "  background-color: var(--sklearn-color-background);\n",
       "  border-radius: 1rem;\n",
       "  height: 1rem;\n",
       "  width: 1rem;\n",
       "  text-decoration: none;\n",
       "  /* unfitted */\n",
       "  color: var(--sklearn-color-unfitted-level-1);\n",
       "  border: var(--sklearn-color-unfitted-level-1) 1pt solid;\n",
       "}\n",
       "\n",
       "#sk-container-id-3 a.estimator_doc_link.fitted {\n",
       "  /* fitted */\n",
       "  border: var(--sklearn-color-fitted-level-1) 1pt solid;\n",
       "  color: var(--sklearn-color-fitted-level-1);\n",
       "}\n",
       "\n",
       "/* On hover */\n",
       "#sk-container-id-3 a.estimator_doc_link:hover {\n",
       "  /* unfitted */\n",
       "  background-color: var(--sklearn-color-unfitted-level-3);\n",
       "  color: var(--sklearn-color-background);\n",
       "  text-decoration: none;\n",
       "}\n",
       "\n",
       "#sk-container-id-3 a.estimator_doc_link.fitted:hover {\n",
       "  /* fitted */\n",
       "  background-color: var(--sklearn-color-fitted-level-3);\n",
       "}\n",
       "</style><div id=\"sk-container-id-3\" class=\"sk-top-container\"><div class=\"sk-text-repr-fallback\"><pre>Pipeline(steps=[(&#x27;dictvectorizer&#x27;, DictVectorizer()),\n",
       "                (&#x27;randomforestclassifier&#x27;,\n",
       "                 RandomForestClassifier(class_weight=&#x27;balanced&#x27;, max_depth=10,\n",
       "                                        min_samples_leaf=20,\n",
       "                                        min_samples_split=20, n_jobs=-1,\n",
       "                                        random_state=1))])</pre><b>In a Jupyter environment, please rerun this cell to show the HTML representation or trust the notebook. <br />On GitHub, the HTML representation is unable to render, please try loading this page with nbviewer.org.</b></div><div class=\"sk-container\" hidden><div class=\"sk-item sk-dashed-wrapped\"><div class=\"sk-label-container\"><div class=\"sk-label fitted sk-toggleable\"><input class=\"sk-toggleable__control sk-hidden--visually\" id=\"sk-estimator-id-7\" type=\"checkbox\" ><label for=\"sk-estimator-id-7\" class=\"sk-toggleable__label fitted sk-toggleable__label-arrow fitted\">&nbsp;&nbsp;Pipeline<a class=\"sk-estimator-doc-link fitted\" rel=\"noreferrer\" target=\"_blank\" href=\"https://scikit-learn.org/1.5/modules/generated/sklearn.pipeline.Pipeline.html\">?<span>Documentation for Pipeline</span></a><span class=\"sk-estimator-doc-link fitted\">i<span>Fitted</span></span></label><div class=\"sk-toggleable__content fitted\"><pre>Pipeline(steps=[(&#x27;dictvectorizer&#x27;, DictVectorizer()),\n",
       "                (&#x27;randomforestclassifier&#x27;,\n",
       "                 RandomForestClassifier(class_weight=&#x27;balanced&#x27;, max_depth=10,\n",
       "                                        min_samples_leaf=20,\n",
       "                                        min_samples_split=20, n_jobs=-1,\n",
       "                                        random_state=1))])</pre></div> </div></div><div class=\"sk-serial\"><div class=\"sk-item\"><div class=\"sk-estimator fitted sk-toggleable\"><input class=\"sk-toggleable__control sk-hidden--visually\" id=\"sk-estimator-id-8\" type=\"checkbox\" ><label for=\"sk-estimator-id-8\" class=\"sk-toggleable__label fitted sk-toggleable__label-arrow fitted\">&nbsp;DictVectorizer<a class=\"sk-estimator-doc-link fitted\" rel=\"noreferrer\" target=\"_blank\" href=\"https://scikit-learn.org/1.5/modules/generated/sklearn.feature_extraction.DictVectorizer.html\">?<span>Documentation for DictVectorizer</span></a></label><div class=\"sk-toggleable__content fitted\"><pre>DictVectorizer()</pre></div> </div></div><div class=\"sk-item\"><div class=\"sk-estimator fitted sk-toggleable\"><input class=\"sk-toggleable__control sk-hidden--visually\" id=\"sk-estimator-id-9\" type=\"checkbox\" ><label for=\"sk-estimator-id-9\" class=\"sk-toggleable__label fitted sk-toggleable__label-arrow fitted\">&nbsp;RandomForestClassifier<a class=\"sk-estimator-doc-link fitted\" rel=\"noreferrer\" target=\"_blank\" href=\"https://scikit-learn.org/1.5/modules/generated/sklearn.ensemble.RandomForestClassifier.html\">?<span>Documentation for RandomForestClassifier</span></a></label><div class=\"sk-toggleable__content fitted\"><pre>RandomForestClassifier(class_weight=&#x27;balanced&#x27;, max_depth=10,\n",
       "                       min_samples_leaf=20, min_samples_split=20, n_jobs=-1,\n",
       "                       random_state=1)</pre></div> </div></div></div></div></div></div>"
      ],
      "text/plain": [
       "Pipeline(steps=[('dictvectorizer', DictVectorizer()),\n",
       "                ('randomforestclassifier',\n",
       "                 RandomForestClassifier(class_weight='balanced', max_depth=10,\n",
       "                                        min_samples_leaf=20,\n",
       "                                        min_samples_split=20, n_jobs=-1,\n",
       "                                        random_state=1))])"
      ]
     },
     "execution_count": 37,
     "metadata": {},
     "output_type": "execute_result"
    }
   ],
   "source": [
    "pipeline.fit(train_dicts, y_train)"
   ]
  },
  {
   "cell_type": "code",
   "execution_count": 38,
   "id": "661dcff9-8698-460e-b7fe-b0a592ec8806",
   "metadata": {},
   "outputs": [
    {
     "name": "stdout",
     "output_type": "stream",
     "text": [
      "Train AUC: 0.8489\n",
      "Val AUC: 0.6281\n"
     ]
    }
   ],
   "source": [
    "train_pred = pipeline.predict_proba(train_dicts)[:, 1]\n",
    "val_pred = pipeline.predict_proba(val_dicts)[:, 1]\n",
    "\n",
    "train_auc = roc_auc_score(y_train, train_pred)\n",
    "val_auc = roc_auc_score(y_val, val_pred)\n",
    "\n",
    "print(f\"Train AUC: {train_auc:.4f}\")\n",
    "print(f\"Val AUC: {val_auc:.4f}\")"
   ]
  },
  {
   "cell_type": "code",
   "execution_count": 39,
   "id": "642abb74-8cbd-49b5-83fc-892b74776364",
   "metadata": {},
   "outputs": [
    {
     "name": "stderr",
     "output_type": "stream",
     "text": [
      "2024/11/15 13:07:44 INFO mlflow.tracking.fluent: Experiment with name 'random_forest_tuning' does not exist. Creating a new experiment.\n"
     ]
    },
    {
     "data": {
      "text/plain": [
       "<Experiment: artifact_location='/workspaces/lld-lead-scoring/analytics/mlruns/3', creation_time=1731676064529, experiment_id='3', last_update_time=1731676064529, lifecycle_stage='active', name='random_forest_tuning', tags={}>"
      ]
     },
     "execution_count": 39,
     "metadata": {},
     "output_type": "execute_result"
    }
   ],
   "source": [
    "mlflow.set_experiment(\"random_forest_tuning\")"
   ]
  },
  {
   "cell_type": "code",
   "execution_count": 40,
   "id": "72402c3b-d022-4ec7-82ae-12d8fbdac2c4",
   "metadata": {},
   "outputs": [
    {
     "name": "stderr",
     "output_type": "stream",
     "text": [
      "2024/11/15 13:08:53 WARNING mlflow.models.model: Model logged without a signature and input example. Please set `input_example` parameter when logging the model to auto infer the model signature.\n"
     ]
    },
    {
     "name": "stdout",
     "output_type": "stream",
     "text": [
      "Trial 1/30:\n",
      "Params: {'n_estimators': np.int64(101), 'max_depth': np.int64(19), 'min_samples_leaf': np.int64(65), 'min_samples_split': np.int64(45), 'class_weight': 'balanced', 'n_jobs': -1, 'random_state': 1}\n",
      "Train AUC: 0.7175, Val AUC: 0.6107\n",
      "Best Val AUC so far: 0.6107\n",
      "\n"
     ]
    },
    {
     "name": "stderr",
     "output_type": "stream",
     "text": [
      "2024/11/15 13:08:54 INFO mlflow.tracking._tracking_service.client: 🏃 View run skittish-cow-198 at: http://localhost:5000/#/experiments/3/runs/fdf4d10880cc4f56b4dea5a70675eef8.\n",
      "2024/11/15 13:08:54 INFO mlflow.tracking._tracking_service.client: 🧪 View experiment at: http://localhost:5000/#/experiments/3.\n",
      "2024/11/15 13:08:56 WARNING mlflow.models.model: Model logged without a signature and input example. Please set `input_example` parameter when logging the model to auto infer the model signature.\n",
      "2024/11/15 13:08:56 INFO mlflow.tracking._tracking_service.client: 🏃 View run debonair-gnat-530 at: http://localhost:5000/#/experiments/3/runs/9f3aae746c6248b8b463c1e86648fdc3.\n",
      "2024/11/15 13:08:56 INFO mlflow.tracking._tracking_service.client: 🧪 View experiment at: http://localhost:5000/#/experiments/3.\n"
     ]
    },
    {
     "name": "stdout",
     "output_type": "stream",
     "text": [
      "Trial 2/30:\n",
      "Params: {'n_estimators': np.int64(153), 'max_depth': np.int64(8), 'min_samples_leaf': np.int64(29), 'min_samples_split': np.int64(75), 'class_weight': 'balanced', 'n_jobs': -1, 'random_state': 1}\n",
      "Train AUC: 0.7836, Val AUC: 0.6052\n",
      "Best Val AUC so far: 0.6107\n",
      "\n"
     ]
    },
    {
     "name": "stderr",
     "output_type": "stream",
     "text": [
      "2024/11/15 13:08:59 WARNING mlflow.models.model: Model logged without a signature and input example. Please set `input_example` parameter when logging the model to auto infer the model signature.\n",
      "2024/11/15 13:08:59 INFO mlflow.tracking._tracking_service.client: 🏃 View run redolent-sow-205 at: http://localhost:5000/#/experiments/3/runs/80f23ef8c510418c8d23498c1b430bc6.\n",
      "2024/11/15 13:08:59 INFO mlflow.tracking._tracking_service.client: 🧪 View experiment at: http://localhost:5000/#/experiments/3.\n"
     ]
    },
    {
     "name": "stdout",
     "output_type": "stream",
     "text": [
      "Trial 3/30:\n",
      "Params: {'n_estimators': np.int64(185), 'max_depth': np.int64(9), 'min_samples_leaf': np.int64(41), 'min_samples_split': np.int64(44), 'class_weight': 'balanced', 'n_jobs': -1, 'random_state': 1}\n",
      "Train AUC: 0.7606, Val AUC: 0.6055\n",
      "Best Val AUC so far: 0.6107\n",
      "\n"
     ]
    },
    {
     "name": "stderr",
     "output_type": "stream",
     "text": [
      "2024/11/15 13:09:01 WARNING mlflow.models.model: Model logged without a signature and input example. Please set `input_example` parameter when logging the model to auto infer the model signature.\n",
      "2024/11/15 13:09:01 INFO mlflow.tracking._tracking_service.client: 🏃 View run indecisive-bee-997 at: http://localhost:5000/#/experiments/3/runs/e0423eea5910473b9320046312af381d.\n",
      "2024/11/15 13:09:01 INFO mlflow.tracking._tracking_service.client: 🧪 View experiment at: http://localhost:5000/#/experiments/3.\n"
     ]
    },
    {
     "name": "stdout",
     "output_type": "stream",
     "text": [
      "Trial 4/30:\n",
      "Params: {'n_estimators': np.int64(176), 'max_depth': np.int64(5), 'min_samples_leaf': np.int64(16), 'min_samples_split': np.int64(97), 'class_weight': 'balanced', 'n_jobs': -1, 'random_state': 1}\n",
      "Train AUC: 0.7639, Val AUC: 0.6029\n",
      "Best Val AUC so far: 0.6107\n",
      "\n"
     ]
    },
    {
     "name": "stderr",
     "output_type": "stream",
     "text": [
      "2024/11/15 13:09:03 WARNING mlflow.models.model: Model logged without a signature and input example. Please set `input_example` parameter when logging the model to auto infer the model signature.\n",
      "2024/11/15 13:09:03 INFO mlflow.tracking._tracking_service.client: 🏃 View run luxuriant-lynx-153 at: http://localhost:5000/#/experiments/3/runs/2516315b92054091b102e325a0ac32cf.\n",
      "2024/11/15 13:09:03 INFO mlflow.tracking._tracking_service.client: 🧪 View experiment at: http://localhost:5000/#/experiments/3.\n"
     ]
    },
    {
     "name": "stdout",
     "output_type": "stream",
     "text": [
      "Trial 5/30:\n",
      "Params: {'n_estimators': np.int64(181), 'max_depth': np.int64(12), 'min_samples_leaf': np.int64(92), 'min_samples_split': np.int64(34), 'class_weight': 'balanced', 'n_jobs': -1, 'random_state': 1}\n",
      "Train AUC: 0.6916, Val AUC: 0.6026\n",
      "Best Val AUC so far: 0.6107\n",
      "\n"
     ]
    },
    {
     "name": "stderr",
     "output_type": "stream",
     "text": [
      "2024/11/15 13:09:05 WARNING mlflow.models.model: Model logged without a signature and input example. Please set `input_example` parameter when logging the model to auto infer the model signature.\n",
      "2024/11/15 13:09:05 INFO mlflow.tracking._tracking_service.client: 🏃 View run bemused-yak-714 at: http://localhost:5000/#/experiments/3/runs/be4b6ced329d4270b0bf6ffc622e6fba.\n",
      "2024/11/15 13:09:05 INFO mlflow.tracking._tracking_service.client: 🧪 View experiment at: http://localhost:5000/#/experiments/3.\n"
     ]
    },
    {
     "name": "stdout",
     "output_type": "stream",
     "text": [
      "Trial 6/30:\n",
      "Params: {'n_estimators': np.int64(79), 'max_depth': np.int64(8), 'min_samples_leaf': np.int64(58), 'min_samples_split': np.int64(19), 'class_weight': 'balanced', 'n_jobs': -1, 'random_state': 1}\n",
      "Train AUC: 0.7274, Val AUC: 0.6224\n",
      "Best Val AUC so far: 0.6224\n",
      "\n"
     ]
    },
    {
     "name": "stderr",
     "output_type": "stream",
     "text": [
      "2024/11/15 13:09:07 WARNING mlflow.models.model: Model logged without a signature and input example. Please set `input_example` parameter when logging the model to auto infer the model signature.\n",
      "2024/11/15 13:09:07 INFO mlflow.tracking._tracking_service.client: 🏃 View run brawny-snake-976 at: http://localhost:5000/#/experiments/3/runs/ea163c42e4ca48d59577d62763fa5b21.\n",
      "2024/11/15 13:09:07 INFO mlflow.tracking._tracking_service.client: 🧪 View experiment at: http://localhost:5000/#/experiments/3.\n"
     ]
    },
    {
     "name": "stdout",
     "output_type": "stream",
     "text": [
      "Trial 7/30:\n",
      "Params: {'n_estimators': np.int64(121), 'max_depth': np.int64(8), 'min_samples_leaf': np.int64(89), 'min_samples_split': np.int64(65), 'class_weight': 'balanced', 'n_jobs': -1, 'random_state': 1}\n",
      "Train AUC: 0.6954, Val AUC: 0.6013\n",
      "Best Val AUC so far: 0.6224\n",
      "\n"
     ]
    },
    {
     "name": "stderr",
     "output_type": "stream",
     "text": [
      "2024/11/15 13:09:09 WARNING mlflow.models.model: Model logged without a signature and input example. Please set `input_example` parameter when logging the model to auto infer the model signature.\n",
      "2024/11/15 13:09:09 INFO mlflow.tracking._tracking_service.client: 🏃 View run legendary-slug-9 at: http://localhost:5000/#/experiments/3/runs/6e3a9f317c2f4b3a828f1653f3f92eb1.\n",
      "2024/11/15 13:09:09 INFO mlflow.tracking._tracking_service.client: 🧪 View experiment at: http://localhost:5000/#/experiments/3.\n"
     ]
    },
    {
     "name": "stdout",
     "output_type": "stream",
     "text": [
      "Trial 8/30:\n",
      "Params: {'n_estimators': np.int64(126), 'max_depth': np.int64(16), 'min_samples_leaf': np.int64(53), 'min_samples_split': np.int64(39), 'class_weight': 'balanced', 'n_jobs': -1, 'random_state': 1}\n",
      "Train AUC: 0.7348, Val AUC: 0.6171\n",
      "Best Val AUC so far: 0.6224\n",
      "\n"
     ]
    },
    {
     "name": "stderr",
     "output_type": "stream",
     "text": [
      "2024/11/15 13:09:11 WARNING mlflow.models.model: Model logged without a signature and input example. Please set `input_example` parameter when logging the model to auto infer the model signature.\n",
      "2024/11/15 13:09:11 INFO mlflow.tracking._tracking_service.client: 🏃 View run aged-chimp-265 at: http://localhost:5000/#/experiments/3/runs/e0fcdab461da46b5bd5dc8c1241d5c7d.\n",
      "2024/11/15 13:09:11 INFO mlflow.tracking._tracking_service.client: 🧪 View experiment at: http://localhost:5000/#/experiments/3.\n"
     ]
    },
    {
     "name": "stdout",
     "output_type": "stream",
     "text": [
      "Trial 9/30:\n",
      "Params: {'n_estimators': np.int64(96), 'max_depth': np.int64(15), 'min_samples_leaf': np.int64(43), 'min_samples_split': np.int64(76), 'class_weight': 'balanced', 'n_jobs': -1, 'random_state': 1}\n",
      "Train AUC: 0.7523, Val AUC: 0.6299\n",
      "Best Val AUC so far: 0.6299\n",
      "\n"
     ]
    },
    {
     "name": "stderr",
     "output_type": "stream",
     "text": [
      "2024/11/15 13:09:13 WARNING mlflow.models.model: Model logged without a signature and input example. Please set `input_example` parameter when logging the model to auto infer the model signature.\n",
      "2024/11/15 13:09:13 INFO mlflow.tracking._tracking_service.client: 🏃 View run youthful-gnat-292 at: http://localhost:5000/#/experiments/3/runs/9fa49135ab6444e2936f5702469eb4f9.\n",
      "2024/11/15 13:09:13 INFO mlflow.tracking._tracking_service.client: 🧪 View experiment at: http://localhost:5000/#/experiments/3.\n"
     ]
    },
    {
     "name": "stdout",
     "output_type": "stream",
     "text": [
      "Trial 10/30:\n",
      "Params: {'n_estimators': np.int64(126), 'max_depth': np.int64(8), 'min_samples_leaf': np.int64(65), 'min_samples_split': np.int64(83), 'class_weight': 'balanced', 'n_jobs': -1, 'random_state': 1}\n",
      "Train AUC: 0.7176, Val AUC: 0.6042\n",
      "Best Val AUC so far: 0.6299\n",
      "\n"
     ]
    },
    {
     "name": "stderr",
     "output_type": "stream",
     "text": [
      "2024/11/15 13:09:15 WARNING mlflow.models.model: Model logged without a signature and input example. Please set `input_example` parameter when logging the model to auto infer the model signature.\n",
      "2024/11/15 13:09:15 INFO mlflow.tracking._tracking_service.client: 🏃 View run luminous-mule-543 at: http://localhost:5000/#/experiments/3/runs/2ceff85b4f4642e1a9b8161a4dcd8de8.\n",
      "2024/11/15 13:09:15 INFO mlflow.tracking._tracking_service.client: 🧪 View experiment at: http://localhost:5000/#/experiments/3.\n"
     ]
    },
    {
     "name": "stdout",
     "output_type": "stream",
     "text": [
      "Trial 11/30:\n",
      "Params: {'n_estimators': np.int64(75), 'max_depth': np.int64(9), 'min_samples_leaf': np.int64(43), 'min_samples_split': np.int64(98), 'class_weight': 'balanced', 'n_jobs': -1, 'random_state': 1}\n",
      "Train AUC: 0.7492, Val AUC: 0.6331\n",
      "Best Val AUC so far: 0.6331\n",
      "\n"
     ]
    },
    {
     "name": "stderr",
     "output_type": "stream",
     "text": [
      "2024/11/15 13:09:17 WARNING mlflow.models.model: Model logged without a signature and input example. Please set `input_example` parameter when logging the model to auto infer the model signature.\n",
      "2024/11/15 13:09:18 INFO mlflow.tracking._tracking_service.client: 🏃 View run salty-horse-894 at: http://localhost:5000/#/experiments/3/runs/7ec9ed87716b4220b5308a040c5d3d3c.\n",
      "2024/11/15 13:09:18 INFO mlflow.tracking._tracking_service.client: 🧪 View experiment at: http://localhost:5000/#/experiments/3.\n"
     ]
    },
    {
     "name": "stdout",
     "output_type": "stream",
     "text": [
      "Trial 12/30:\n",
      "Params: {'n_estimators': np.int64(195), 'max_depth': np.int64(17), 'min_samples_leaf': np.int64(37), 'min_samples_split': np.int64(17), 'class_weight': 'balanced', 'n_jobs': -1, 'random_state': 1}\n",
      "Train AUC: 0.7702, Val AUC: 0.6090\n",
      "Best Val AUC so far: 0.6331\n",
      "\n"
     ]
    },
    {
     "name": "stderr",
     "output_type": "stream",
     "text": [
      "2024/11/15 13:09:19 WARNING mlflow.models.model: Model logged without a signature and input example. Please set `input_example` parameter when logging the model to auto infer the model signature.\n",
      "2024/11/15 13:09:19 INFO mlflow.tracking._tracking_service.client: 🏃 View run bedecked-worm-911 at: http://localhost:5000/#/experiments/3/runs/cc20d48e27f7459c8342deaff42b316a.\n",
      "2024/11/15 13:09:19 INFO mlflow.tracking._tracking_service.client: 🧪 View experiment at: http://localhost:5000/#/experiments/3.\n"
     ]
    },
    {
     "name": "stdout",
     "output_type": "stream",
     "text": [
      "Trial 13/30:\n",
      "Params: {'n_estimators': np.int64(78), 'max_depth': np.int64(18), 'min_samples_leaf': np.int64(56), 'min_samples_split': np.int64(60), 'class_weight': 'balanced', 'n_jobs': -1, 'random_state': 1}\n",
      "Train AUC: 0.7299, Val AUC: 0.6246\n",
      "Best Val AUC so far: 0.6331\n",
      "\n"
     ]
    },
    {
     "name": "stderr",
     "output_type": "stream",
     "text": [
      "2024/11/15 13:09:22 WARNING mlflow.models.model: Model logged without a signature and input example. Please set `input_example` parameter when logging the model to auto infer the model signature.\n",
      "2024/11/15 13:09:22 INFO mlflow.tracking._tracking_service.client: 🏃 View run fearless-fowl-899 at: http://localhost:5000/#/experiments/3/runs/126a75070d764c43a0e84f81e22ff6da.\n",
      "2024/11/15 13:09:22 INFO mlflow.tracking._tracking_service.client: 🧪 View experiment at: http://localhost:5000/#/experiments/3.\n"
     ]
    },
    {
     "name": "stdout",
     "output_type": "stream",
     "text": [
      "Trial 14/30:\n",
      "Params: {'n_estimators': np.int64(174), 'max_depth': np.int64(8), 'min_samples_leaf': np.int64(39), 'min_samples_split': np.int64(97), 'class_weight': 'balanced', 'n_jobs': -1, 'random_state': 1}\n",
      "Train AUC: 0.7597, Val AUC: 0.6161\n",
      "Best Val AUC so far: 0.6331\n",
      "\n"
     ]
    },
    {
     "name": "stderr",
     "output_type": "stream",
     "text": [
      "2024/11/15 13:09:24 WARNING mlflow.models.model: Model logged without a signature and input example. Please set `input_example` parameter when logging the model to auto infer the model signature.\n",
      "2024/11/15 13:09:24 INFO mlflow.tracking._tracking_service.client: 🏃 View run respected-shrike-386 at: http://localhost:5000/#/experiments/3/runs/41513d7784cb4154b3c154d7f7303b27.\n",
      "2024/11/15 13:09:24 INFO mlflow.tracking._tracking_service.client: 🧪 View experiment at: http://localhost:5000/#/experiments/3.\n"
     ]
    },
    {
     "name": "stdout",
     "output_type": "stream",
     "text": [
      "Trial 15/30:\n",
      "Params: {'n_estimators': np.int64(177), 'max_depth': np.int64(7), 'min_samples_leaf': np.int64(91), 'min_samples_split': np.int64(16), 'class_weight': 'balanced', 'n_jobs': -1, 'random_state': 1}\n",
      "Train AUC: 0.6937, Val AUC: 0.6013\n",
      "Best Val AUC so far: 0.6331\n",
      "\n"
     ]
    },
    {
     "name": "stderr",
     "output_type": "stream",
     "text": [
      "2024/11/15 13:09:26 WARNING mlflow.models.model: Model logged without a signature and input example. Please set `input_example` parameter when logging the model to auto infer the model signature.\n",
      "2024/11/15 13:09:26 INFO mlflow.tracking._tracking_service.client: 🏃 View run colorful-elk-697 at: http://localhost:5000/#/experiments/3/runs/bb4b7fcea2604992aeb342d3de040f21.\n",
      "2024/11/15 13:09:26 INFO mlflow.tracking._tracking_service.client: 🧪 View experiment at: http://localhost:5000/#/experiments/3.\n"
     ]
    },
    {
     "name": "stdout",
     "output_type": "stream",
     "text": [
      "Trial 16/30:\n",
      "Params: {'n_estimators': np.int64(77), 'max_depth': np.int64(19), 'min_samples_leaf': np.int64(80), 'min_samples_split': np.int64(39), 'class_weight': 'balanced', 'n_jobs': -1, 'random_state': 1}\n",
      "Train AUC: 0.7048, Val AUC: 0.6081\n",
      "Best Val AUC so far: 0.6331\n",
      "\n"
     ]
    },
    {
     "name": "stderr",
     "output_type": "stream",
     "text": [
      "2024/11/15 13:09:28 WARNING mlflow.models.model: Model logged without a signature and input example. Please set `input_example` parameter when logging the model to auto infer the model signature.\n",
      "2024/11/15 13:09:28 INFO mlflow.tracking._tracking_service.client: 🏃 View run thundering-mink-762 at: http://localhost:5000/#/experiments/3/runs/ffe094fd10384c919f65fdf5e888501f.\n",
      "2024/11/15 13:09:28 INFO mlflow.tracking._tracking_service.client: 🧪 View experiment at: http://localhost:5000/#/experiments/3.\n"
     ]
    },
    {
     "name": "stdout",
     "output_type": "stream",
     "text": [
      "Trial 17/30:\n",
      "Params: {'n_estimators': np.int64(90), 'max_depth': np.int64(9), 'min_samples_leaf': np.int64(87), 'min_samples_split': np.int64(73), 'class_weight': 'balanced', 'n_jobs': -1, 'random_state': 1}\n",
      "Train AUC: 0.6958, Val AUC: 0.6120\n",
      "Best Val AUC so far: 0.6331\n",
      "\n"
     ]
    },
    {
     "name": "stderr",
     "output_type": "stream",
     "text": [
      "2024/11/15 13:09:31 WARNING mlflow.models.model: Model logged without a signature and input example. Please set `input_example` parameter when logging the model to auto infer the model signature.\n",
      "2024/11/15 13:09:31 INFO mlflow.tracking._tracking_service.client: 🏃 View run defiant-bird-208 at: http://localhost:5000/#/experiments/3/runs/55a82c5fa3d84a56bcebabc67503b85d.\n",
      "2024/11/15 13:09:31 INFO mlflow.tracking._tracking_service.client: 🧪 View experiment at: http://localhost:5000/#/experiments/3.\n"
     ]
    },
    {
     "name": "stdout",
     "output_type": "stream",
     "text": [
      "Trial 18/30:\n",
      "Params: {'n_estimators': np.int64(196), 'max_depth': np.int64(17), 'min_samples_leaf': np.int64(35), 'min_samples_split': np.int64(11), 'class_weight': 'balanced', 'n_jobs': -1, 'random_state': 1}\n",
      "Train AUC: 0.7763, Val AUC: 0.6079\n",
      "Best Val AUC so far: 0.6331\n",
      "\n"
     ]
    },
    {
     "name": "stderr",
     "output_type": "stream",
     "text": [
      "2024/11/15 13:09:32 WARNING mlflow.models.model: Model logged without a signature and input example. Please set `input_example` parameter when logging the model to auto infer the model signature.\n",
      "2024/11/15 13:09:33 INFO mlflow.tracking._tracking_service.client: 🏃 View run fortunate-swan-957 at: http://localhost:5000/#/experiments/3/runs/1a5704ac7c234855a22971401ea2c033.\n",
      "2024/11/15 13:09:33 INFO mlflow.tracking._tracking_service.client: 🧪 View experiment at: http://localhost:5000/#/experiments/3.\n"
     ]
    },
    {
     "name": "stdout",
     "output_type": "stream",
     "text": [
      "Trial 19/30:\n",
      "Params: {'n_estimators': np.int64(110), 'max_depth': np.int64(12), 'min_samples_leaf': np.int64(84), 'min_samples_split': np.int64(83), 'class_weight': 'balanced', 'n_jobs': -1, 'random_state': 1}\n",
      "Train AUC: 0.6986, Val AUC: 0.6084\n",
      "Best Val AUC so far: 0.6331\n",
      "\n"
     ]
    },
    {
     "name": "stderr",
     "output_type": "stream",
     "text": [
      "2024/11/15 13:09:35 WARNING mlflow.models.model: Model logged without a signature and input example. Please set `input_example` parameter when logging the model to auto infer the model signature.\n",
      "2024/11/15 13:09:35 INFO mlflow.tracking._tracking_service.client: 🏃 View run judicious-tern-303 at: http://localhost:5000/#/experiments/3/runs/9a6dad24652b47468cc9c0775c250ef9.\n",
      "2024/11/15 13:09:35 INFO mlflow.tracking._tracking_service.client: 🧪 View experiment at: http://localhost:5000/#/experiments/3.\n"
     ]
    },
    {
     "name": "stdout",
     "output_type": "stream",
     "text": [
      "Trial 20/30:\n",
      "Params: {'n_estimators': np.int64(141), 'max_depth': np.int64(6), 'min_samples_leaf': np.int64(28), 'min_samples_split': np.int64(14), 'class_weight': 'balanced', 'n_jobs': -1, 'random_state': 1}\n",
      "Train AUC: 0.7844, Val AUC: 0.6015\n",
      "Best Val AUC so far: 0.6331\n",
      "\n"
     ]
    },
    {
     "name": "stderr",
     "output_type": "stream",
     "text": [
      "2024/11/15 13:09:37 WARNING mlflow.models.model: Model logged without a signature and input example. Please set `input_example` parameter when logging the model to auto infer the model signature.\n",
      "2024/11/15 13:09:37 INFO mlflow.tracking._tracking_service.client: 🏃 View run shivering-mole-776 at: http://localhost:5000/#/experiments/3/runs/fc08f6e90e53442fa5b97836908a9421.\n",
      "2024/11/15 13:09:37 INFO mlflow.tracking._tracking_service.client: 🧪 View experiment at: http://localhost:5000/#/experiments/3.\n"
     ]
    },
    {
     "name": "stdout",
     "output_type": "stream",
     "text": [
      "Trial 21/30:\n",
      "Params: {'n_estimators': np.int64(160), 'max_depth': np.int64(15), 'min_samples_leaf': np.int64(81), 'min_samples_split': np.int64(38), 'class_weight': 'balanced', 'n_jobs': -1, 'random_state': 1}\n",
      "Train AUC: 0.7008, Val AUC: 0.6012\n",
      "Best Val AUC so far: 0.6331\n",
      "\n"
     ]
    },
    {
     "name": "stderr",
     "output_type": "stream",
     "text": [
      "2024/11/15 13:09:40 WARNING mlflow.models.model: Model logged without a signature and input example. Please set `input_example` parameter when logging the model to auto infer the model signature.\n",
      "2024/11/15 13:09:40 INFO mlflow.tracking._tracking_service.client: 🏃 View run intrigued-shoat-815 at: http://localhost:5000/#/experiments/3/runs/4c26a1a0f09a41b3a684771a289bfc92.\n",
      "2024/11/15 13:09:40 INFO mlflow.tracking._tracking_service.client: 🧪 View experiment at: http://localhost:5000/#/experiments/3.\n"
     ]
    },
    {
     "name": "stdout",
     "output_type": "stream",
     "text": [
      "Trial 22/30:\n",
      "Params: {'n_estimators': np.int64(176), 'max_depth': np.int64(16), 'min_samples_leaf': np.int64(86), 'min_samples_split': np.int64(27), 'class_weight': 'balanced', 'n_jobs': -1, 'random_state': 1}\n",
      "Train AUC: 0.6972, Val AUC: 0.5993\n",
      "Best Val AUC so far: 0.6331\n",
      "\n"
     ]
    },
    {
     "name": "stderr",
     "output_type": "stream",
     "text": [
      "2024/11/15 13:09:42 WARNING mlflow.models.model: Model logged without a signature and input example. Please set `input_example` parameter when logging the model to auto infer the model signature.\n"
     ]
    },
    {
     "name": "stdout",
     "output_type": "stream",
     "text": [
      "Trial 23/30:\n",
      "Params: {'n_estimators': np.int64(137), 'max_depth': np.int64(8), 'min_samples_leaf': np.int64(13), 'min_samples_split': np.int64(49), 'class_weight': 'balanced', 'n_jobs': -1, 'random_state': 1}\n",
      "Train AUC: 0.8588, Val AUC: 0.6231\n",
      "Best Val AUC so far: 0.6331\n",
      "\n"
     ]
    },
    {
     "name": "stderr",
     "output_type": "stream",
     "text": [
      "2024/11/15 13:09:42 INFO mlflow.tracking._tracking_service.client: 🏃 View run enchanting-lynx-31 at: http://localhost:5000/#/experiments/3/runs/b18c3ab3408c4ecd9a8e3f919678c124.\n",
      "2024/11/15 13:09:42 INFO mlflow.tracking._tracking_service.client: 🧪 View experiment at: http://localhost:5000/#/experiments/3.\n",
      "2024/11/15 13:09:44 WARNING mlflow.models.model: Model logged without a signature and input example. Please set `input_example` parameter when logging the model to auto infer the model signature.\n",
      "2024/11/15 13:09:44 INFO mlflow.tracking._tracking_service.client: 🏃 View run dashing-panda-576 at: http://localhost:5000/#/experiments/3/runs/85d407e80a68418aae7202a6c4fcc250.\n",
      "2024/11/15 13:09:44 INFO mlflow.tracking._tracking_service.client: 🧪 View experiment at: http://localhost:5000/#/experiments/3.\n"
     ]
    },
    {
     "name": "stdout",
     "output_type": "stream",
     "text": [
      "Trial 24/30:\n",
      "Params: {'n_estimators': np.int64(140), 'max_depth': np.int64(16), 'min_samples_leaf': np.int64(87), 'min_samples_split': np.int64(60), 'class_weight': 'balanced', 'n_jobs': -1, 'random_state': 1}\n",
      "Train AUC: 0.6960, Val AUC: 0.5991\n",
      "Best Val AUC so far: 0.6331\n",
      "\n"
     ]
    },
    {
     "name": "stderr",
     "output_type": "stream",
     "text": [
      "2024/11/15 13:09:47 WARNING mlflow.models.model: Model logged without a signature and input example. Please set `input_example` parameter when logging the model to auto infer the model signature.\n",
      "2024/11/15 13:09:47 INFO mlflow.tracking._tracking_service.client: 🏃 View run valuable-lamb-319 at: http://localhost:5000/#/experiments/3/runs/65966b47ce0944c6a3fd4bd6c0a0257e.\n",
      "2024/11/15 13:09:47 INFO mlflow.tracking._tracking_service.client: 🧪 View experiment at: http://localhost:5000/#/experiments/3.\n"
     ]
    },
    {
     "name": "stdout",
     "output_type": "stream",
     "text": [
      "Trial 25/30:\n",
      "Params: {'n_estimators': np.int64(172), 'max_depth': np.int64(13), 'min_samples_leaf': np.int64(98), 'min_samples_split': np.int64(87), 'class_weight': 'balanced', 'n_jobs': -1, 'random_state': 1}\n",
      "Train AUC: 0.6884, Val AUC: 0.5967\n",
      "Best Val AUC so far: 0.6331\n",
      "\n"
     ]
    },
    {
     "name": "stderr",
     "output_type": "stream",
     "text": [
      "2024/11/15 13:09:49 WARNING mlflow.models.model: Model logged without a signature and input example. Please set `input_example` parameter when logging the model to auto infer the model signature.\n",
      "2024/11/15 13:09:49 INFO mlflow.tracking._tracking_service.client: 🏃 View run serious-penguin-156 at: http://localhost:5000/#/experiments/3/runs/a668ab5268d849fbbcdbd9db27bbf368.\n",
      "2024/11/15 13:09:49 INFO mlflow.tracking._tracking_service.client: 🧪 View experiment at: http://localhost:5000/#/experiments/3.\n"
     ]
    },
    {
     "name": "stdout",
     "output_type": "stream",
     "text": [
      "Trial 26/30:\n",
      "Params: {'n_estimators': np.int64(110), 'max_depth': np.int64(10), 'min_samples_leaf': np.int64(44), 'min_samples_split': np.int64(42), 'class_weight': 'balanced', 'n_jobs': -1, 'random_state': 1}\n",
      "Train AUC: 0.7478, Val AUC: 0.6295\n",
      "Best Val AUC so far: 0.6331\n",
      "\n"
     ]
    },
    {
     "name": "stderr",
     "output_type": "stream",
     "text": [
      "2024/11/15 13:09:51 WARNING mlflow.models.model: Model logged without a signature and input example. Please set `input_example` parameter when logging the model to auto infer the model signature.\n",
      "2024/11/15 13:09:51 INFO mlflow.tracking._tracking_service.client: 🏃 View run bemused-bug-164 at: http://localhost:5000/#/experiments/3/runs/a69c84b047c4425db47544624594bbef.\n",
      "2024/11/15 13:09:51 INFO mlflow.tracking._tracking_service.client: 🧪 View experiment at: http://localhost:5000/#/experiments/3.\n"
     ]
    },
    {
     "name": "stdout",
     "output_type": "stream",
     "text": [
      "Trial 27/30:\n",
      "Params: {'n_estimators': np.int64(146), 'max_depth': np.int64(7), 'min_samples_leaf': np.int64(66), 'min_samples_split': np.int64(42), 'class_weight': 'balanced', 'n_jobs': -1, 'random_state': 1}\n",
      "Train AUC: 0.7153, Val AUC: 0.5989\n",
      "Best Val AUC so far: 0.6331\n",
      "\n"
     ]
    },
    {
     "name": "stderr",
     "output_type": "stream",
     "text": [
      "2024/11/15 13:09:53 WARNING mlflow.models.model: Model logged without a signature and input example. Please set `input_example` parameter when logging the model to auto infer the model signature.\n",
      "2024/11/15 13:09:53 INFO mlflow.tracking._tracking_service.client: 🏃 View run delicate-quail-637 at: http://localhost:5000/#/experiments/3/runs/4a1896a8dff6432b86f6c5dfc09582e7.\n",
      "2024/11/15 13:09:53 INFO mlflow.tracking._tracking_service.client: 🧪 View experiment at: http://localhost:5000/#/experiments/3.\n"
     ]
    },
    {
     "name": "stdout",
     "output_type": "stream",
     "text": [
      "Trial 28/30:\n",
      "Params: {'n_estimators': np.int64(166), 'max_depth': np.int64(7), 'min_samples_leaf': np.int64(90), 'min_samples_split': np.int64(76), 'class_weight': 'balanced', 'n_jobs': -1, 'random_state': 1}\n",
      "Train AUC: 0.6947, Val AUC: 0.6021\n",
      "Best Val AUC so far: 0.6331\n",
      "\n"
     ]
    },
    {
     "name": "stderr",
     "output_type": "stream",
     "text": [
      "2024/11/15 13:09:56 WARNING mlflow.models.model: Model logged without a signature and input example. Please set `input_example` parameter when logging the model to auto infer the model signature.\n",
      "2024/11/15 13:09:56 INFO mlflow.tracking._tracking_service.client: 🏃 View run debonair-lamb-752 at: http://localhost:5000/#/experiments/3/runs/ad4ab1469ae3462ea8ddaabe475272d0.\n",
      "2024/11/15 13:09:56 INFO mlflow.tracking._tracking_service.client: 🧪 View experiment at: http://localhost:5000/#/experiments/3.\n"
     ]
    },
    {
     "name": "stdout",
     "output_type": "stream",
     "text": [
      "Trial 29/30:\n",
      "Params: {'n_estimators': np.int64(81), 'max_depth': np.int64(6), 'min_samples_leaf': np.int64(59), 'min_samples_split': np.int64(21), 'class_weight': 'balanced', 'n_jobs': -1, 'random_state': 1}\n",
      "Train AUC: 0.7225, Val AUC: 0.6157\n",
      "Best Val AUC so far: 0.6331\n",
      "\n"
     ]
    },
    {
     "name": "stderr",
     "output_type": "stream",
     "text": [
      "2024/11/15 13:09:58 WARNING mlflow.models.model: Model logged without a signature and input example. Please set `input_example` parameter when logging the model to auto infer the model signature.\n",
      "2024/11/15 13:09:58 INFO mlflow.tracking._tracking_service.client: 🏃 View run nervous-snail-915 at: http://localhost:5000/#/experiments/3/runs/59fcadcbdd284861b7ad8818bfa774f5.\n",
      "2024/11/15 13:09:58 INFO mlflow.tracking._tracking_service.client: 🧪 View experiment at: http://localhost:5000/#/experiments/3.\n"
     ]
    },
    {
     "name": "stdout",
     "output_type": "stream",
     "text": [
      "Trial 30/30:\n",
      "Params: {'n_estimators': np.int64(72), 'max_depth': np.int64(12), 'min_samples_leaf': np.int64(41), 'min_samples_split': np.int64(80), 'class_weight': 'balanced', 'n_jobs': -1, 'random_state': 1}\n",
      "Train AUC: 0.7609, Val AUC: 0.6067\n",
      "Best Val AUC so far: 0.6331\n",
      "\n",
      "Best parameters: {'n_estimators': np.int64(75), 'max_depth': np.int64(9), 'min_samples_leaf': np.int64(43), 'min_samples_split': np.int64(98), 'class_weight': 'balanced', 'n_jobs': -1, 'random_state': 1}\n",
      "Best validation AUC: 0.6330779480346436\n"
     ]
    }
   ],
   "source": [
    "# Parameter ranges\n",
    "n_trials = 30\n",
    "param_ranges = {\n",
    "    'n_estimators': range(50, 200),\n",
    "    'max_depth': range(5, 20),\n",
    "    'min_samples_leaf': range(10, 100),\n",
    "    'min_samples_split': range(10, 100)\n",
    "}\n",
    "\n",
    "# Track best model\n",
    "best_auc = 0\n",
    "best_params = None\n",
    "best_model = None\n",
    "\n",
    "# Simple random search\n",
    "for trial in range(n_trials):\n",
    "    with mlflow.start_run():\n",
    "        # Sample random parameters\n",
    "        params = {\n",
    "            'n_estimators': np.random.choice(param_ranges['n_estimators']),\n",
    "            'max_depth': np.random.choice(param_ranges['max_depth']),\n",
    "            'min_samples_leaf': np.random.choice(param_ranges['min_samples_leaf']),\n",
    "            'min_samples_split': np.random.choice(param_ranges['min_samples_split']),\n",
    "            'class_weight': 'balanced',\n",
    "            'n_jobs': -1,\n",
    "            'random_state': 1\n",
    "        }\n",
    "        \n",
    "        # Create and train pipeline\n",
    "        pipeline = make_pipeline(\n",
    "            DictVectorizer(),\n",
    "            RandomForestClassifier(**params)\n",
    "        )\n",
    "        pipeline.fit(train_dicts, y_train)\n",
    "        \n",
    "        # Evaluate\n",
    "        train_pred = pipeline.predict_proba(train_dicts)[:, 1]\n",
    "        val_pred = pipeline.predict_proba(val_dicts)[:, 1]\n",
    "        \n",
    "        train_auc = roc_auc_score(y_train, train_pred)\n",
    "        val_auc = roc_auc_score(y_val, val_pred)\n",
    "        \n",
    "        # Log with mlflow\n",
    "        mlflow.log_params(params)\n",
    "        mlflow.log_metrics({\n",
    "            'train_auc': train_auc,\n",
    "            'val_auc': val_auc\n",
    "        })\n",
    "        mlflow.sklearn.log_model(pipeline, \"model\")\n",
    "\n",
    "        # Update best model\n",
    "        if val_auc > best_auc:\n",
    "            best_auc = val_auc\n",
    "            best_params = params.copy()\n",
    "            best_model = pipeline\n",
    "            \n",
    "        print(f\"Trial {trial + 1}/{n_trials}:\")\n",
    "        print(f\"Params: {params}\")\n",
    "        print(f\"Train AUC: {train_auc:.4f}, Val AUC: {val_auc:.4f}\")\n",
    "        print(f\"Best Val AUC so far: {best_auc:.4f}\")\n",
    "        print()\n",
    "\n",
    "print(\"Best parameters:\", best_params)\n",
    "print(\"Best validation AUC:\", best_auc)"
   ]
  },
  {
   "cell_type": "code",
   "execution_count": null,
   "id": "561281b7-3490-44b2-83aa-06c5df4fa39c",
   "metadata": {},
   "outputs": [],
   "source": []
  }
 ],
 "metadata": {
  "kernelspec": {
   "display_name": "Python 3 (ipykernel)",
   "language": "python",
   "name": "python3"
  },
  "language_info": {
   "codemirror_mode": {
    "name": "ipython",
    "version": 3
   },
   "file_extension": ".py",
   "mimetype": "text/x-python",
   "name": "python",
   "nbconvert_exporter": "python",
   "pygments_lexer": "ipython3",
   "version": "3.12.1"
  }
 },
 "nbformat": 4,
 "nbformat_minor": 5
}
