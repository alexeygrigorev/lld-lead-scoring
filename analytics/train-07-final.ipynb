{
 "cells": [
  {
   "cell_type": "code",
   "execution_count": 1,
   "id": "228f0b0d-dff2-4cb6-9348-14cd5ce0f9ac",
   "metadata": {},
   "outputs": [],
   "source": [
    "from datetime import datetime, timedelta\n",
    "from collections import defaultdict\n",
    "\n",
    "import pandas as pd\n",
    "import numpy as np"
   ]
  },
  {
   "cell_type": "code",
   "execution_count": 2,
   "id": "c874b7c8-282f-40ac-9e8c-2f1d1b3145fd",
   "metadata": {},
   "outputs": [],
   "source": [
    "import matplotlib.pyplot as plt\n",
    "import seaborn as sns"
   ]
  },
  {
   "cell_type": "code",
   "execution_count": 3,
   "id": "d863c601-1f27-4603-9155-e8532633e096",
   "metadata": {},
   "outputs": [],
   "source": [
    "from sklearn.feature_extraction import DictVectorizer\n",
    "from sklearn.metrics import roc_auc_score\n",
    "from sklearn.pipeline import Pipeline, make_pipeline"
   ]
  },
  {
   "cell_type": "code",
   "execution_count": 4,
   "id": "2a21e51d-a39a-480b-92c7-f4a4ed4f6e67",
   "metadata": {},
   "outputs": [],
   "source": [
    "from sklearn.tree import DecisionTreeClassifier\n",
    "from sklearn.model_selection import GridSearchCV\n"
   ]
  },
  {
   "cell_type": "code",
   "execution_count": 5,
   "id": "69d21c5a-92dd-4067-a3df-1182c602d205",
   "metadata": {},
   "outputs": [
    {
     "data": {
      "text/plain": [
       "<Experiment: artifact_location='/workspaces/lld-lead-scoring/analytics/mlruns/2', creation_time=1731673524680, experiment_id='2', last_update_time=1731673524680, lifecycle_stage='active', name='decision_tree_tuning', tags={}>"
      ]
     },
     "execution_count": 5,
     "metadata": {},
     "output_type": "execute_result"
    }
   ],
   "source": [
    "import mlflow\n",
    "\n",
    "mlflow.set_tracking_uri(\"http://localhost:5000\")\n",
    "mlflow.set_experiment(\"model\")"
   ]
  },
  {
   "cell_type": "code",
   "execution_count": 6,
   "id": "225402d5-108d-43a8-a3a6-ed404668dd7e",
   "metadata": {},
   "outputs": [],
   "source": [
    "df_users = pd.read_csv('../data/random-users.csv')\n",
    "df_logs = pd.read_csv('../data/random-logs.csv')"
   ]
  },
  {
   "cell_type": "code",
   "execution_count": 7,
   "id": "39d03771-9e4b-4aea-a0f3-c4bb74521e8f",
   "metadata": {},
   "outputs": [],
   "source": [
    "def preprocess_required_features(df):\n",
    "    df = df.copy()\n",
    "    \n",
    "    def process_feature_string(feature_string):\n",
    "        features = [f.strip() for f in feature_string.split(',')]\n",
    "        return {f'required_feature_{feature}': 1 for feature in features}\n",
    "    \n",
    "    feature_dicts = df['required_features'].apply(process_feature_string)\n",
    "    df = df.drop('required_features', axis=1)\n",
    "    record_dicts = df.to_dict('records')\n",
    "    \n",
    "    for record, feature_dict in zip(record_dicts, feature_dicts):\n",
    "        record.update(feature_dict)\n",
    "    \n",
    "    return record_dicts"
   ]
  },
  {
   "cell_type": "code",
   "execution_count": 8,
   "id": "0ce182f6-437c-47df-8a6f-4e32c5d7a8e6",
   "metadata": {},
   "outputs": [],
   "source": [
    "def create_log_features(df_users, df_logs, cutoff_date):\n",
    "    df_logs_filtered = df_logs[df_logs['timestamp'] < cutoff_date].copy()\n",
    "    \n",
    "    engagement_metrics = df_logs_filtered.groupby('user_id').agg({\n",
    "        'timestamp': ['count', 'nunique'],  # Total actions and unique days\n",
    "        'duration_seconds': ['sum', 'mean', 'std']  # Time spent metrics\n",
    "    }).round(2)\n",
    "    \n",
    "    engagement_metrics.columns = [\n",
    "        'total_actions',\n",
    "        'active_days',\n",
    "        'total_duration',\n",
    "        'avg_duration',\n",
    "        'std_duration'\n",
    "    ]\n",
    "    \n",
    "    # Action category distribution\n",
    "    category_counts = df_logs_filtered.groupby(['user_id', 'action_category']).size().unstack(\n",
    "        fill_value=0\n",
    "    ).add_prefix('category_')\n",
    "    \n",
    "    # Action type distribution (top 10 most common)\n",
    "    top_actions = df_logs_filtered['action_type'].value_counts().nlargest(10).index\n",
    "    action_counts = df_logs_filtered[df_logs_filtered['action_type'].isin(top_actions)]\\\n",
    "        .groupby(['user_id', 'action_type']).size().unstack(fill_value=0).add_prefix('action_')\n",
    "    \n",
    "    # Time-based features\n",
    "    df_logs_filtered['hour'] = df_logs_filtered['timestamp'].dt.hour\n",
    "    time_metrics = df_logs_filtered.groupby('user_id').agg({\n",
    "        'hour': lambda x: len(x[x.between(9, 17)]) / len(x)  # Fraction of activity during business hours\n",
    "    }).round(2)\n",
    "    time_metrics.columns = ['business_hours_ratio']\n",
    "    \n",
    "    # Activity patterns\n",
    "    df_logs_filtered['days_since_signup'] = (\n",
    "        df_logs_filtered['timestamp'] - \n",
    "        df_logs_filtered['user_id'].map(df_users.set_index('user_id')['signup_date'])\n",
    "    ).dt.days\n",
    "    \n",
    "    recency_metrics = df_logs_filtered.groupby('user_id').agg({\n",
    "        'days_since_signup': ['min', 'max']\n",
    "    }).round(2)\n",
    "    recency_metrics.columns = ['days_to_first_action', 'days_to_last_action']\n",
    "    \n",
    "    # Advanced engagement metrics\n",
    "    df_logs_filtered['prev_timestamp'] = df_logs_filtered.groupby('user_id')['timestamp'].shift(1)\n",
    "    df_logs_filtered['time_between_actions'] = (\n",
    "        df_logs_filtered['timestamp'] - df_logs_filtered['prev_timestamp']\n",
    "    ).dt.total_seconds() / 3600  # Convert to hours\n",
    "    \n",
    "    engagement_patterns = df_logs_filtered.groupby('user_id').agg({\n",
    "        'time_between_actions': ['mean', 'std']\n",
    "    }).round(2)\n",
    "    engagement_patterns.columns = ['avg_hours_between_actions', 'std_hours_between_actions']\n",
    "    \n",
    "    # Feature importance indicators\n",
    "    feature_exploration = df_logs_filtered[\n",
    "        df_logs_filtered['action_type'] == 'view_features'\n",
    "    ].groupby('user_id').size().to_frame('feature_views')\n",
    "    \n",
    "    # Combine all features\n",
    "    log_features = pd.concat([\n",
    "        engagement_metrics,\n",
    "        category_counts,\n",
    "        action_counts,\n",
    "        time_metrics,\n",
    "        recency_metrics,\n",
    "        engagement_patterns,\n",
    "        feature_exploration\n",
    "    ], axis=1).reset_index()\n",
    "    \n",
    "    # Fill NaN values with 0 for new users or users with missing metrics\n",
    "    log_features = log_features.fillna(0)\n",
    "    \n",
    "    return log_features\n",
    "\n",
    "\n",
    "def prepare_lead_scoring_data(df_users, df_logs, train_end_date, val_end_date):\n",
    "    df_users = df_users.copy()\n",
    "    df_logs = df_logs.copy()\n",
    "    \n",
    "    df_users['signup_date'] = pd.to_datetime(df_users['signup_date'])\n",
    "    df_logs['timestamp'] = pd.to_datetime(df_logs['timestamp'])\n",
    "    \n",
    "    train_end_date = pd.to_datetime(train_end_date)\n",
    "    val_end_date = pd.to_datetime(val_end_date)\n",
    "    \n",
    "    train_mask = df_users['signup_date'] < train_end_date\n",
    "    val_mask = (df_users['signup_date'] >= train_end_date) & (df_users['signup_date'] < val_end_date)\n",
    "    test_mask = df_users['signup_date'] >= val_end_date\n",
    "    \n",
    "    df_train = df_users[train_mask].copy()\n",
    "    df_val = df_users[val_mask].copy()\n",
    "    df_test = df_users[test_mask].copy()\n",
    "    \n",
    "    train_features = create_log_features(df_users, df_logs, train_end_date)\n",
    "    val_features = create_log_features(df_users, df_logs, val_end_date)\n",
    "    test_features = create_log_features(df_users, df_logs, df_logs['timestamp'].max())\n",
    "\n",
    "    df_train = df_train.merge(train_features, on='user_id', how='left')\n",
    "    df_val = df_val.merge(val_features, on='user_id', how='left')\n",
    "    df_test = df_test.merge(test_features, on='user_id', how='left')\n",
    "\n",
    "    return df_train, df_val, df_test"
   ]
  },
  {
   "cell_type": "code",
   "execution_count": 9,
   "id": "6e21c5b0-a1ae-4a00-91b1-4bd3d29d469d",
   "metadata": {},
   "outputs": [],
   "source": [
    "df_train, df_val, df_test = prepare_lead_scoring_data(\n",
    "    df_users,\n",
    "    df_logs,\n",
    "    train_end_date='2024-03-01',\n",
    "    val_end_date='2024-03-15'\n",
    ")"
   ]
  },
  {
   "cell_type": "code",
   "execution_count": 10,
   "id": "be980606-f060-44ab-a955-465c3113fe70",
   "metadata": {},
   "outputs": [],
   "source": [
    "def prepare_features(df):\n",
    "    df = df.copy()\n",
    "    \n",
    "    date_columns = ['signup_date', 'conversion_date']\n",
    "    exclude_columns = ['user_id', 'converted'] + date_columns\n",
    "\n",
    "    df = df.drop(columns=exclude_columns)\n",
    "    df = df.fillna(0)\n",
    "    feature_dict = preprocess_required_features(df)\n",
    "\n",
    "    return feature_dict\n",
    "\n",
    "train_dicts = prepare_features(df_train)\n",
    "val_dicts = prepare_features(df_val)\n",
    "test_dicts = prepare_features(df_test)\n",
    "\n",
    "y_train = df_train['converted'].values\n",
    "y_val = df_val['converted'].values\n",
    "y_test = df_test['converted'].values"
   ]
  },
  {
   "cell_type": "code",
   "execution_count": 11,
   "id": "3eac54ba-c329-4842-bc92-0012a757371a",
   "metadata": {},
   "outputs": [],
   "source": [
    "from sklearn.ensemble import RandomForestClassifier"
   ]
  },
  {
   "cell_type": "code",
   "execution_count": 29,
   "id": "a318c438-2b44-4627-9ecd-bbe712999b6b",
   "metadata": {},
   "outputs": [
    {
     "name": "stdout",
     "output_type": "stream",
     "text": [
      "Test AUC: 0.6730\n"
     ]
    },
    {
     "name": "stderr",
     "output_type": "stream",
     "text": [
      "2024/11/17 15:16:58 WARNING mlflow.models.model: Model logged without a signature and input example. Please set `input_example` parameter when logging the model to auto infer the model signature.\n",
      "2024/11/17 15:16:58 INFO mlflow.tracking._tracking_service.client: 🏃 View run nebulous-dove-608 at: http://localhost:5000/#/experiments/5/runs/92db624fe3e149dba3d0b5f9166e2c23.\n",
      "2024/11/17 15:16:58 INFO mlflow.tracking._tracking_service.client: 🧪 View experiment at: http://localhost:5000/#/experiments/5.\n"
     ]
    }
   ],
   "source": [
    "with mlflow.start_run():\n",
    "    model_params = {\n",
    "        'n_estimators': 75,\n",
    "        'max_depth': 9,\n",
    "        'min_samples_leaf': 43,\n",
    "        'min_samples_split': 98,\n",
    "        'class_weight': 'balanced',\n",
    "        'random_state': 1\n",
    "    }\n",
    "    mlflow.log_params(model_params)\n",
    "\n",
    "    pipeline = make_pipeline(\n",
    "        DictVectorizer(),\n",
    "        RandomForestClassifier(**model_params)\n",
    "    )\n",
    "\n",
    "    full_train = train_dicts + val_dicts\n",
    "    y_full = np.concatenate([y_train, y_val])\n",
    "    pipeline.fit(full_train, y_full)\n",
    "        \n",
    "    # Calculate and log test AUC\n",
    "    y_test_pred = pipeline.predict_proba(test_dicts)[:, 1]\n",
    "    test_auc = roc_auc_score(y_test, y_test_pred)\n",
    "    mlflow.log_metric(\"test_auc\", test_auc)\n",
    "    print(f\"Test AUC: {test_auc:.4f}\")\n",
    "\n",
    "    all_data = train_dicts + val_dicts + test_dicts\n",
    "    y_all = np.concatenate([y_train, y_val, y_test])\n",
    "\n",
    "    final_model = make_pipeline(\n",
    "        DictVectorizer(),\n",
    "        RandomForestClassifier(**model_params)\n",
    "    )\n",
    "\n",
    "    final_model.fit(all_data, y_all)\n",
    "    mlflow.sklearn.log_model(final_model, \"final_model\")"
   ]
  },
  {
   "cell_type": "code",
   "execution_count": null,
   "id": "a37fafd6-f225-442a-ac28-0a9813558fd8",
   "metadata": {},
   "outputs": [],
   "source": []
  },
  {
   "cell_type": "code",
   "execution_count": null,
   "id": "a9c6f9aa-d229-49b0-a21a-34c387e73bc5",
   "metadata": {},
   "outputs": [],
   "source": []
  },
  {
   "cell_type": "code",
   "execution_count": null,
   "id": "4456012f-a3fb-4506-8a02-eda3b25402c4",
   "metadata": {},
   "outputs": [],
   "source": []
  },
  {
   "cell_type": "code",
   "execution_count": 44,
   "id": "48c25c38-f4fd-40d2-853f-85c82beabdd1",
   "metadata": {
    "scrolled": true
   },
   "outputs": [
    {
     "data": {
      "text/plain": [
       "array([0.51194242, 0.57780521, 0.47095262, 0.45629817, 0.50553459,\n",
       "       0.47032588, 0.5232474 , 0.4640846 , 0.43753661, 0.52722325,\n",
       "       0.50566772, 0.49709642, 0.59600523, 0.50765233, 0.40345121,\n",
       "       0.5184669 , 0.43234984, 0.54414709, 0.54570905, 0.60975858,\n",
       "       0.50432322, 0.66253257, 0.47661752, 0.44360253, 0.518128  ,\n",
       "       0.25659342, 0.29937138, 0.36437496, 0.45766425, 0.50134832,\n",
       "       0.54787848, 0.36529574, 0.61626696, 0.53231782, 0.54853905,\n",
       "       0.37509222, 0.49399716, 0.53419116, 0.5659114 , 0.52065272,\n",
       "       0.30012428, 0.510526  , 0.33549252, 0.48410629, 0.54317495,\n",
       "       0.48383985, 0.57280271, 0.50310186, 0.45913881, 0.51469294,\n",
       "       0.45068373, 0.64320719, 0.62766363, 0.48621956, 0.5794546 ,\n",
       "       0.31482529, 0.51602372, 0.45812934, 0.38019153, 0.48037609,\n",
       "       0.4668738 , 0.50397325, 0.59900223, 0.35564385, 0.58768787,\n",
       "       0.49251879, 0.3828128 , 0.55015086, 0.45099531, 0.55814729,\n",
       "       0.34858624, 0.48465322, 0.50716374, 0.38920424, 0.40912055,\n",
       "       0.42645442, 0.63552645, 0.50783052, 0.5451023 , 0.39184626,\n",
       "       0.44994006, 0.40804266, 0.44290905, 0.27917655, 0.52007144,\n",
       "       0.53165937, 0.53085291, 0.46480818, 0.55236717, 0.53367052,\n",
       "       0.47087722, 0.4986138 , 0.51685025, 0.47292208, 0.61172296,\n",
       "       0.58567755, 0.42921282, 0.37704339, 0.44844215, 0.50202036,\n",
       "       0.38288261, 0.56476126, 0.39188477, 0.58815329, 0.4786225 ,\n",
       "       0.44512142, 0.4821301 , 0.31177816, 0.57865217, 0.4289736 ,\n",
       "       0.5029847 , 0.46924743, 0.38906235, 0.54461574, 0.49056957,\n",
       "       0.42079325, 0.39989856, 0.56792301, 0.53457989, 0.34128463,\n",
       "       0.46501956, 0.37097985, 0.48601228, 0.44943752, 0.5697708 ,\n",
       "       0.48244841, 0.31131578, 0.53001776, 0.64466645, 0.45539847,\n",
       "       0.45963375, 0.4275713 , 0.57612932, 0.59408681, 0.50585646,\n",
       "       0.53645935, 0.39762372, 0.48882668, 0.38919535, 0.53066653,\n",
       "       0.54611687, 0.47707625, 0.58731671, 0.51411269, 0.44407199,\n",
       "       0.5803916 , 0.51729504, 0.55860877, 0.43177685, 0.47565708,\n",
       "       0.54894417, 0.51581176, 0.56821188, 0.40940829, 0.53913292,\n",
       "       0.5368886 , 0.4706704 , 0.52417288, 0.34506553, 0.31244354,\n",
       "       0.49225678, 0.54405142, 0.5071778 , 0.31311132, 0.5150079 ,\n",
       "       0.41897156, 0.56152595, 0.47818808, 0.47818594, 0.51969333,\n",
       "       0.54832411, 0.51653946, 0.50232711, 0.45560585, 0.28361598,\n",
       "       0.44915164, 0.53546843, 0.60298192, 0.28012347, 0.61026902,\n",
       "       0.43838962, 0.5183728 , 0.55636686, 0.33213676, 0.50405553,\n",
       "       0.56520199, 0.47261988, 0.38988011, 0.4838652 , 0.56091617,\n",
       "       0.4309268 , 0.50995531, 0.47842032, 0.53015171, 0.58507492,\n",
       "       0.58617716, 0.51527023, 0.46718869, 0.51859083, 0.49325933,\n",
       "       0.5375079 , 0.52907491, 0.48139217, 0.54884442, 0.55758891,\n",
       "       0.59353945, 0.50335512, 0.42584497, 0.55989095, 0.51770151,\n",
       "       0.48213055, 0.52321162, 0.51690117, 0.52415204, 0.32127775,\n",
       "       0.52521088, 0.45076256, 0.50132751, 0.50422533, 0.53182357,\n",
       "       0.49969998, 0.56754742, 0.45800994, 0.70413437, 0.59391306,\n",
       "       0.61055032, 0.50804144, 0.36115414, 0.53464641, 0.60198997,\n",
       "       0.54534843, 0.54280976, 0.56511923, 0.39490302, 0.42845658,\n",
       "       0.43664495, 0.58135426, 0.3485612 , 0.46814397, 0.55709676,\n",
       "       0.50561536, 0.62708156, 0.60384612, 0.63764104, 0.61928097,\n",
       "       0.64183655, 0.46237054, 0.35544514, 0.46978784, 0.51085804,\n",
       "       0.50903679, 0.4366473 , 0.50024219, 0.56697431, 0.49282544,\n",
       "       0.45779988, 0.39607425, 0.53405603, 0.4450777 , 0.55523973,\n",
       "       0.45490565, 0.48286402, 0.52453136, 0.32517162, 0.53421976,\n",
       "       0.30207468, 0.35651384, 0.52253678, 0.54736901, 0.34627882,\n",
       "       0.50998402, 0.55980833, 0.54730431, 0.31092212, 0.49565624,\n",
       "       0.5042622 , 0.54490901, 0.46333583, 0.61351695, 0.5201556 ,\n",
       "       0.69560809, 0.4664867 , 0.47095521, 0.59388932, 0.71649063,\n",
       "       0.52791149, 0.40666143, 0.51499165, 0.52391847, 0.34284079,\n",
       "       0.51941422, 0.54992594, 0.55305257, 0.58556307, 0.4882231 ,\n",
       "       0.46989859, 0.60617795, 0.45567846, 0.51812059, 0.38428171,\n",
       "       0.53194555, 0.25300845, 0.50744283, 0.52644422, 0.53413348,\n",
       "       0.56979535, 0.48851015])"
      ]
     },
     "execution_count": 44,
     "metadata": {},
     "output_type": "execute_result"
    }
   ],
   "source": [
    "logged_model = 'runs:/92db624fe3e149dba3d0b5f9166e2c23/final_model'\n",
    "loaded_model = mlflow.sklearn.load_model(logged_model)\n",
    "loaded_model.predict_proba(val_dicts)[:, 1]"
   ]
  },
  {
   "cell_type": "code",
   "execution_count": null,
   "id": "783917c9-5943-4109-82bb-986cdb208902",
   "metadata": {},
   "outputs": [],
   "source": []
  }
 ],
 "metadata": {
  "kernelspec": {
   "display_name": "Python 3 (ipykernel)",
   "language": "python",
   "name": "python3"
  },
  "language_info": {
   "codemirror_mode": {
    "name": "ipython",
    "version": 3
   },
   "file_extension": ".py",
   "mimetype": "text/x-python",
   "name": "python",
   "nbconvert_exporter": "python",
   "pygments_lexer": "ipython3",
   "version": "3.12.1"
  }
 },
 "nbformat": 4,
 "nbformat_minor": 5
}
